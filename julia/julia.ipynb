{
 "cells": [
  {
   "cell_type": "code",
   "execution_count": 1,
   "metadata": {},
   "outputs": [
    {
     "name": "stdout",
     "output_type": "stream",
     "text": [
      "Julia Version 1.9.3\n",
      "Commit bed2cd540a1 (2023-08-24 14:43 UTC)\n",
      "Build Info:\n",
      "  Official https://julialang.org/ release\n",
      "Platform Info:\n",
      "  OS: macOS (arm64-apple-darwin22.4.0)\n",
      "  CPU: 8 × Apple M2\n",
      "  WORD_SIZE: 64\n",
      "  LIBM: libopenlibm\n",
      "  LLVM: libLLVM-14.0.6 (ORCJIT, apple-m1)\n",
      "  Threads: 1 on 4 virtual cores\n",
      "Environment:\n",
      "  JULIA_NUM_THREADS = \n"
     ]
    }
   ],
   "source": [
    "versioninfo()"
   ]
  },
  {
   "cell_type": "code",
   "execution_count": 2,
   "metadata": {},
   "outputs": [],
   "source": [
    "using Pkg, Optim\n",
    "using DataFrames, Plots, CSV\n",
    "using LinearAlgebra\n",
    "using Distributions\n",
    "using Roots"
   ]
  },
  {
   "cell_type": "code",
   "execution_count": 5,
   "metadata": {},
   "outputs": [
    {
     "data": {
      "text/html": [
       "<div><div style = \"float: left;\"><span>607×4 DataFrame</span></div><div style = \"float: right;\"><span style = \"font-style: italic;\">582 rows omitted</span></div><div style = \"clear: both;\"></div></div><div class = \"data-frame\" style = \"overflow-x: scroll;\"><table class = \"data-frame\" style = \"margin-bottom: 6px;\"><thead><tr class = \"header\"><th class = \"rowNumber\" style = \"font-weight: bold; text-align: right;\">Row</th><th style = \"text-align: left;\">node</th><th style = \"text-align: left;\">edge</th><th style = \"text-align: left;\">node_norm</th><th style = \"text-align: left;\">edge_norm</th></tr><tr class = \"subheader headerLastRow\"><th class = \"rowNumber\" style = \"font-weight: bold; text-align: right;\"></th><th title = \"Int64\" style = \"text-align: left;\">Int64</th><th title = \"Int64\" style = \"text-align: left;\">Int64</th><th title = \"Int64\" style = \"text-align: left;\">Int64</th><th title = \"Int64\" style = \"text-align: left;\">Int64</th></tr></thead><tbody><tr><td class = \"rowNumber\" style = \"font-weight: bold; text-align: right;\">1</td><td style = \"text-align: right;\">136</td><td style = \"text-align: right;\">221</td><td style = \"text-align: right;\">32</td><td style = \"text-align: right;\">32</td></tr><tr><td class = \"rowNumber\" style = \"font-weight: bold; text-align: right;\">2</td><td style = \"text-align: right;\">173</td><td style = \"text-align: right;\">312</td><td style = \"text-align: right;\">69</td><td style = \"text-align: right;\">123</td></tr><tr><td class = \"rowNumber\" style = \"font-weight: bold; text-align: right;\">3</td><td style = \"text-align: right;\">215</td><td style = \"text-align: right;\">368</td><td style = \"text-align: right;\">111</td><td style = \"text-align: right;\">179</td></tr><tr><td class = \"rowNumber\" style = \"font-weight: bold; text-align: right;\">4</td><td style = \"text-align: right;\">217</td><td style = \"text-align: right;\">494</td><td style = \"text-align: right;\">113</td><td style = \"text-align: right;\">305</td></tr><tr><td class = \"rowNumber\" style = \"font-weight: bold; text-align: right;\">5</td><td style = \"text-align: right;\">222</td><td style = \"text-align: right;\">663</td><td style = \"text-align: right;\">118</td><td style = \"text-align: right;\">474</td></tr><tr><td class = \"rowNumber\" style = \"font-weight: bold; text-align: right;\">6</td><td style = \"text-align: right;\">228</td><td style = \"text-align: right;\">457</td><td style = \"text-align: right;\">124</td><td style = \"text-align: right;\">268</td></tr><tr><td class = \"rowNumber\" style = \"font-weight: bold; text-align: right;\">7</td><td style = \"text-align: right;\">238</td><td style = \"text-align: right;\">645</td><td style = \"text-align: right;\">134</td><td style = \"text-align: right;\">456</td></tr><tr><td class = \"rowNumber\" style = \"font-weight: bold; text-align: right;\">8</td><td style = \"text-align: right;\">241</td><td style = \"text-align: right;\">521</td><td style = \"text-align: right;\">137</td><td style = \"text-align: right;\">332</td></tr><tr><td class = \"rowNumber\" style = \"font-weight: bold; text-align: right;\">9</td><td style = \"text-align: right;\">258</td><td style = \"text-align: right;\">782</td><td style = \"text-align: right;\">154</td><td style = \"text-align: right;\">593</td></tr><tr><td class = \"rowNumber\" style = \"font-weight: bold; text-align: right;\">10</td><td style = \"text-align: right;\">264</td><td style = \"text-align: right;\">584</td><td style = \"text-align: right;\">160</td><td style = \"text-align: right;\">395</td></tr><tr><td class = \"rowNumber\" style = \"font-weight: bold; text-align: right;\">11</td><td style = \"text-align: right;\">274</td><td style = \"text-align: right;\">1064</td><td style = \"text-align: right;\">170</td><td style = \"text-align: right;\">875</td></tr><tr><td class = \"rowNumber\" style = \"font-weight: bold; text-align: right;\">12</td><td style = \"text-align: right;\">281</td><td style = \"text-align: right;\">643</td><td style = \"text-align: right;\">177</td><td style = \"text-align: right;\">454</td></tr><tr><td class = \"rowNumber\" style = \"font-weight: bold; text-align: right;\">13</td><td style = \"text-align: right;\">285</td><td style = \"text-align: right;\">737</td><td style = \"text-align: right;\">181</td><td style = \"text-align: right;\">548</td></tr><tr><td style = \"text-align: right;\">&vellip;</td><td style = \"text-align: right;\">&vellip;</td><td style = \"text-align: right;\">&vellip;</td><td style = \"text-align: right;\">&vellip;</td><td style = \"text-align: right;\">&vellip;</td></tr><tr><td class = \"rowNumber\" style = \"font-weight: bold; text-align: right;\">596</td><td style = \"text-align: right;\">599</td><td style = \"text-align: right;\">28155</td><td style = \"text-align: right;\">495</td><td style = \"text-align: right;\">27966</td></tr><tr><td class = \"rowNumber\" style = \"font-weight: bold; text-align: right;\">597</td><td style = \"text-align: right;\">599</td><td style = \"text-align: right;\">20614</td><td style = \"text-align: right;\">495</td><td style = \"text-align: right;\">20425</td></tr><tr><td class = \"rowNumber\" style = \"font-weight: bold; text-align: right;\">598</td><td style = \"text-align: right;\">604</td><td style = \"text-align: right;\">24892</td><td style = \"text-align: right;\">500</td><td style = \"text-align: right;\">24703</td></tr><tr><td class = \"rowNumber\" style = \"font-weight: bold; text-align: right;\">599</td><td style = \"text-align: right;\">604</td><td style = \"text-align: right;\">24250</td><td style = \"text-align: right;\">500</td><td style = \"text-align: right;\">24061</td></tr><tr><td class = \"rowNumber\" style = \"font-weight: bold; text-align: right;\">600</td><td style = \"text-align: right;\">606</td><td style = \"text-align: right;\">19156</td><td style = \"text-align: right;\">502</td><td style = \"text-align: right;\">18967</td></tr><tr><td class = \"rowNumber\" style = \"font-weight: bold; text-align: right;\">601</td><td style = \"text-align: right;\">606</td><td style = \"text-align: right;\">22401</td><td style = \"text-align: right;\">502</td><td style = \"text-align: right;\">22212</td></tr><tr><td class = \"rowNumber\" style = \"font-weight: bold; text-align: right;\">602</td><td style = \"text-align: right;\">607</td><td style = \"text-align: right;\">22122</td><td style = \"text-align: right;\">503</td><td style = \"text-align: right;\">21933</td></tr><tr><td class = \"rowNumber\" style = \"font-weight: bold; text-align: right;\">603</td><td style = \"text-align: right;\">609</td><td style = \"text-align: right;\">32694</td><td style = \"text-align: right;\">505</td><td style = \"text-align: right;\">32505</td></tr><tr><td class = \"rowNumber\" style = \"font-weight: bold; text-align: right;\">604</td><td style = \"text-align: right;\">609</td><td style = \"text-align: right;\">20769</td><td style = \"text-align: right;\">505</td><td style = \"text-align: right;\">20580</td></tr><tr><td class = \"rowNumber\" style = \"font-weight: bold; text-align: right;\">605</td><td style = \"text-align: right;\">610</td><td style = \"text-align: right;\">27349</td><td style = \"text-align: right;\">506</td><td style = \"text-align: right;\">27160</td></tr><tr><td class = \"rowNumber\" style = \"font-weight: bold; text-align: right;\">606</td><td style = \"text-align: right;\">613</td><td style = \"text-align: right;\">21726</td><td style = \"text-align: right;\">509</td><td style = \"text-align: right;\">21537</td></tr><tr><td class = \"rowNumber\" style = \"font-weight: bold; text-align: right;\">607</td><td style = \"text-align: right;\">618</td><td style = \"text-align: right;\">21723</td><td style = \"text-align: right;\">514</td><td style = \"text-align: right;\">21534</td></tr></tbody></table></div>"
      ],
      "text/latex": [
       "\\begin{tabular}{r|cccc}\n",
       "\t& node & edge & node\\_norm & edge\\_norm\\\\\n",
       "\t\\hline\n",
       "\t& Int64 & Int64 & Int64 & Int64\\\\\n",
       "\t\\hline\n",
       "\t1 & 136 & 221 & 32 & 32 \\\\\n",
       "\t2 & 173 & 312 & 69 & 123 \\\\\n",
       "\t3 & 215 & 368 & 111 & 179 \\\\\n",
       "\t4 & 217 & 494 & 113 & 305 \\\\\n",
       "\t5 & 222 & 663 & 118 & 474 \\\\\n",
       "\t6 & 228 & 457 & 124 & 268 \\\\\n",
       "\t7 & 238 & 645 & 134 & 456 \\\\\n",
       "\t8 & 241 & 521 & 137 & 332 \\\\\n",
       "\t9 & 258 & 782 & 154 & 593 \\\\\n",
       "\t10 & 264 & 584 & 160 & 395 \\\\\n",
       "\t11 & 274 & 1064 & 170 & 875 \\\\\n",
       "\t12 & 281 & 643 & 177 & 454 \\\\\n",
       "\t13 & 285 & 737 & 181 & 548 \\\\\n",
       "\t14 & 289 & 698 & 185 & 509 \\\\\n",
       "\t15 & 294 & 687 & 190 & 498 \\\\\n",
       "\t16 & 295 & 907 & 191 & 718 \\\\\n",
       "\t17 & 298 & 844 & 194 & 655 \\\\\n",
       "\t18 & 310 & 1112 & 206 & 923 \\\\\n",
       "\t19 & 316 & 880 & 212 & 691 \\\\\n",
       "\t20 & 321 & 1275 & 217 & 1086 \\\\\n",
       "\t21 & 326 & 1163 & 222 & 974 \\\\\n",
       "\t22 & 328 & 1089 & 224 & 900 \\\\\n",
       "\t23 & 328 & 1045 & 224 & 856 \\\\\n",
       "\t24 & 329 & 1430 & 225 & 1241 \\\\\n",
       "\t$\\dots$ & $\\dots$ & $\\dots$ & $\\dots$ & $\\dots$ \\\\\n",
       "\\end{tabular}\n"
      ],
      "text/plain": [
       "\u001b[1m607×4 DataFrame\u001b[0m\n",
       "\u001b[1m Row \u001b[0m│\u001b[1m node  \u001b[0m\u001b[1m edge  \u001b[0m\u001b[1m node_norm \u001b[0m\u001b[1m edge_norm \u001b[0m\n",
       "     │\u001b[90m Int64 \u001b[0m\u001b[90m Int64 \u001b[0m\u001b[90m Int64     \u001b[0m\u001b[90m Int64     \u001b[0m\n",
       "─────┼────────────────────────────────────\n",
       "   1 │   136    221         32         32\n",
       "   2 │   173    312         69        123\n",
       "   3 │   215    368        111        179\n",
       "   4 │   217    494        113        305\n",
       "   5 │   222    663        118        474\n",
       "   6 │   228    457        124        268\n",
       "   7 │   238    645        134        456\n",
       "   8 │   241    521        137        332\n",
       "  ⋮  │   ⋮      ⋮        ⋮          ⋮\n",
       " 601 │   606  22401        502      22212\n",
       " 602 │   607  22122        503      21933\n",
       " 603 │   609  32694        505      32505\n",
       " 604 │   609  20769        505      20580\n",
       " 605 │   610  27349        506      27160\n",
       " 606 │   613  21726        509      21537\n",
       " 607 │   618  21723        514      21534\n",
       "\u001b[36m                          592 rows omitted\u001b[0m"
      ]
     },
     "metadata": {},
     "output_type": "display_data"
    }
   ],
   "source": [
    "# csvを読み込む\n",
    "df = CSV.read(\"../data/df_left.csv\", DataFrame)"
   ]
  },
  {
   "cell_type": "code",
   "execution_count": null,
   "metadata": {},
   "outputs": [],
   "source": [
    "node = df[!, :node_norm]\n",
    "node = convert(Array{Float64, 1}, node)\n",
    "node"
   ]
  },
  {
   "cell_type": "code",
   "execution_count": null,
   "metadata": {},
   "outputs": [],
   "source": [
    "edge = df[!, :edge_norm]\n",
    "edge = convert(Array{Float64, 1}, edge)\n",
    "edge"
   ]
  },
  {
   "cell_type": "code",
   "execution_count": 8,
   "metadata": {},
   "outputs": [
    {
     "data": {
      "text/plain": [
       "model2 (generic function with 1 method)"
      ]
     },
     "metadata": {},
     "output_type": "display_data"
    }
   ],
   "source": [
    "# model2を定義\n",
    "function model2(x, Np)\n",
    "    kappa = (8x[0])/(Np(Np-1))\n",
    "    N = Np(1-(2/kappa*Np)(1-(1-(kappa/2))^Np))\n",
    "    return N\n",
    "end"
   ]
  },
  {
   "cell_type": "code",
   "execution_count": 9,
   "metadata": {},
   "outputs": [
    {
     "data": {
      "text/plain": [
       "sqerror (generic function with 1 method)"
      ]
     },
     "metadata": {},
     "output_type": "display_data"
    }
   ],
   "source": [
    "function sqerror(x, y, Np)\n",
    "    return (model2(x, Np) - y)^2\n",
    "end"
   ]
  },
  {
   "cell_type": "code",
   "execution_count": 10,
   "metadata": {},
   "outputs": [
    {
     "ename": "BoundsError",
     "evalue": "BoundsError: attempt to access 1-element Vector{Float64} at index [0]",
     "output_type": "error",
     "traceback": [
      "BoundsError: attempt to access 1-element Vector{Float64} at index [0]\n",
      "\n",
      "Stacktrace:\n",
      "  [1] getindex\n",
      "    @ ./essentials.jl:13 [inlined]\n",
      "  [2] model2(x::Vector{Float64}, Np::Int64)\n",
      "    @ Main ~/dev/master_ver2/julia/julia.ipynb:3\n",
      "  [3] sqerror(x::Vector{Float64}, y::Vector{Float64}, Np::Int64)\n",
      "    @ Main ~/dev/master_ver2/julia/julia.ipynb:2\n",
      "  [4] (::var\"#11#12\")(x::Vector{Float64})\n",
      "    @ Main ~/dev/master_ver2/julia/julia.ipynb:1\n",
      "  [5] #finite_difference_gradient!#10\n",
      "    @ ~/.julia/packages/FiniteDiff/grio1/src/gradients.jl:318 [inlined]\n",
      "  [6] finite_difference_gradient!\n",
      "    @ ~/.julia/packages/FiniteDiff/grio1/src/gradients.jl:258 [inlined]\n",
      "  [7] (::NLSolversBase.var\"#g!#15\"{var\"#11#12\", FiniteDiff.GradientCache{Nothing, Nothing, Nothing, Vector{Float64}, Val{:central}(), Float64, Val{true}()}})(storage::Vector{Float64}, x::Vector{Float64})\n",
      "    @ NLSolversBase ~/.julia/packages/NLSolversBase/kavn7/src/objective_types/oncedifferentiable.jl:57\n",
      "  [8] (::NLSolversBase.var\"#fg!#16\"{var\"#11#12\"})(storage::Vector{Float64}, x::Vector{Float64})\n",
      "    @ NLSolversBase ~/.julia/packages/NLSolversBase/kavn7/src/objective_types/oncedifferentiable.jl:61\n",
      "  [9] value_gradient!!(obj::OnceDifferentiable{Float64, Vector{Float64}, Vector{Float64}}, x::Vector{Float64})\n",
      "    @ NLSolversBase ~/.julia/packages/NLSolversBase/kavn7/src/interface.jl:82\n",
      " [10] initial_state(method::BFGS{LineSearches.InitialStatic{Float64}, LineSearches.HagerZhang{Float64, Base.RefValue{Bool}}, Nothing, Nothing, Flat}, options::Optim.Options{Float64, Nothing}, d::OnceDifferentiable{Float64, Vector{Float64}, Vector{Float64}}, initial_x::Vector{Float64})\n",
      "    @ Optim ~/.julia/packages/Optim/V8ZEC/src/multivariate/solvers/first_order/bfgs.jl:94\n",
      " [11] optimize\n",
      "    @ ~/.julia/packages/Optim/V8ZEC/src/multivariate/optimize/optimize.jl:36 [inlined]\n",
      " [12] #optimize#89\n",
      "    @ ~/.julia/packages/Optim/V8ZEC/src/multivariate/optimize/interface.jl:143 [inlined]\n",
      " [13] optimize\n",
      "    @ ~/.julia/packages/Optim/V8ZEC/src/multivariate/optimize/interface.jl:139 [inlined]\n",
      " [14] optimize(f::Function, initial_x::Vector{Float64}, method::BFGS{LineSearches.InitialStatic{Float64}, LineSearches.HagerZhang{Float64, Base.RefValue{Bool}}, Nothing, Nothing, Flat})\n",
      "    @ Optim ~/.julia/packages/Optim/V8ZEC/src/multivariate/optimize/interface.jl:139\n",
      " [15] top-level scope\n",
      "    @ ~/dev/master_ver2/julia/julia.ipynb:1"
     ]
    }
   ],
   "source": [
    "res = optimize(sqerror(x, node, 100), [0.1], BFGS())\n",
    "params = res.minimizer\n",
    "print(params)"
   ]
  },
  {
   "cell_type": "code",
   "execution_count": null,
   "metadata": {},
   "outputs": [],
   "source": []
  },
  {
   "cell_type": "code",
   "execution_count": null,
   "metadata": {},
   "outputs": [],
   "source": []
  },
  {
   "cell_type": "code",
   "execution_count": null,
   "metadata": {},
   "outputs": [],
   "source": []
  },
  {
   "cell_type": "code",
   "execution_count": null,
   "metadata": {},
   "outputs": [],
   "source": []
  },
  {
   "cell_type": "code",
   "execution_count": 11,
   "metadata": {},
   "outputs": [
    {
     "data": {
      "text/plain": [
       " * Status: success\n",
       "\n",
       " * Candidate solution\n",
       "    Final objective value:     4.000000e+00\n",
       "\n",
       " * Found with\n",
       "    Algorithm:     Nelder-Mead\n",
       "\n",
       " * Convergence measures\n",
       "    √(Σ(yᵢ-ȳ)²)/n ≤ 1.0e-08\n",
       "\n",
       " * Work counters\n",
       "    Seconds run:   0  (vs limit Inf)\n",
       "    Iterations:    9\n",
       "    f(x) calls:    21\n"
      ]
     },
     "metadata": {},
     "output_type": "display_data"
    }
   ],
   "source": [
    "# テスト\n",
    "f(x) = (x[1] - 2)^2 + 4\n",
    "res = optimize(f, [1.], method = NelderMead())"
   ]
  }
 ],
 "metadata": {
  "kernelspec": {
   "display_name": "Julia 1.9.3",
   "language": "julia",
   "name": "julia-1.9"
  },
  "language_info": {
   "file_extension": ".jl",
   "mimetype": "application/julia",
   "name": "julia",
   "version": "1.9.3"
  }
 },
 "nbformat": 4,
 "nbformat_minor": 2
}

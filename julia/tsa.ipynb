{
 "cells": [
  {
   "cell_type": "code",
   "execution_count": 7,
   "metadata": {},
   "outputs": [
    {
     "ename": "ArgumentError",
     "evalue": "ArgumentError: Package DataTimes not found in current path.\n- Run `import Pkg; Pkg.add(\"DataTimes\")` to install the DataTimes package.",
     "output_type": "error",
     "traceback": [
      "ArgumentError: Package DataTimes not found in current path.\n",
      "- Run `import Pkg; Pkg.add(\"DataTimes\")` to install the DataTimes package.\n",
      "\n",
      "Stacktrace:\n",
      "  [1] macro expansion\n",
      "    @ ./loading.jl:1630 [inlined]\n",
      "  [2] macro expansion\n",
      "    @ ./lock.jl:267 [inlined]\n",
      "  [3] require(into::Module, mod::Symbol)\n",
      "    @ Base ./loading.jl:1611\n",
      "  [4] eval\n",
      "    @ ./boot.jl:370 [inlined]\n",
      "  [5] include_string(mapexpr::typeof(REPL.softscope), mod::Module, code::String, filename::String)\n",
      "    @ Base ./loading.jl:1903\n",
      "  [6] #invokelatest#2\n",
      "    @ ./essentials.jl:819 [inlined]\n",
      "  [7] invokelatest\n",
      "    @ ./essentials.jl:816 [inlined]\n",
      "  [8] (::VSCodeServer.var\"#208#209\"{VSCodeServer.NotebookRunCellArguments, String})()\n",
      "    @ VSCodeServer ~/.vscode/extensions/julialang.language-julia-1.65.2/scripts/packages/VSCodeServer/src/serve_notebook.jl:19\n",
      "  [9] withpath(f::VSCodeServer.var\"#208#209\"{VSCodeServer.NotebookRunCellArguments, String}, path::String)\n",
      "    @ VSCodeServer ~/.vscode/extensions/julialang.language-julia-1.65.2/scripts/packages/VSCodeServer/src/repl.jl:274\n",
      " [10] notebook_runcell_request(conn::VSCodeServer.JSONRPC.JSONRPCEndpoint{Base.PipeEndpoint, Base.PipeEndpoint}, params::VSCodeServer.NotebookRunCellArguments)\n",
      "    @ VSCodeServer ~/.vscode/extensions/julialang.language-julia-1.65.2/scripts/packages/VSCodeServer/src/serve_notebook.jl:13\n",
      " [11] dispatch_msg(x::VSCodeServer.JSONRPC.JSONRPCEndpoint{Base.PipeEndpoint, Base.PipeEndpoint}, dispatcher::VSCodeServer.JSONRPC.MsgDispatcher, msg::Dict{String, Any})\n",
      "    @ VSCodeServer.JSONRPC ~/.vscode/extensions/julialang.language-julia-1.65.2/scripts/packages/JSONRPC/src/typed.jl:67\n",
      " [12] serve_notebook(pipename::String, outputchannel_logger::Base.CoreLogging.SimpleLogger; crashreporting_pipename::String)\n",
      "    @ VSCodeServer ~/.vscode/extensions/julialang.language-julia-1.65.2/scripts/packages/VSCodeServer/src/serve_notebook.jl:139\n",
      " [13] top-level scope\n",
      "    @ ~/.vscode/extensions/julialang.language-julia-1.65.2/scripts/notebook/notebook.jl:32"
     ]
    }
   ],
   "source": [
    "using CSV, DataFrames, DataTimes"
   ]
  },
  {
   "cell_type": "code",
   "execution_count": 3,
   "metadata": {},
   "outputs": [
    {
     "data": {
      "text/html": [
       "<div><div style = \"float: left;\"><span>364×2 DataFrame</span></div><div style = \"float: right;\"><span style = \"font-style: italic;\">339 rows omitted</span></div><div style = \"clear: both;\"></div></div><div class = \"data-frame\" style = \"overflow-x: scroll;\"><table class = \"data-frame\" style = \"margin-bottom: 6px;\"><thead><tr class = \"header\"><th class = \"rowNumber\" style = \"font-weight: bold; text-align: right;\">Row</th><th style = \"text-align: left;\">timestamp</th><th style = \"text-align: left;\">kappa</th></tr><tr class = \"subheader headerLastRow\"><th class = \"rowNumber\" style = \"font-weight: bold; text-align: right;\"></th><th title = \"String31\" style = \"text-align: left;\">String31</th><th title = \"Float64\" style = \"text-align: left;\">Float64</th></tr></thead><tbody><tr><td class = \"rowNumber\" style = \"font-weight: bold; text-align: right;\">1</td><td style = \"text-align: left;\">2021-01-01 00:02:24</td><td style = \"text-align: right;\">4.74747</td></tr><tr><td class = \"rowNumber\" style = \"font-weight: bold; text-align: right;\">2</td><td style = \"text-align: left;\">2021-01-02 00:02:24</td><td style = \"text-align: right;\">10.5005</td></tr><tr><td class = \"rowNumber\" style = \"font-weight: bold; text-align: right;\">3</td><td style = \"text-align: left;\">2021-01-03 00:02:24</td><td style = \"text-align: right;\">11.0246</td></tr><tr><td class = \"rowNumber\" style = \"font-weight: bold; text-align: right;\">4</td><td style = \"text-align: left;\">2021-01-04 00:02:24</td><td style = \"text-align: right;\">14.8884</td></tr><tr><td class = \"rowNumber\" style = \"font-weight: bold; text-align: right;\">5</td><td style = \"text-align: left;\">2021-01-05 00:02:24</td><td style = \"text-align: right;\">17.6979</td></tr><tr><td class = \"rowNumber\" style = \"font-weight: bold; text-align: right;\">6</td><td style = \"text-align: left;\">2021-01-06 00:02:24</td><td style = \"text-align: right;\">18.3743</td></tr><tr><td class = \"rowNumber\" style = \"font-weight: bold; text-align: right;\">7</td><td style = \"text-align: left;\">2021-01-07 00:02:24</td><td style = \"text-align: right;\">18.4901</td></tr><tr><td class = \"rowNumber\" style = \"font-weight: bold; text-align: right;\">8</td><td style = \"text-align: left;\">2021-01-08 00:02:24</td><td style = \"text-align: right;\">17.8502</td></tr><tr><td class = \"rowNumber\" style = \"font-weight: bold; text-align: right;\">9</td><td style = \"text-align: left;\">2021-01-09 00:02:24</td><td style = \"text-align: right;\">20.8608</td></tr><tr><td class = \"rowNumber\" style = \"font-weight: bold; text-align: right;\">10</td><td style = \"text-align: left;\">2021-01-10 00:02:24</td><td style = \"text-align: right;\">14.5654</td></tr><tr><td class = \"rowNumber\" style = \"font-weight: bold; text-align: right;\">11</td><td style = \"text-align: left;\">2021-01-11 00:02:24</td><td style = \"text-align: right;\">16.028</td></tr><tr><td class = \"rowNumber\" style = \"font-weight: bold; text-align: right;\">12</td><td style = \"text-align: left;\">2021-01-12 00:02:24</td><td style = \"text-align: right;\">19.4774</td></tr><tr><td class = \"rowNumber\" style = \"font-weight: bold; text-align: right;\">13</td><td style = \"text-align: left;\">2021-01-13 00:02:24</td><td style = \"text-align: right;\">20.806</td></tr><tr><td style = \"text-align: right;\">&vellip;</td><td style = \"text-align: right;\">&vellip;</td><td style = \"text-align: right;\">&vellip;</td></tr><tr><td class = \"rowNumber\" style = \"font-weight: bold; text-align: right;\">353</td><td style = \"text-align: left;\">2021-12-19 00:02:24</td><td style = \"text-align: right;\">20.5927</td></tr><tr><td class = \"rowNumber\" style = \"font-weight: bold; text-align: right;\">354</td><td style = \"text-align: left;\">2021-12-20 00:02:24</td><td style = \"text-align: right;\">27.5402</td></tr><tr><td class = \"rowNumber\" style = \"font-weight: bold; text-align: right;\">355</td><td style = \"text-align: left;\">2021-12-21 00:02:24</td><td style = \"text-align: right;\">25.5717</td></tr><tr><td class = \"rowNumber\" style = \"font-weight: bold; text-align: right;\">356</td><td style = \"text-align: left;\">2021-12-22 00:02:24</td><td style = \"text-align: right;\">19.3616</td></tr><tr><td class = \"rowNumber\" style = \"font-weight: bold; text-align: right;\">357</td><td style = \"text-align: left;\">2021-12-23 00:02:24</td><td style = \"text-align: right;\">21.909</td></tr><tr><td class = \"rowNumber\" style = \"font-weight: bold; text-align: right;\">358</td><td style = \"text-align: left;\">2021-12-24 00:02:24</td><td style = \"text-align: right;\">15.8635</td></tr><tr><td class = \"rowNumber\" style = \"font-weight: bold; text-align: right;\">359</td><td style = \"text-align: left;\">2021-12-25 00:02:24</td><td style = \"text-align: right;\">9.58026</td></tr><tr><td class = \"rowNumber\" style = \"font-weight: bold; text-align: right;\">360</td><td style = \"text-align: left;\">2021-12-26 00:02:24</td><td style = \"text-align: right;\">13.0601</td></tr><tr><td class = \"rowNumber\" style = \"font-weight: bold; text-align: right;\">361</td><td style = \"text-align: left;\">2021-12-27 00:02:24</td><td style = \"text-align: right;\">17.7344</td></tr><tr><td class = \"rowNumber\" style = \"font-weight: bold; text-align: right;\">362</td><td style = \"text-align: left;\">2021-12-28 00:02:24</td><td style = \"text-align: right;\">11.2501</td></tr><tr><td class = \"rowNumber\" style = \"font-weight: bold; text-align: right;\">363</td><td style = \"text-align: left;\">2021-12-29 00:02:24</td><td style = \"text-align: right;\">19.9771</td></tr><tr><td class = \"rowNumber\" style = \"font-weight: bold; text-align: right;\">364</td><td style = \"text-align: left;\">2021-12-30 00:02:24</td><td style = \"text-align: right;\">22.6343</td></tr></tbody></table></div>"
      ],
      "text/latex": [
       "\\begin{tabular}{r|cc}\n",
       "\t& timestamp & kappa\\\\\n",
       "\t\\hline\n",
       "\t& String31 & Float64\\\\\n",
       "\t\\hline\n",
       "\t1 & 2021-01-01 00:02:24 & 4.74747 \\\\\n",
       "\t2 & 2021-01-02 00:02:24 & 10.5005 \\\\\n",
       "\t3 & 2021-01-03 00:02:24 & 11.0246 \\\\\n",
       "\t4 & 2021-01-04 00:02:24 & 14.8884 \\\\\n",
       "\t5 & 2021-01-05 00:02:24 & 17.6979 \\\\\n",
       "\t6 & 2021-01-06 00:02:24 & 18.3743 \\\\\n",
       "\t7 & 2021-01-07 00:02:24 & 18.4901 \\\\\n",
       "\t8 & 2021-01-08 00:02:24 & 17.8502 \\\\\n",
       "\t9 & 2021-01-09 00:02:24 & 20.8608 \\\\\n",
       "\t10 & 2021-01-10 00:02:24 & 14.5654 \\\\\n",
       "\t11 & 2021-01-11 00:02:24 & 16.028 \\\\\n",
       "\t12 & 2021-01-12 00:02:24 & 19.4774 \\\\\n",
       "\t13 & 2021-01-13 00:02:24 & 20.806 \\\\\n",
       "\t14 & 2021-01-14 00:02:24 & 16.8691 \\\\\n",
       "\t15 & 2021-01-15 00:02:24 & 18.6608 \\\\\n",
       "\t16 & 2021-01-16 00:02:24 & 14.1327 \\\\\n",
       "\t17 & 2021-01-17 00:02:24 & 11.0124 \\\\\n",
       "\t18 & 2021-01-18 00:02:24 & 16.6436 \\\\\n",
       "\t19 & 2021-01-19 00:02:24 & 14.8518 \\\\\n",
       "\t20 & 2021-01-20 00:02:24 & 12.3897 \\\\\n",
       "\t21 & 2021-01-21 00:02:24 & 19.5627 \\\\\n",
       "\t22 & 2021-01-22 00:02:24 & 14.1388 \\\\\n",
       "\t23 & 2021-01-23 00:02:24 & 15.4491 \\\\\n",
       "\t24 & 2021-01-24 00:02:24 & 13.3526 \\\\\n",
       "\t$\\dots$ & $\\dots$ & $\\dots$ \\\\\n",
       "\\end{tabular}\n"
      ],
      "text/plain": [
       "\u001b[1m364×2 DataFrame\u001b[0m\n",
       "\u001b[1m Row \u001b[0m│\u001b[1m timestamp           \u001b[0m\u001b[1m kappa    \u001b[0m\n",
       "     │\u001b[90m String31            \u001b[0m\u001b[90m Float64  \u001b[0m\n",
       "─────┼───────────────────────────────\n",
       "   1 │ 2021-01-01 00:02:24   4.74747\n",
       "   2 │ 2021-01-02 00:02:24  10.5005\n",
       "   3 │ 2021-01-03 00:02:24  11.0246\n",
       "   4 │ 2021-01-04 00:02:24  14.8884\n",
       "   5 │ 2021-01-05 00:02:24  17.6979\n",
       "   6 │ 2021-01-06 00:02:24  18.3743\n",
       "   7 │ 2021-01-07 00:02:24  18.4901\n",
       "   8 │ 2021-01-08 00:02:24  17.8502\n",
       "  ⋮  │          ⋮              ⋮\n",
       " 358 │ 2021-12-24 00:02:24  15.8635\n",
       " 359 │ 2021-12-25 00:02:24   9.58026\n",
       " 360 │ 2021-12-26 00:02:24  13.0601\n",
       " 361 │ 2021-12-27 00:02:24  17.7344\n",
       " 362 │ 2021-12-28 00:02:24  11.2501\n",
       " 363 │ 2021-12-29 00:02:24  19.9771\n",
       " 364 │ 2021-12-30 00:02:24  22.6343\n",
       "\u001b[36m                     349 rows omitted\u001b[0m"
      ]
     },
     "metadata": {},
     "output_type": "display_data"
    }
   ],
   "source": [
    "kappa_2021 = CSV.read(\"../data/kappa_2021.csv\", DataFrame)"
   ]
  },
  {
   "cell_type": "code",
   "execution_count": 4,
   "metadata": {},
   "outputs": [
    {
     "ename": "UndefVarError",
     "evalue": "UndefVarError: `DateTime` not defined",
     "output_type": "error",
     "traceback": [
      "UndefVarError: `DateTime` not defined\n",
      "\n",
      "Stacktrace:\n",
      " [1] top-level scope\n",
      "   @ ~/dev/master_ver2/julia/tsa.ipynb:1"
     ]
    }
   ],
   "source": [
    "kappa_2021.timestamp = DateTime.(kappa_2021.timestamp, \"yyyy-mm-dd\")"
   ]
  },
  {
   "cell_type": "code",
   "execution_count": null,
   "metadata": {},
   "outputs": [],
   "source": []
  }
 ],
 "metadata": {
  "kernelspec": {
   "display_name": "Julia 1.9.3",
   "language": "julia",
   "name": "julia-1.9"
  },
  "language_info": {
   "file_extension": ".jl",
   "mimetype": "application/julia",
   "name": "julia",
   "version": "1.9.3"
  }
 },
 "nbformat": 4,
 "nbformat_minor": 2
}

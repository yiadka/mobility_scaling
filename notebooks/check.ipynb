{
 "cells": [
  {
   "cell_type": "code",
   "execution_count": 1,
   "metadata": {},
   "outputs": [],
   "source": [
    "import pandas as pd\n",
    "import numpy as np\n",
    "import matplotlib.pyplot as plt\n",
    "from datetime import timedelta\n",
    "from scipy import optimize, interpolate, integrate, special\n",
    "from sklearn.preprocessing import StandardScaler\n",
    "from sklearn.linear_model import LinearRegression\n",
    "from scipy.optimize import basinhopping\n",
    "import warnings"
   ]
  },
  {
   "cell_type": "code",
   "execution_count": 2,
   "metadata": {},
   "outputs": [],
   "source": [
    "# /data/df.pickleの読み込み\n",
    "df = pd.read_pickle('../data/df.pickle')\n",
    "\n",
    "df = df.dropna()\n",
    "\n",
    "# データの分割\n",
    "df_p1 = df[(df['started_at'] >= '2020-03-01') & (df['started_at'] < '2020-06-01')].dropna()\n",
    "df_p2 = df[(df['started_at'] >= '2020-06-01') & (df['started_at'] < '2020-11-01')].dropna()\n",
    "df_p3 = df[(df['started_at'] >= '2020-12-01') & (df['started_at'] < '2021-03-01')].dropna()\n",
    "df_p4 = df[(df['started_at'] >= '2021-03-01') & (df['started_at'] < '2023-10-01')].dropna()\n",
    "df_p4_1 = df[(df['started_at'] >= '2021-03-01') & (df['started_at'] < '2022-01-01')].dropna()\n",
    "df_p4_2 = df[(df['started_at'] >= '2022-01-01') & (df['started_at'] < '2023-10-01')].dropna()\n",
    "df_left = pd.concat([df_p1, df_p2, df_p3, df_p4_1], axis=0)\n",
    "df_right = pd.concat([df_p4_2], axis=0)"
   ]
  },
  {
   "cell_type": "code",
   "execution_count": 3,
   "metadata": {},
   "outputs": [
    {
     "data": {
      "text/html": [
       "<div>\n",
       "<style scoped>\n",
       "    .dataframe tbody tr th:only-of-type {\n",
       "        vertical-align: middle;\n",
       "    }\n",
       "\n",
       "    .dataframe tbody tr th {\n",
       "        vertical-align: top;\n",
       "    }\n",
       "\n",
       "    .dataframe thead th {\n",
       "        text-align: right;\n",
       "    }\n",
       "</style>\n",
       "<table border=\"1\" class=\"dataframe\">\n",
       "  <thead>\n",
       "    <tr style=\"text-align: right;\">\n",
       "      <th></th>\n",
       "      <th>end_lat</th>\n",
       "      <th>end_lng</th>\n",
       "      <th>end_station_id</th>\n",
       "      <th>end_station_name</th>\n",
       "      <th>ended_at</th>\n",
       "      <th>member_casual</th>\n",
       "      <th>ride_id</th>\n",
       "      <th>rideable_type</th>\n",
       "      <th>start_lat</th>\n",
       "      <th>start_lng</th>\n",
       "      <th>start_station_id</th>\n",
       "      <th>start_station_name</th>\n",
       "      <th>started_at</th>\n",
       "      <th>distance</th>\n",
       "      <th>start_lat_lng</th>\n",
       "      <th>end_lat_lng</th>\n",
       "    </tr>\n",
       "  </thead>\n",
       "  <tbody>\n",
       "    <tr>\n",
       "      <th>0</th>\n",
       "      <td>41.9322</td>\n",
       "      <td>-87.6586</td>\n",
       "      <td>152.0</td>\n",
       "      <td>Lincoln Ave &amp; Diversey Pkwy</td>\n",
       "      <td>2020-04-26 18:12:03</td>\n",
       "      <td>member</td>\n",
       "      <td>A847FADBBC638E45</td>\n",
       "      <td>docked_bike</td>\n",
       "      <td>41.8964</td>\n",
       "      <td>-87.6610</td>\n",
       "      <td>86</td>\n",
       "      <td>Eckhart Park</td>\n",
       "      <td>2020-04-26 17:45:14</td>\n",
       "      <td>3.981346</td>\n",
       "      <td>(41.8964, -87.661)</td>\n",
       "      <td>(41.9322, -87.6586)</td>\n",
       "    </tr>\n",
       "    <tr>\n",
       "      <th>1</th>\n",
       "      <td>41.9306</td>\n",
       "      <td>-87.7238</td>\n",
       "      <td>499.0</td>\n",
       "      <td>Kosciuszko Park</td>\n",
       "      <td>2020-04-17 17:17:03</td>\n",
       "      <td>member</td>\n",
       "      <td>5405B80E996FF60D</td>\n",
       "      <td>docked_bike</td>\n",
       "      <td>41.9244</td>\n",
       "      <td>-87.7154</td>\n",
       "      <td>503</td>\n",
       "      <td>Drake Ave &amp; Fullerton Ave</td>\n",
       "      <td>2020-04-17 17:08:54</td>\n",
       "      <td>0.979629</td>\n",
       "      <td>(41.9244, -87.7154)</td>\n",
       "      <td>(41.9306, -87.7238)</td>\n",
       "    </tr>\n",
       "    <tr>\n",
       "      <th>2</th>\n",
       "      <td>41.8679</td>\n",
       "      <td>-87.6230</td>\n",
       "      <td>255.0</td>\n",
       "      <td>Indiana Ave &amp; Roosevelt Rd</td>\n",
       "      <td>2020-04-01 18:08:36</td>\n",
       "      <td>member</td>\n",
       "      <td>5DD24A79A4E006F4</td>\n",
       "      <td>docked_bike</td>\n",
       "      <td>41.8945</td>\n",
       "      <td>-87.6179</td>\n",
       "      <td>142</td>\n",
       "      <td>McClurg Ct &amp; Erie St</td>\n",
       "      <td>2020-04-01 17:54:13</td>\n",
       "      <td>2.984661</td>\n",
       "      <td>(41.8945, -87.6179)</td>\n",
       "      <td>(41.8679, -87.623)</td>\n",
       "    </tr>\n",
       "    <tr>\n",
       "      <th>3</th>\n",
       "      <td>41.8992</td>\n",
       "      <td>-87.6722</td>\n",
       "      <td>657.0</td>\n",
       "      <td>Wood St &amp; Augusta Blvd</td>\n",
       "      <td>2020-04-07 13:02:31</td>\n",
       "      <td>member</td>\n",
       "      <td>2A59BBDF5CDBA725</td>\n",
       "      <td>docked_bike</td>\n",
       "      <td>41.9030</td>\n",
       "      <td>-87.6975</td>\n",
       "      <td>216</td>\n",
       "      <td>California Ave &amp; Division St</td>\n",
       "      <td>2020-04-07 12:50:19</td>\n",
       "      <td>2.141375</td>\n",
       "      <td>(41.903, -87.6975)</td>\n",
       "      <td>(41.8992, -87.6722)</td>\n",
       "    </tr>\n",
       "    <tr>\n",
       "      <th>4</th>\n",
       "      <td>41.9695</td>\n",
       "      <td>-87.6547</td>\n",
       "      <td>323.0</td>\n",
       "      <td>Sheridan Rd &amp; Lawrence Ave</td>\n",
       "      <td>2020-04-18 11:15:54</td>\n",
       "      <td>casual</td>\n",
       "      <td>27AD306C119C6158</td>\n",
       "      <td>docked_bike</td>\n",
       "      <td>41.8902</td>\n",
       "      <td>-87.6262</td>\n",
       "      <td>125</td>\n",
       "      <td>Rush St &amp; Hubbard St</td>\n",
       "      <td>2020-04-18 10:22:59</td>\n",
       "      <td>9.119685</td>\n",
       "      <td>(41.8902, -87.6262)</td>\n",
       "      <td>(41.9695, -87.6547)</td>\n",
       "    </tr>\n",
       "  </tbody>\n",
       "</table>\n",
       "</div>"
      ],
      "text/plain": [
       "   end_lat  end_lng end_station_id             end_station_name  \\\n",
       "0  41.9322 -87.6586          152.0  Lincoln Ave & Diversey Pkwy   \n",
       "1  41.9306 -87.7238          499.0              Kosciuszko Park   \n",
       "2  41.8679 -87.6230          255.0   Indiana Ave & Roosevelt Rd   \n",
       "3  41.8992 -87.6722          657.0       Wood St & Augusta Blvd   \n",
       "4  41.9695 -87.6547          323.0   Sheridan Rd & Lawrence Ave   \n",
       "\n",
       "              ended_at member_casual           ride_id rideable_type  \\\n",
       "0  2020-04-26 18:12:03        member  A847FADBBC638E45   docked_bike   \n",
       "1  2020-04-17 17:17:03        member  5405B80E996FF60D   docked_bike   \n",
       "2  2020-04-01 18:08:36        member  5DD24A79A4E006F4   docked_bike   \n",
       "3  2020-04-07 13:02:31        member  2A59BBDF5CDBA725   docked_bike   \n",
       "4  2020-04-18 11:15:54        casual  27AD306C119C6158   docked_bike   \n",
       "\n",
       "   start_lat  start_lng start_station_id            start_station_name  \\\n",
       "0    41.8964   -87.6610               86                  Eckhart Park   \n",
       "1    41.9244   -87.7154              503     Drake Ave & Fullerton Ave   \n",
       "2    41.8945   -87.6179              142          McClurg Ct & Erie St   \n",
       "3    41.9030   -87.6975              216  California Ave & Division St   \n",
       "4    41.8902   -87.6262              125          Rush St & Hubbard St   \n",
       "\n",
       "            started_at  distance        start_lat_lng          end_lat_lng  \n",
       "0  2020-04-26 17:45:14  3.981346   (41.8964, -87.661)  (41.9322, -87.6586)  \n",
       "1  2020-04-17 17:08:54  0.979629  (41.9244, -87.7154)  (41.9306, -87.7238)  \n",
       "2  2020-04-01 17:54:13  2.984661  (41.8945, -87.6179)   (41.8679, -87.623)  \n",
       "3  2020-04-07 12:50:19  2.141375   (41.903, -87.6975)  (41.8992, -87.6722)  \n",
       "4  2020-04-18 10:22:59  9.119685  (41.8902, -87.6262)  (41.9695, -87.6547)  "
      ]
     },
     "execution_count": 3,
     "metadata": {},
     "output_type": "execute_result"
    }
   ],
   "source": [
    "df_left = df_left.dropna()\n",
    "df_left.head()"
   ]
  },
  {
   "cell_type": "code",
   "execution_count": 19,
   "metadata": {},
   "outputs": [
    {
     "data": {
      "text/plain": [
       "dtype('O')"
      ]
     },
     "execution_count": 19,
     "metadata": {},
     "output_type": "execute_result"
    }
   ],
   "source": [
    "# df_leftのstart_station_idの型を確認する\n",
    "df_left['start_station_id'].dtype"
   ]
  },
  {
   "cell_type": "code",
   "execution_count": 4,
   "metadata": {},
   "outputs": [],
   "source": [
    "def return_nm(df):\n",
    "    df['started_at'] = pd.to_datetime(df['started_at'])\n",
    "    df['ended_at'] = pd.to_datetime(df['ended_at'])\n",
    "    # started_atで昇順にソート\n",
    "    df = df.sort_values(by='started_at')\n",
    "    current_timestamp = df['started_at'].min()\n",
    "    end_timestamp = df[\"started_at\"].max()\n",
    "    interval = timedelta(days=1)\n",
    "\n",
    "    node_list = []\n",
    "    edge_list = []\n",
    "    timestamp = []\n",
    "\n",
    "    while current_timestamp <= end_timestamp:\n",
    "        timestamp.append(current_timestamp)\n",
    "        next_timestamp = current_timestamp + interval\n",
    "        df_tmp = df[(df['started_at'] >= current_timestamp) & (df['started_at'] < next_timestamp)]\n",
    "\n",
    "        # node_listにはユニークなstart_station_idを追加\n",
    "        # df_tmpのstart_station_idをstr型に変換してからユニークな値を取得\n",
    "        node_list.append(len(df_tmp['start_station_id'].unique()))\n",
    "\n",
    "        # edge_listにはdf_tmpの行数を追加\n",
    "        edge_list.append(len(df_tmp))\n",
    "\n",
    "        current_timestamp = next_timestamp\n",
    "\n",
    "    # node_listとedge_listで0の値を削除\n",
    "    node_list = np.array(node_list)\n",
    "    edge_list = np.array(edge_list)\n",
    "    timestamp = np.array(timestamp)\n",
    "    active_node_list = node_list[node_list != 0]\n",
    "    edge_list = edge_list[edge_list != 0]\n",
    "    timestamp = timestamp[:len(node_list)]\n",
    "    \n",
    "    return active_node_list, edge_list, timestamp"
   ]
  },
  {
   "cell_type": "code",
   "execution_count": 5,
   "metadata": {},
   "outputs": [],
   "source": [
    "node_left, edge_left, timestamp_left = return_nm(df_left)"
   ]
  },
  {
   "cell_type": "code",
   "execution_count": 8,
   "metadata": {},
   "outputs": [
    {
     "data": {
      "text/html": [
       "<div>\n",
       "<style scoped>\n",
       "    .dataframe tbody tr th:only-of-type {\n",
       "        vertical-align: middle;\n",
       "    }\n",
       "\n",
       "    .dataframe tbody tr th {\n",
       "        vertical-align: top;\n",
       "    }\n",
       "\n",
       "    .dataframe thead th {\n",
       "        text-align: right;\n",
       "    }\n",
       "</style>\n",
       "<table border=\"1\" class=\"dataframe\">\n",
       "  <thead>\n",
       "    <tr style=\"text-align: right;\">\n",
       "      <th></th>\n",
       "      <th>node</th>\n",
       "      <th>edge</th>\n",
       "    </tr>\n",
       "  </thead>\n",
       "  <tbody>\n",
       "    <tr>\n",
       "      <th>0</th>\n",
       "      <td>106</td>\n",
       "      <td>190</td>\n",
       "    </tr>\n",
       "    <tr>\n",
       "      <th>1</th>\n",
       "      <td>136</td>\n",
       "      <td>221</td>\n",
       "    </tr>\n",
       "    <tr>\n",
       "      <th>2</th>\n",
       "      <td>173</td>\n",
       "      <td>312</td>\n",
       "    </tr>\n",
       "    <tr>\n",
       "      <th>3</th>\n",
       "      <td>215</td>\n",
       "      <td>368</td>\n",
       "    </tr>\n",
       "    <tr>\n",
       "      <th>4</th>\n",
       "      <td>217</td>\n",
       "      <td>494</td>\n",
       "    </tr>\n",
       "  </tbody>\n",
       "</table>\n",
       "</div>"
      ],
      "text/plain": [
       "   node  edge\n",
       "0   106   190\n",
       "1   136   221\n",
       "2   173   312\n",
       "3   215   368\n",
       "4   217   494"
      ]
     },
     "execution_count": 8,
     "metadata": {},
     "output_type": "execute_result"
    }
   ],
   "source": [
    "# node_leftとedge_leftを組みにしてdf_leftを作成\n",
    "left = pd.DataFrame({'node': node_left, 'edge': edge_left})\n",
    "# df_leftのnodeを昇順にして並び替え\n",
    "left = left.sort_values(by='node')\n",
    "# インデックスを振り直す\n",
    "left = left.reset_index(drop=True)\n",
    "left.head()"
   ]
  },
  {
   "cell_type": "code",
   "execution_count": 9,
   "metadata": {},
   "outputs": [],
   "source": [
    "# 正規化する\n",
    "left[\"node_norm\"] = left[\"node\"] - left[\"node\"].min() + 2\n",
    "left[\"edge_norm\"] = left[\"edge\"] - left[\"edge\"].min() + 1\n",
    "\n",
    "# 一番最初の行を削除\n",
    "left = left.drop(0)\n",
    "\n",
    "# インデックスを振り直す\n",
    "left = left.reset_index(drop=True)"
   ]
  },
  {
   "cell_type": "code",
   "execution_count": 10,
   "metadata": {},
   "outputs": [
    {
     "data": {
      "text/html": [
       "<div>\n",
       "<style scoped>\n",
       "    .dataframe tbody tr th:only-of-type {\n",
       "        vertical-align: middle;\n",
       "    }\n",
       "\n",
       "    .dataframe tbody tr th {\n",
       "        vertical-align: top;\n",
       "    }\n",
       "\n",
       "    .dataframe thead th {\n",
       "        text-align: right;\n",
       "    }\n",
       "</style>\n",
       "<table border=\"1\" class=\"dataframe\">\n",
       "  <thead>\n",
       "    <tr style=\"text-align: right;\">\n",
       "      <th></th>\n",
       "      <th>node</th>\n",
       "      <th>edge</th>\n",
       "      <th>node_norm</th>\n",
       "      <th>edge_norm</th>\n",
       "    </tr>\n",
       "  </thead>\n",
       "  <tbody>\n",
       "    <tr>\n",
       "      <th>0</th>\n",
       "      <td>136</td>\n",
       "      <td>221</td>\n",
       "      <td>32</td>\n",
       "      <td>32</td>\n",
       "    </tr>\n",
       "    <tr>\n",
       "      <th>1</th>\n",
       "      <td>173</td>\n",
       "      <td>312</td>\n",
       "      <td>69</td>\n",
       "      <td>123</td>\n",
       "    </tr>\n",
       "    <tr>\n",
       "      <th>2</th>\n",
       "      <td>215</td>\n",
       "      <td>368</td>\n",
       "      <td>111</td>\n",
       "      <td>179</td>\n",
       "    </tr>\n",
       "    <tr>\n",
       "      <th>3</th>\n",
       "      <td>217</td>\n",
       "      <td>494</td>\n",
       "      <td>113</td>\n",
       "      <td>305</td>\n",
       "    </tr>\n",
       "    <tr>\n",
       "      <th>4</th>\n",
       "      <td>222</td>\n",
       "      <td>663</td>\n",
       "      <td>118</td>\n",
       "      <td>474</td>\n",
       "    </tr>\n",
       "  </tbody>\n",
       "</table>\n",
       "</div>"
      ],
      "text/plain": [
       "   node  edge  node_norm  edge_norm\n",
       "0   136   221         32         32\n",
       "1   173   312         69        123\n",
       "2   215   368        111        179\n",
       "3   217   494        113        305\n",
       "4   222   663        118        474"
      ]
     },
     "execution_count": 10,
     "metadata": {},
     "output_type": "execute_result"
    }
   ],
   "source": [
    "left.head()"
   ]
  },
  {
   "cell_type": "code",
   "execution_count": 11,
   "metadata": {},
   "outputs": [],
   "source": [
    "def f(x, Np):\n",
    "    kappa = ((8 * x[0]) / (Np**2 - Np))\n",
    "    a = (1 - (kappa / 2))**Np\n",
    "    b = 1 - a\n",
    "    c = -(2 / (kappa * Np))*b\n",
    "    d = 1 + c\n",
    "    res = Np * d\n",
    "    return res"
   ]
  },
  {
   "cell_type": "code",
   "execution_count": 12,
   "metadata": {},
   "outputs": [],
   "source": [
    "# 残差\n",
    "def residual_f(x, N, M):\n",
    "    residual = N - f(x, M)\n",
    "    return residual"
   ]
  },
  {
   "cell_type": "code",
   "execution_count": 13,
   "metadata": {},
   "outputs": [],
   "source": [
    "# 目的関数\n",
    "def f_uniform_2(x, N, M):\n",
    "    return np.sum(residual_f(x, M, N)**2)"
   ]
  },
  {
   "cell_type": "code",
   "execution_count": 11,
   "metadata": {},
   "outputs": [],
   "source": [
    "def Model1(M,kappa):\n",
    "    def Np(kappa):\n",
    "        return (1+np.sqrt(1+32*M/kappa))/2\n",
    "    N = Np(kappa)*(1-2/kappa/Np(kappa)*(1 - (1-kappa/2)**Np(kappa)))\n",
    "    return N\n",
    "\n",
    "\n",
    "def Model2(M,Np):\n",
    "    def kappa(Np):\n",
    "        return 8*M/Np/(Np-1)\n",
    "    N = Np*(1 - 2/kappa(Np)/Np*(1 - (1-kappa(Np)/2)**Np))\n",
    "    return N"
   ]
  },
  {
   "cell_type": "code",
   "execution_count": 12,
   "metadata": {},
   "outputs": [],
   "source": [
    "# 残差平方和を計算する関数\n",
    "def residual_sum_of_squares(f, x, y):\n",
    "    residual = y - f(x)\n",
    "    rss = np.sum(residual**2)\n",
    "    return rss"
   ]
  },
  {
   "cell_type": "code",
   "execution_count": 19,
   "metadata": {},
   "outputs": [
    {
     "name": "stdout",
     "output_type": "stream",
     "text": [
      "params:  561.3320439382553\n"
     ]
    }
   ],
   "source": [
    "# curve_fitを用いてパラメータを推定\n",
    "param, cov = optimize.curve_fit(Model2, M, N, p0=[660])\n",
    "print(\"params: \", param[0])"
   ]
  },
  {
   "cell_type": "code",
   "execution_count": 26,
   "metadata": {},
   "outputs": [],
   "source": [
    "Np = 1419\n",
    "alpha = 0.1\n",
    "beta = 0.5\n",
    "\n",
    "\n",
    "def Model3(M):\n",
    "\n",
    "    def obj(a,i):\n",
    "        f = lambda a: a**(alpha-1)*(1-a)**(beta-1)/special.beta(alpha, beta)\n",
    "        return f(a)*( 1-((alpha+beta)/alpha)*2*M[i]*a/Np/(Np-1) )**(Np-1)\n",
    "\n",
    "    vals = np.zeros(len(M))\n",
    "    for i in range(len(M)):\n",
    "        # vals[i] = integrate.fixed_quad(obj, 0,1, args=(i))[0]\n",
    "        vals[i] = integrate.quad(obj, 0,1, args=(i))[0]\n",
    "\n",
    "    N = Np*(1 - vals)\n",
    "    return N\n",
    "\n",
    "def kappa(M, Np, alpha, beta):\n",
    "    return ((alpha+beta)/alpha)**2*2*M/Np/(Np-1)"
   ]
  },
  {
   "cell_type": "code",
   "execution_count": 14,
   "metadata": {},
   "outputs": [],
   "source": [
    "def Model3_fixed(M, alpha, beta):\n",
    "    def obj(a, i):\n",
    "        f = lambda a: a**(alpha-1)*(1-a)**(beta-1)/special.beta(alpha, beta)\n",
    "        return f(a)*( 1-((alpha+beta)/alpha)*2*M[i]*a/Np/(Np-1) )**(Np-1)\n",
    "    vals = np.zeros(len(M))\n",
    "    for i in range(len(M)):\n",
    "        vals[i] = integrate.quad(obj, 0,1, args=(i))[0]\n",
    "    \n",
    "    N = Np*(1 - vals)\n",
    "    return N"
   ]
  },
  {
   "cell_type": "code",
   "execution_count": 15,
   "metadata": {},
   "outputs": [],
   "source": [
    "M = left[\"edge\"] #left[\"edge_norm\"]\n",
    "N = left[\"node\"] #left[\"node_norm\"]"
   ]
  },
  {
   "cell_type": "code",
   "execution_count": 16,
   "metadata": {},
   "outputs": [
    {
     "name": "stderr",
     "output_type": "stream",
     "text": [
      "/var/folders/pm/4cgtm7w90fbgczj718s4vvk40000gn/T/ipykernel_47198/2291635319.py:7: IntegrationWarning: The algorithm does not converge.  Roundoff error is detected\n",
      "  in the extrapolation table.  It is assumed that the requested tolerance\n",
      "  cannot be achieved, and that the returned result (if full_output = 1) is \n",
      "  the best which can be obtained.\n",
      "  vals[i] = integrate.quad(obj, 0,1, args=(i))[0]\n"
     ]
    },
    {
     "name": "stdout",
     "output_type": "stream",
     "text": [
      "params:  [0.07623083 0.63504429]\n"
     ]
    }
   ],
   "source": [
    "# Model3_fixedを用いてパラメータを推定\n",
    "param, cov = optimize.curve_fit(Model3_fixed, M, N, p0=[0.1, 0.5])\n",
    "print(\"params: \", param)"
   ]
  },
  {
   "cell_type": "code",
   "execution_count": 17,
   "metadata": {},
   "outputs": [
    {
     "name": "stderr",
     "output_type": "stream",
     "text": [
      "/var/folders/pm/4cgtm7w90fbgczj718s4vvk40000gn/T/ipykernel_47198/2226607272.py:15: IntegrationWarning: The algorithm does not converge.  Roundoff error is detected\n",
      "  in the extrapolation table.  It is assumed that the requested tolerance\n",
      "  cannot be achieved, and that the returned result (if full_output = 1) is \n",
      "  the best which can be obtained.\n",
      "  vals[i] = integrate.quad(obj, 0,1, args=(i))[0]\n"
     ]
    },
    {
     "data": {
      "text/plain": [
       "<matplotlib.legend.Legend at 0x16a8a2f70>"
      ]
     },
     "execution_count": 17,
     "metadata": {},
     "output_type": "execute_result"
    },
    {
     "data": {
      "image/png": "[encoded data removed]",
      "text/plain": [
       "<Figure size 640x480 with 1 Axes>"
      ]
     },
     "metadata": {},
     "output_type": "display_data"
    }
   ],
   "source": [
    "plt.Figure(figsize=(14,7))\n",
    "Np = 1419\n",
    "x = np.arange(2,np.max(N))\n",
    "y = np.arange(1,np.max(M))\n",
    "\n",
    "# data\n",
    "plt.plot(N, M, \"x\", c=\"green\", alpha=0.3, label = \"data\")\n",
    "\n",
    "\n",
    "# model\n",
    "alpha = 0.076\n",
    "beta = 0.635\n",
    "plt.plot(Model3(y), y, \"-\", c=\"orange\", label=f\"fitting\")\n",
    "plt.text(0.05, 0.65, r'$\\hat{\\alpha}:$ ' + str(round(alpha, 3)), transform=plt.gca().transAxes)\n",
    "plt.text(0.05, 0.60, r'$\\hat{\\beta}:$ ' + str(round(beta, 3)), transform=plt.gca().transAxes)\n",
    "\"\"\"\n",
    "alpha = 0.1\n",
    "beta = 0.9\n",
    "plt.plot(Model3(y), y, \"-\", c=\"orange\", label=f\"beta={str(beta)}\",alpha = 0.5)\n",
    "\n",
    "alpha = 0.1\n",
    "beta = 1.5\n",
    "plt.plot(Model3(y), y, \"-\", c=\"orange\", label=f\"beta={str(beta)}\",alpha = 0.3)\n",
    "\"\"\"\n",
    "\n",
    "# bound and others\n",
    "plt.plot(x,x/2, label=\"lower bound\", c = \"black\", alpha= 0.5, ls = \":\")\n",
    "plt.plot(x,x*(x-1)/2, label=\"upper bound\", c = \"black\", alpha = 0.5, ls = \"--\")\n",
    "plt.xscale(\"log\")\n",
    "plt.yscale(\"log\")\n",
    "plt.xlabel(r\"$N$\")\n",
    "plt.ylabel(r\"$M$\")\n",
    "plt.title(\"2022/1/1~2023/9/301day freq., Np=1419\")\n",
    "plt.legend()"
   ]
  },
  {
   "cell_type": "code",
   "execution_count": 20,
   "metadata": {},
   "outputs": [
    {
     "name": "stderr",
     "output_type": "stream",
     "text": [
      "/var/folders/pm/4cgtm7w90fbgczj718s4vvk40000gn/T/ipykernel_47198/2291635319.py:7: IntegrationWarning: The algorithm does not converge.  Roundoff error is detected\n",
      "  in the extrapolation table.  It is assumed that the requested tolerance\n",
      "  cannot be achieved, and that the returned result (if full_output = 1) is \n",
      "  the best which can be obtained.\n",
      "  vals[i] = integrate.quad(obj, 0,1, args=(i))[0]\n"
     ]
    },
    {
     "name": "stdout",
     "output_type": "stream",
     "text": [
      "params:  [0.05811836 0.82498776]\n"
     ]
    }
   ],
   "source": [
    "NN = left[\"node_norm\"]\n",
    "MM = left[\"edge_norm\"]\n",
    "\n",
    "# Model3_fixedを用いてパラメータを推定\n",
    "param, cov = optimize.curve_fit(Model3_fixed, MM, NN, p0=[0.1, 0.5])\n",
    "print(\"params: \", param)"
   ]
  },
  {
   "cell_type": "code",
   "execution_count": 22,
   "metadata": {},
   "outputs": [
    {
     "data": {
      "image/png": "[encoded data removed]",
      "text/plain": [
       "<Figure size 640x480 with 1 Axes>"
      ]
     },
     "metadata": {},
     "output_type": "display_data"
    }
   ],
   "source": [
    "plt.Figure(figsize=(14,7))\n",
    "Np = 1419\n",
    "x = np.arange(2,np.max(NN))\n",
    "y = np.arange(1,np.max(MM))\n",
    "\n",
    "# data\n",
    "plt.plot(NN, MM, \"x\", c=\"green\", alpha=0.3, label = \"Normalized data\")\n",
    "\n",
    "\n",
    "# model\n",
    "alpha = 0.058\n",
    "beta = 0.825\n",
    "plt.plot(Model3(y), y, \"-\", c=\"orange\", label=f\"fitting\")\n",
    "plt.text(0.05, 0.65, r'$\\hat{\\alpha}:$ ' + str(round(alpha, 3)), transform=plt.gca().transAxes)\n",
    "plt.text(0.05, 0.60, r'$\\hat{\\beta}:$ ' + str(round(beta, 3)), transform=plt.gca().transAxes)\n",
    "\"\"\"\n",
    "alpha = 0.1\n",
    "beta = 0.9\n",
    "plt.plot(Model3(y), y, \"-\", c=\"orange\", label=f\"beta={str(beta)}\",alpha = 0.5)\n",
    "\n",
    "alpha = 0.1\n",
    "beta = 1.5\n",
    "plt.plot(Model3(y), y, \"-\", c=\"orange\", label=f\"beta={str(beta)}\",alpha = 0.3)\n",
    "\"\"\"\n",
    "\n",
    "# bound and others\n",
    "plt.plot(x,x/2, label=\"lower bound\", c = \"black\", alpha= 0.5, ls = \":\")\n",
    "plt.plot(x,x*(x-1)/2, label=\"upper bound\", c = \"black\", alpha = 0.5, ls = \"--\")\n",
    "plt.xscale(\"log\")\n",
    "plt.yscale(\"log\")\n",
    "plt.xlabel(r\"$N$\")\n",
    "plt.ylabel(r\"$M$\")\n",
    "plt.title(\"1day freq., Np=1419\")\n",
    "plt.legend()\n",
    "plt.show()"
   ]
  },
  {
   "cell_type": "code",
   "execution_count": 23,
   "metadata": {},
   "outputs": [],
   "source": [
    "def calc_N(kappa, Np):\n",
    "    res = Np * (1 - (2/kappa/Np)*(1 - (1 - kappa/2)**Np) )\n",
    "    return res\n",
    "\n",
    "def calc_M(kappa, Np):\n",
    "    res = kappa*(Np**2 - Np)/8\n",
    "    return res"
   ]
  },
  {
   "cell_type": "code",
   "execution_count": 32,
   "metadata": {},
   "outputs": [
    {
     "name": "stderr",
     "output_type": "stream",
     "text": [
      "/var/folders/pm/4cgtm7w90fbgczj718s4vvk40000gn/T/ipykernel_47198/2063242227.py:14: RuntimeWarning: overflow encountered in scalar power\n",
      "  N_norm.append( Np * (1 - (2 / (kappa[i]*Np))*(1-(1-(kappa[i]/2))**Np)) )\n"
     ]
    },
    {
     "data": {
      "image/png": "[encoded data removed]",
      "text/plain": [
       "<Figure size 640x480 with 1 Axes>"
      ]
     },
     "metadata": {},
     "output_type": "display_data"
    }
   ],
   "source": [
    "N_norm = []\n",
    "M_norm = []\n",
    "Np = 1419\n",
    "\n",
    "# 正規化したもの\n",
    "alpha = 0.058\n",
    "beta = 0.825\n",
    "kappa = []\n",
    "for i in range(len(MM)):\n",
    "    kappa.append( ((alpha+beta)/alpha)**2*2*MM[i]/Np/(Np-1) )\n",
    "\n",
    "\n",
    "for i in range(len(kappa)):\n",
    "    N_norm.append( Np * (1 - (2 / (kappa[i]*Np))*(1-(1-(kappa[i]/2))**Np)) )\n",
    "    M_norm.append( (kappa[i] * Np * (Np - 1)) / 8 )\n",
    "\n",
    "plt.Figure(figsize=(14,7))\n",
    "Np = 1419\n",
    "x = np.arange(2,np.max(NN))\n",
    "y = np.arange(1,np.max(MM))\n",
    "\n",
    "# data\n",
    "plt.plot(NN, MM, \"x\", c=\"green\", alpha=0.3, label = \"Normalized data\")\n",
    "\n",
    "plt.plot(N_norm, M_norm, \"-\", c=\"orange\", label=f\"fitting\")\n",
    "\n",
    "# bound and others\n",
    "plt.plot(x,x/2, label=\"lower bound\", c = \"black\", alpha= 0.5, ls = \":\")\n",
    "plt.plot(x,x*(x-1)/2, label=\"upper bound\", c = \"black\", alpha = 0.5, ls = \"--\")\n",
    "plt.xscale(\"log\")\n",
    "plt.yscale(\"log\")\n",
    "plt.xlabel(r\"$N$\")\n",
    "plt.ylabel(r\"$M$\")\n",
    "plt.title(\"1day freq., Np=1419\")\n",
    "plt.legend()\n",
    "plt.show()\n"
   ]
  },
  {
   "cell_type": "code",
   "execution_count": 33,
   "metadata": {},
   "outputs": [
    {
     "data": {
      "text/plain": [
       "0.007372024463264733"
      ]
     },
     "execution_count": 33,
     "metadata": {},
     "output_type": "execute_result"
    }
   ],
   "source": [
    "((alpha+beta)/alpha)**2*2*MM[0]/Np/(Np-1)"
   ]
  },
  {
   "cell_type": "code",
   "execution_count": 34,
   "metadata": {},
   "outputs": [
    {
     "data": {
      "text/plain": [
       "1861.23135"
      ]
     },
     "execution_count": 34,
     "metadata": {},
     "output_type": "execute_result"
    }
   ],
   "source": [
    "(1419**2-1419)*0.0074/8"
   ]
  },
  {
   "cell_type": "code",
   "execution_count": 41,
   "metadata": {},
   "outputs": [],
   "source": [
    "# 正規化 2\n",
    "N_norm2 = left[\"node\"] - np.percentile(left[\"node\"], 25)\n",
    "M_norm2 = left[\"edge\"] - np.percentile(left[\"edge\"], 25)"
   ]
  },
  {
   "cell_type": "code",
   "execution_count": 42,
   "metadata": {},
   "outputs": [
    {
     "name": "stdout",
     "output_type": "stream",
     "text": [
      "0     -355.0\n",
      "1     -318.0\n",
      "2     -276.0\n",
      "3     -274.0\n",
      "4     -269.0\n",
      "       ...  \n",
      "602    118.0\n",
      "603    118.0\n",
      "604    119.0\n",
      "605    122.0\n",
      "606    127.0\n",
      "Name: node, Length: 607, dtype: float64\n"
     ]
    }
   ],
   "source": [
    "print(N_norm2)"
   ]
  }
 ],
 "metadata": {
  "kernelspec": {
   "display_name": "venv",
   "language": "python",
   "name": "python3"
  },
  "language_info": {
   "codemirror_mode": {
    "name": "ipython",
    "version": 3
   },
   "file_extension": ".py",
   "mimetype": "text/x-python",
   "name": "python",
   "nbconvert_exporter": "python",
   "pygments_lexer": "ipython3",
   "version": "3.9.6"
  }
 },
 "nbformat": 4,
 "nbformat_minor": 2
}

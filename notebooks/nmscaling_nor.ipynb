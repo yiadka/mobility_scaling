{
 "cells": [
  {
   "cell_type": "code",
   "execution_count": 1,
   "metadata": {},
   "outputs": [],
   "source": [
    "import pandas as pd\n",
    "import pickle\n",
    "import numpy as np\n",
    "import matplotlib.pyplot as plt\n",
    "from datetime import timedelta\n",
    "from scipy import stats, integrate, optimize, special\n",
    "import random\n",
    "from scipy import interpolate\n",
    "import networkx as nx"
   ]
  },
  {
   "cell_type": "code",
   "execution_count": 3,
   "metadata": {},
   "outputs": [],
   "source": [
    "# 関数の定義\n",
    "def model_beta(x, alpha, beta):\n",
    "    Np = 618\n",
    "    f = lambda a: ( ((a ** (alpha - 1)) * ((1 - a)**(beta - 1))) / special.beta(alpha, beta)) * (1 - ((((alpha + beta)) * (2*a*x[0]) ) / (alpha*Np**2 - alpha*Np))) **(Np - 1)\n",
    "    ff, _ = integrate.quad(f, 0, 1)  # 積分の値と推定誤差を別々に受け取る\n",
    "    func = Np * (1 - ff) \n",
    "    return func"
   ]
  },
  {
   "cell_type": "code",
   "execution_count": 4,
   "metadata": {},
   "outputs": [],
   "source": [
    "# /data/df.pickleの読み込み\n",
    "df = pd.read_pickle('../data/df.pickle')\n",
    "\n",
    "df = df.dropna()\n",
    "\n",
    "# データの分割\n",
    "df_p1 = df[(df['started_at'] >= '2020-03-01') & (df['started_at'] < '2020-06-01')].dropna()\n",
    "df_p2 = df[(df['started_at'] >= '2020-06-01') & (df['started_at'] < '2020-11-01')].dropna()\n",
    "df_p3 = df[(df['started_at'] >= '2020-12-01') & (df['started_at'] < '2021-03-01')].dropna()\n",
    "df_p4 = df[(df['started_at'] >= '2021-03-01') & (df['started_at'] < '2023-10-01')].dropna()\n",
    "df_p4_1 = df[(df['started_at'] >= '2021-03-01') & (df['started_at'] < '2022-01-01')].dropna()\n",
    "df_p4_2 = df[(df['started_at'] >= '2022-01-01') & (df['started_at'] < '2023-10-01')].dropna()\n",
    "df_left = pd.concat([df_p1, df_p2, df_p3, df_p4_1], axis=0)\n",
    "df_right = pd.concat([df_p4_2], axis=0)"
   ]
  },
  {
   "cell_type": "code",
   "execution_count": 5,
   "metadata": {},
   "outputs": [],
   "source": [
    "def return_nm(df):\n",
    "    df['started_at'] = pd.to_datetime(df['started_at'])\n",
    "    df['ended_at'] = pd.to_datetime(df['ended_at'])\n",
    "    # started_atで昇順にソート\n",
    "    df = df.sort_values(by='started_at')\n",
    "    current_timestamp = df['started_at'].min()\n",
    "    end_timestamp = df[\"started_at\"].max()\n",
    "    interval = timedelta(days=1)\n",
    "\n",
    "    node_list = []\n",
    "    edge_list = []\n",
    "    timestamp = []\n",
    "\n",
    "    while current_timestamp <= end_timestamp:\n",
    "        timestamp.append(current_timestamp)\n",
    "        next_timestamp = current_timestamp + interval\n",
    "        df_tmp = df[(df['started_at'] >= current_timestamp) & (df['started_at'] < next_timestamp)]\n",
    "\n",
    "        # node_listにはユニークなstart_station_idを追加\n",
    "        node_list.append(len(df_tmp['start_station_id'].unique()))\n",
    "\n",
    "        # edge_listにはdf_tmpの行数を追加\n",
    "        edge_list.append(len(df_tmp))\n",
    "\n",
    "        current_timestamp = next_timestamp\n",
    "\n",
    "    # node_listとedge_listで0の値を削除\n",
    "    node_list = np.array(node_list)\n",
    "    edge_list = np.array(edge_list)\n",
    "    timestamp = np.array(timestamp)\n",
    "    active_node_list = node_list[node_list != 0]\n",
    "    edge_list = edge_list[edge_list != 0]\n",
    "    timestamp = timestamp[:len(node_list)]\n",
    "    \n",
    "    return active_node_list, edge_list, timestamp"
   ]
  },
  {
   "cell_type": "code",
   "execution_count": 6,
   "metadata": {},
   "outputs": [],
   "source": [
    "# left\n",
    "node_left, edge_left, timestamp_left = return_nm(df_left)"
   ]
  },
  {
   "cell_type": "code",
   "execution_count": 7,
   "metadata": {},
   "outputs": [
    {
     "data": {
      "text/html": [
       "<div>\n",
       "<style scoped>\n",
       "    .dataframe tbody tr th:only-of-type {\n",
       "        vertical-align: middle;\n",
       "    }\n",
       "\n",
       "    .dataframe tbody tr th {\n",
       "        vertical-align: top;\n",
       "    }\n",
       "\n",
       "    .dataframe thead th {\n",
       "        text-align: right;\n",
       "    }\n",
       "</style>\n",
       "<table border=\"1\" class=\"dataframe\">\n",
       "  <thead>\n",
       "    <tr style=\"text-align: right;\">\n",
       "      <th></th>\n",
       "      <th>node</th>\n",
       "      <th>edge</th>\n",
       "    </tr>\n",
       "  </thead>\n",
       "  <tbody>\n",
       "    <tr>\n",
       "      <th>0</th>\n",
       "      <td>447</td>\n",
       "      <td>2293</td>\n",
       "    </tr>\n",
       "    <tr>\n",
       "      <th>1</th>\n",
       "      <td>468</td>\n",
       "      <td>2606</td>\n",
       "    </tr>\n",
       "    <tr>\n",
       "      <th>2</th>\n",
       "      <td>485</td>\n",
       "      <td>3528</td>\n",
       "    </tr>\n",
       "    <tr>\n",
       "      <th>3</th>\n",
       "      <td>437</td>\n",
       "      <td>2288</td>\n",
       "    </tr>\n",
       "    <tr>\n",
       "      <th>4</th>\n",
       "      <td>465</td>\n",
       "      <td>2889</td>\n",
       "    </tr>\n",
       "  </tbody>\n",
       "</table>\n",
       "</div>"
      ],
      "text/plain": [
       "   node  edge\n",
       "0   447  2293\n",
       "1   468  2606\n",
       "2   485  3528\n",
       "3   437  2288\n",
       "4   465  2889"
      ]
     },
     "execution_count": 7,
     "metadata": {},
     "output_type": "execute_result"
    }
   ],
   "source": [
    "# node_leftとedge_leftを組みにしてdf_leftを作成\n",
    "df_left = pd.DataFrame({'node': node_left, 'edge': edge_left})\n",
    "df_left.head()"
   ]
  },
  {
   "cell_type": "code",
   "execution_count": 8,
   "metadata": {},
   "outputs": [
    {
     "data": {
      "text/html": [
       "<div>\n",
       "<style scoped>\n",
       "    .dataframe tbody tr th:only-of-type {\n",
       "        vertical-align: middle;\n",
       "    }\n",
       "\n",
       "    .dataframe tbody tr th {\n",
       "        vertical-align: top;\n",
       "    }\n",
       "\n",
       "    .dataframe thead th {\n",
       "        text-align: right;\n",
       "    }\n",
       "</style>\n",
       "<table border=\"1\" class=\"dataframe\">\n",
       "  <thead>\n",
       "    <tr style=\"text-align: right;\">\n",
       "      <th></th>\n",
       "      <th>node</th>\n",
       "      <th>edge</th>\n",
       "    </tr>\n",
       "  </thead>\n",
       "  <tbody>\n",
       "    <tr>\n",
       "      <th>60</th>\n",
       "      <td>106</td>\n",
       "      <td>190</td>\n",
       "    </tr>\n",
       "    <tr>\n",
       "      <th>289</th>\n",
       "      <td>136</td>\n",
       "      <td>221</td>\n",
       "    </tr>\n",
       "    <tr>\n",
       "      <th>288</th>\n",
       "      <td>173</td>\n",
       "      <td>312</td>\n",
       "    </tr>\n",
       "    <tr>\n",
       "      <th>273</th>\n",
       "      <td>215</td>\n",
       "      <td>368</td>\n",
       "    </tr>\n",
       "    <tr>\n",
       "      <th>290</th>\n",
       "      <td>217</td>\n",
       "      <td>494</td>\n",
       "    </tr>\n",
       "  </tbody>\n",
       "</table>\n",
       "</div>"
      ],
      "text/plain": [
       "     node  edge\n",
       "60    106   190\n",
       "289   136   221\n",
       "288   173   312\n",
       "273   215   368\n",
       "290   217   494"
      ]
     },
     "execution_count": 8,
     "metadata": {},
     "output_type": "execute_result"
    }
   ],
   "source": [
    "# df_leftのnodeを昇順にして並び替え\n",
    "df_left = df_left.sort_values(by='node')\n",
    "df_left.head()"
   ]
  },
  {
   "cell_type": "code",
   "execution_count": 9,
   "metadata": {},
   "outputs": [
    {
     "name": "stdout",
     "output_type": "stream",
     "text": [
      "+------------------+\n",
      "| Estimating       |\n",
      "+------------------+\n",
      "alpha:  0.7713341086699671\n",
      "beta:  27.396756800724045\n"
     ]
    }
   ],
   "source": [
    "print(\"+------------------+\")\n",
    "print(\"| Estimating       |\")\n",
    "print(\"+------------------+\")\n",
    "\n",
    "params, _ = optimize.curve_fit(model_beta, xdata=df_left[\"edge\"], ydata=df_left[\"node\"])\n",
    "\n",
    "print(\"alpha: \", params[0])\n",
    "print(\"beta: \", params[1])"
   ]
  },
  {
   "cell_type": "code",
   "execution_count": 11,
   "metadata": {},
   "outputs": [],
   "source": [
    "Np = max(df_left[\"node\"])\n",
    "alpha = params[0]\n",
    "beta = params[1]\n",
    "\n",
    "kappa = []\n",
    "for i in range(len(df_left[\"node\"])):\n",
    "    kappa.append( (((alpha + beta)/alpha)**2) * ((2 * df_left[\"edge\"][i]) / (Np**2 - Np)) )"
   ]
  },
  {
   "cell_type": "code",
   "execution_count": 12,
   "metadata": {},
   "outputs": [
    {
     "name": "stderr",
     "output_type": "stream",
     "text": [
      "/var/folders/pm/4cgtm7w90fbgczj718s4vvk40000gn/T/ipykernel_13153/276521255.py:4: RuntimeWarning: overflow encountered in scalar power\n",
      "  f = lambda a: ( ((a ** (alpha - 1)) * ((1 - a)**(beta - 1))) / special.beta(alpha, beta)) * (1 - ((((alpha + beta)) * (2*a*x[0]) ) / (alpha*Np**2 - alpha*Np))) **(Np - 1)\n"
     ]
    }
   ],
   "source": [
    "Nfit = []\n",
    "for i in range(len(df_left[\"edge\"])):\n",
    "    Nfit.append(model_beta([df_left[\"edge\"][i]], alpha, beta))"
   ]
  },
  {
   "cell_type": "code",
   "execution_count": 13,
   "metadata": {},
   "outputs": [],
   "source": [
    "Mfit = []\n",
    "for i in range(len(df_left[\"edge\"])):\n",
    "    Mfit.append((kappa[i]*Np*(Np-1))/8)"
   ]
  },
  {
   "cell_type": "code",
   "execution_count": 14,
   "metadata": {},
   "outputs": [
    {
     "name": "stderr",
     "output_type": "stream",
     "text": [
      "/Users/yiadka/dev/master_ver2/venv/lib/python3.9/site-packages/numpy/core/function_base.py:158: RuntimeWarning: invalid value encountered in multiply\n",
      "  y *= step\n"
     ]
    },
    {
     "data": {
      "image/png": "[encoded data removed]",
      "text/plain": [
       "<Figure size 1000x600 with 1 Axes>"
      ]
     },
     "metadata": {},
     "output_type": "display_data"
    }
   ],
   "source": [
    "# 隣接する点を繋ぐように線形補間\n",
    "spline_func = interpolate.interp1d(Nfit, Mfit,\n",
    "                                   kind=\"linear\")\n",
    "x_new = np.linspace(min(Nfit), max(Nfit), 1000)\n",
    "y_new = spline_func(x_new)\n",
    "\n",
    "# 可視化\n",
    "plt.figure(figsize=(10, 6))\n",
    "plt.scatter(node_left, edge_left, label='data')\n",
    "plt.plot(x_new, y_new, \"-\", c=\"red\", label=\"beta distribution\")\n",
    "plt.text(0.05, 0.80, r'$\\alpha:$ ' + str(round(alpha, 3)), transform=plt.gca().transAxes)\n",
    "plt.text(0.05, 0.75, r'$\\beta:$ ' + str(round(beta, 3)), transform=plt.gca().transAxes)\n",
    "plt.text(0.05, 0.70, r'$\\hat{N_{p}}=N_{p}=$ ' + str(Np), transform=plt.gca().transAxes)\n",
    "plt.xlabel('X')\n",
    "plt.ylabel('Y')\n",
    "plt.xscale('log')\n",
    "plt.yscale('log')\n",
    "plt.legend(loc='best')\n",
    "plt.show()"
   ]
  },
  {
   "cell_type": "code",
   "execution_count": 11,
   "metadata": {},
   "outputs": [],
   "source": [
    "# 正規化する\n",
    "node_norm = node_left - min(node_left) + 2\n",
    "edge_norm = edge_left - min(edge_left) + 1"
   ]
  },
  {
   "cell_type": "code",
   "execution_count": 13,
   "metadata": {},
   "outputs": [],
   "source": [
    "# 関数の定義\n",
    "def model_beta_norm(x, alpha, beta):\n",
    "    Np = 514\n",
    "    f = lambda a: ( ((a ** (alpha - 1)) * ((1 - a)**(beta - 1))) / special.beta(alpha, beta)) * (1 - ((((alpha + beta)) * (2*a*x[0]) ) / (alpha*Np**2 - alpha*Np))) **(Np - 1)\n",
    "    ff, _ = integrate.fixed_quad(f, 0, 1)  # 積分の値と推定誤差を別々に受け取る\n",
    "    func = Np * (1 - ff) \n",
    "    return func"
   ]
  },
  {
   "cell_type": "code",
   "execution_count": 14,
   "metadata": {},
   "outputs": [
    {
     "name": "stdout",
     "output_type": "stream",
     "text": [
      "+------------------+\n",
      "| Estimating       |\n",
      "+------------------+\n",
      "alpha:  0.46699587157956646\n",
      "beta:  0.6590156747245888\n"
     ]
    }
   ],
   "source": [
    "print(\"+------------------+\")\n",
    "print(\"| Estimating       |\")\n",
    "print(\"+------------------+\")\n",
    "\n",
    "params, _ = optimize.curve_fit(model_beta_norm, xdata=edge_norm, ydata=node_norm)\n",
    "\n",
    "print(\"alpha: \", params[0])\n",
    "print(\"beta: \", params[1])\n"
   ]
  },
  {
   "cell_type": "code",
   "execution_count": 15,
   "metadata": {},
   "outputs": [],
   "source": [
    "kappa = []\n",
    "for i in range(len(edge_norm)):\n",
    "    kappa.append( (((alpha + beta)/alpha)**2) * ((2 * edge_norm[i]) / (Np**2 - Np)) )"
   ]
  },
  {
   "cell_type": "code",
   "execution_count": 16,
   "metadata": {},
   "outputs": [],
   "source": [
    "Np = max(node_norm)\n",
    "alpha = params[0]\n",
    "beta = params[1]\n",
    "\n",
    "Nnorm_fit = []\n",
    "for i in range(len(edge_norm)):\n",
    "    Nnorm_fit.append(model_beta([edge_norm[i]], alpha, beta))\n",
    "\n",
    "Mnorm_fit = []\n",
    "for i in range(len(kappa)):\n",
    "    Mnorm_fit.append(((kappa[i] * (Np ** 2)) - (kappa[i] * Np)) / 8)"
   ]
  },
  {
   "cell_type": "code",
   "execution_count": 17,
   "metadata": {},
   "outputs": [
    {
     "data": {
      "image/png": "[encoded data removed]",
      "text/plain": [
       "<Figure size 1000x600 with 1 Axes>"
      ]
     },
     "metadata": {},
     "output_type": "display_data"
    }
   ],
   "source": [
    "# 隣接する点を繋ぐように線形補間\n",
    "spline_func = interpolate.interp1d(Nnorm_fit, Mnorm_fit,\n",
    "                                   kind=\"linear\")\n",
    "x_new = np.linspace(min(Nnorm_fit), max(Nnorm_fit), 1000)\n",
    "y_new = spline_func(x_new)\n",
    "\n",
    "plt.figure(figsize=(10, 6))\n",
    "# plt.scatter(node_left, edge_left, label=\"left\")\n",
    "# plt.scatter(Nnorm_fit, Mnorm_fit, label=\"fit\", c=\"red\") \n",
    "plt.scatter(node_norm, edge_norm, label=\"Normalized data\")\n",
    "plt.plot(x_new, y_new, \"-\", c=\"red\", label=\"beta distribution\")\n",
    "# node_normとMnorm_fitの間を補間する\n",
    "\n",
    "plt.text(0.03, 0.85, r'$\\alpha:$ ' + str(round(alpha, 3)), transform=plt.gca().transAxes)\n",
    "plt.text(0.03, 0.80, r'$\\beta:$ ' + str(round(beta, 3)), transform=plt.gca().transAxes)\n",
    "plt.text(0.03, 0.75, r'$\\hat{N_{p}}=N_{p}=$ ' + str(Np), transform=plt.gca().transAxes)\n",
    "\n",
    "plt.xlabel(\"N\")\n",
    "plt.ylabel(\"M\")\n",
    "plt.xscale(\"log\")\n",
    "plt.yscale(\"log\")\n",
    "plt.legend()\n",
    "plt.show()\n"
   ]
  },
  {
   "cell_type": "markdown",
   "metadata": {},
   "source": [
    "## 正規化プロセス2\n",
    "$$\n",
    "N_{mod} = N - N_{min} / <k>\n",
    "$$\n",
    "\n",
    "$$\n",
    "M_{mod} = M - M_{min} / <k>\n",
    "$$"
   ]
  },
  {
   "cell_type": "code",
   "execution_count": 18,
   "metadata": {},
   "outputs": [
    {
     "name": "stdout",
     "output_type": "stream",
     "text": [
      "k:  23.169\n"
     ]
    }
   ],
   "source": [
    "# edgeを平均次数で割る\n",
    "# ネットワークの平均次数\n",
    "k = sum(edge_left) / sum(node_left)\n",
    "k = round(k, 3)\n",
    "print(\"k: \", k)"
   ]
  },
  {
   "cell_type": "code",
   "execution_count": 19,
   "metadata": {},
   "outputs": [],
   "source": [
    "# edge_left / k\n",
    "Nnorm2 = []\n",
    "for i in range(len(node_left)):\n",
    "    Nnorm2.append((node_left[i] - min(node_left)) / k)"
   ]
  },
  {
   "cell_type": "code",
   "execution_count": 20,
   "metadata": {},
   "outputs": [],
   "source": [
    "Mnorm2 = []\n",
    "for i in range(len(edge_left)):\n",
    "    Mnorm2.append((edge_left[i] - min(edge_left))/ k)"
   ]
  },
  {
   "cell_type": "code",
   "execution_count": 21,
   "metadata": {},
   "outputs": [
    {
     "data": {
      "text/plain": [
       "22.098493676895853"
      ]
     },
     "execution_count": 21,
     "metadata": {},
     "output_type": "execute_result"
    }
   ],
   "source": [
    "max(Nnorm2)"
   ]
  },
  {
   "cell_type": "code",
   "execution_count": 22,
   "metadata": {},
   "outputs": [],
   "source": [
    "# 関数の定義\n",
    "def model_beta_norm2(x, alpha, beta):\n",
    "    Np = 22.1\n",
    "    f = lambda a: ( ((a ** (alpha - 1)) * ((1 - a)**(beta - 1))) / special.beta(alpha, beta)) * (1 - ((((alpha + beta)) * (2*a*x[0]) ) / (alpha*Np**2 - alpha*Np))) **(Np - 1)\n",
    "    ff, _ = integrate.fixed_quad(f, 0, 1)  # 積分の値と推定誤差を別々に受け取る\n",
    "    func = Np * (1 - ff) \n",
    "    return func"
   ]
  },
  {
   "cell_type": "code",
   "execution_count": 23,
   "metadata": {},
   "outputs": [
    {
     "name": "stdout",
     "output_type": "stream",
     "text": [
      "+------------------+\n",
      "| Estimating       |\n",
      "+------------------+\n",
      "alpha:  0.8416496265669934\n",
      "beta:  1.4267008156230372\n"
     ]
    },
    {
     "name": "stderr",
     "output_type": "stream",
     "text": [
      "/var/folders/pm/4cgtm7w90fbgczj718s4vvk40000gn/T/ipykernel_12380/1892473104.py:4: RuntimeWarning: overflow encountered in power\n",
      "  f = lambda a: ( ((a ** (alpha - 1)) * ((1 - a)**(beta - 1))) / special.beta(alpha, beta)) * (1 - ((((alpha + beta)) * (2*a*x[0]) ) / (alpha*Np**2 - alpha*Np))) **(Np - 1)\n",
      "/var/folders/pm/4cgtm7w90fbgczj718s4vvk40000gn/T/ipykernel_12380/1892473104.py:4: RuntimeWarning: invalid value encountered in power\n",
      "  f = lambda a: ( ((a ** (alpha - 1)) * ((1 - a)**(beta - 1))) / special.beta(alpha, beta)) * (1 - ((((alpha + beta)) * (2*a*x[0]) ) / (alpha*Np**2 - alpha*Np))) **(Np - 1)\n"
     ]
    }
   ],
   "source": [
    "print(\"+------------------+\")\n",
    "print(\"| Estimating       |\")\n",
    "print(\"+------------------+\")\n",
    "\n",
    "params, _ = optimize.curve_fit(model_beta_norm2, xdata=Mnorm2, ydata=Nnorm2)\n",
    "\n",
    "print(\"alpha: \", params[0])\n",
    "print(\"beta: \", params[1])"
   ]
  },
  {
   "cell_type": "code",
   "execution_count": 25,
   "metadata": {},
   "outputs": [],
   "source": [
    "kappa = []\n",
    "for i in range(len(Mnorm2)):\n",
    "    kappa.append( (((alpha + beta)/alpha)**2) * ((2 * Mnorm2[i]) / (Np**2 - Np)) )"
   ]
  },
  {
   "cell_type": "code",
   "execution_count": 26,
   "metadata": {},
   "outputs": [],
   "source": [
    "Np = max(Nnorm2)\n",
    "alpha = params[0]\n",
    "beta = params[1]\n",
    "\n",
    "Nnorm2_fit = []\n",
    "for i in range(len(Mnorm2)):\n",
    "    Nnorm2_fit.append(model_beta([Mnorm2[i]], alpha, beta))\n",
    "\n",
    "Mnorm2_fit = []\n",
    "for i in range(len(kappa)):\n",
    "    Mnorm2_fit.append(((kappa[i] * (Np ** 2)) - (kappa[i] * Np)) / 8)"
   ]
  },
  {
   "cell_type": "code",
   "execution_count": 27,
   "metadata": {},
   "outputs": [
    {
     "data": {
      "image/png": "[encoded data removed]",
      "text/plain": [
       "<Figure size 1000x600 with 1 Axes>"
      ]
     },
     "metadata": {},
     "output_type": "display_data"
    }
   ],
   "source": [
    "# 隣接する点を繋ぐように線形補間\n",
    "spline_func = interpolate.interp1d(Nnorm2_fit, Mnorm2_fit,\n",
    "                                   kind=\"linear\")\n",
    "x_new = np.linspace(min(Nnorm2_fit), max(Nnorm2_fit), 1000)\n",
    "y_new = spline_func(x_new)\n",
    "\n",
    "plt.figure(figsize=(10, 6))\n",
    "# plt.scatter(node_left, edge_left, label=\"left\")\n",
    "# plt.scatter(Nnorm_fit, Mnorm_fit, label=\"fit\", c=\"red\") \n",
    "plt.scatter(Nnorm2, Mnorm2, label=\"Normalized data\")\n",
    "plt.plot(x_new, y_new, \"-\", c=\"red\", label=\"beta distribution\")\n",
    "# node_normとMnorm_fitの間を補間する\n",
    "\n",
    "plt.text(0.03, 0.85, r'$\\alpha:$ ' + str(round(alpha, 3)), transform=plt.gca().transAxes)\n",
    "plt.text(0.03, 0.80, r'$\\beta:$ ' + str(round(beta, 3)), transform=plt.gca().transAxes)\n",
    "plt.text(0.03, 0.75, r'$\\hat{N_{p}}=N_{p}=$ ' + str(Np), transform=plt.gca().transAxes)\n",
    "\n",
    "plt.xlabel(\"N\")\n",
    "plt.ylabel(\"M\")\n",
    "plt.xscale(\"log\")\n",
    "plt.yscale(\"log\")\n",
    "plt.legend()\n",
    "plt.show()\n"
   ]
  },
  {
   "cell_type": "markdown",
   "metadata": {},
   "source": [
    "## 正規化プロセス3\n",
    "$$\n",
    "N_{norm} = \\frac{N_{i} - N_{min}}{k_{i}}\n",
    "$$\n",
    "\n",
    "$$\n",
    "M_{norm} = \\frac{M_{i} - M{min}}{k_{i}}\n",
    "$$"
   ]
  },
  {
   "cell_type": "code",
   "execution_count": null,
   "metadata": {},
   "outputs": [],
   "source": []
  },
  {
   "cell_type": "code",
   "execution_count": null,
   "metadata": {},
   "outputs": [],
   "source": []
  },
  {
   "cell_type": "markdown",
   "metadata": {},
   "source": [
    "## 正規化プロセス4"
   ]
  },
  {
   "cell_type": "code",
   "execution_count": 37,
   "metadata": {},
   "outputs": [],
   "source": [
    "# Nの平均を求める\n",
    "N_mu = sum(node_left) / len(node_left)\n",
    "N_mu = round(N_mu, 3)\n",
    "\n",
    "# Mの平均を求める\n",
    "M_mu = sum(edge_left) / len(edge_left)\n",
    "M_mu = round(M_mu, 3)"
   ]
  },
  {
   "cell_type": "code",
   "execution_count": 38,
   "metadata": {},
   "outputs": [],
   "source": [
    "# Nの分散を求める\n",
    "N_var = sum((node_left - N_mu)**2) / len(node_left)\n",
    "N_var = round(N_var, 3)\n",
    "\n",
    "# Mの分散を求める\n",
    "M_var = sum((edge_left - M_mu)**2) / len(edge_left)\n",
    "M_var = round(M_var, 3)"
   ]
  },
  {
   "cell_type": "code",
   "execution_count": 39,
   "metadata": {},
   "outputs": [],
   "source": [
    "# 正規化\n",
    "Nnorm = []\n",
    "for i in range(len(node_left)):\n",
    "    Nnorm.append((node_left[i] - N_mu) / N_var)\n",
    "\n",
    "Mnorm = []\n",
    "for i in range(len(edge_left)):\n",
    "    Mnorm.append((edge_left[i] - M_mu) / M_var)"
   ]
  },
  {
   "cell_type": "code",
   "execution_count": 40,
   "metadata": {},
   "outputs": [
    {
     "data": {
      "text/plain": [
       "0.017119158721030484"
      ]
     },
     "execution_count": 40,
     "metadata": {},
     "output_type": "execute_result"
    }
   ],
   "source": [
    "max(Nnorm)"
   ]
  },
  {
   "cell_type": "code",
   "execution_count": 41,
   "metadata": {},
   "outputs": [],
   "source": [
    "# 関数の定義\n",
    "def model_beta_norm4(x, alpha, beta):\n",
    "    Np = 0.02\n",
    "    f = lambda a: ( ((a ** (alpha - 1)) * ((1 - a)**(beta - 1))) / special.beta(alpha, beta)) * (1 - ((((alpha + beta)) * (2*a*x[0]) ) / (alpha*Np**2 - alpha*Np))) **(Np - 1)\n",
    "    ff, _ = integrate.fixed_quad(f, 0, 1)  # 積分の値と推定誤差を別々に受け取る\n",
    "    func = Np * (1 - ff) \n",
    "    return func"
   ]
  },
  {
   "cell_type": "code",
   "execution_count": 42,
   "metadata": {},
   "outputs": [
    {
     "name": "stdout",
     "output_type": "stream",
     "text": [
      "+------------------+\n",
      "| Estimating       |\n",
      "+------------------+\n",
      "alpha:  0.8098401375381209\n",
      "beta:  0.7896396140529369\n"
     ]
    }
   ],
   "source": [
    "print(\"+------------------+\")\n",
    "print(\"| Estimating       |\")\n",
    "print(\"+------------------+\")\n",
    "\n",
    "params, _ = optimize.curve_fit(model_beta_norm4, xdata=Mnorm, ydata=Nnorm)\n",
    "\n",
    "print(\"alpha: \", params[0])\n",
    "print(\"beta: \", params[1])"
   ]
  },
  {
   "cell_type": "code",
   "execution_count": 43,
   "metadata": {},
   "outputs": [],
   "source": [
    "kappa = []\n",
    "for i in range(len(Mnorm)):\n",
    "    kappa.append( (((alpha + beta)/alpha)**2) * ((2 * Mnorm[i]) / (Np**2 - Np)) )"
   ]
  },
  {
   "cell_type": "code",
   "execution_count": 47,
   "metadata": {},
   "outputs": [],
   "source": [
    "Np = max(Nnorm)\n",
    "alpha = params[0]\n",
    "beta = params[1]\n",
    "\n",
    "Nnorm_fit = []\n",
    "for i in range(len(Mnorm2)):\n",
    "    Nnorm_fit.append(model_beta([Mnorm[i]], alpha, beta))\n",
    "\n",
    "Mnorm_fit = []\n",
    "for i in range(len(kappa)):\n",
    "    Mnorm_fit.append(((kappa[i] * (Np ** 2)) - (kappa[i] * Np)) / 8)"
   ]
  },
  {
   "cell_type": "code",
   "execution_count": 48,
   "metadata": {},
   "outputs": [
    {
     "name": "stdout",
     "output_type": "stream",
     "text": [
      "608\n",
      "608\n"
     ]
    }
   ],
   "source": [
    "print(len(Nnorm_fit))\n",
    "print(len(Mnorm_fit))"
   ]
  },
  {
   "cell_type": "code",
   "execution_count": 49,
   "metadata": {},
   "outputs": [
    {
     "data": {
      "image/png": "[encoded data removed]",
      "text/plain": [
       "<Figure size 1000x600 with 1 Axes>"
      ]
     },
     "metadata": {},
     "output_type": "display_data"
    }
   ],
   "source": [
    "# 隣接する点を繋ぐように線形補間\n",
    "spline_func = interpolate.interp1d(Nnorm_fit, Mnorm_fit,\n",
    "                                   kind=\"linear\")\n",
    "x_new = np.linspace(min(Nnorm_fit), max(Nnorm_fit), 1000)\n",
    "y_new = spline_func(x_new)\n",
    "\n",
    "plt.figure(figsize=(10, 6))\n",
    "# plt.scatter(node_left, edge_left, label=\"left\")\n",
    "# plt.scatter(Nnorm_fit, Mnorm_fit, label=\"fit\", c=\"red\") \n",
    "plt.scatter(Nnorm, Mnorm, label=\"Normalized data\")\n",
    "plt.plot(x_new, y_new, \"-\", c=\"red\", label=\"beta distribution\")\n",
    "# node_normとMnorm_fitの間を補間する\n",
    "\n",
    "plt.text(0.03, 0.85, r'$\\alpha:$ ' + str(round(alpha, 3)), transform=plt.gca().transAxes)\n",
    "plt.text(0.03, 0.80, r'$\\beta:$ ' + str(round(beta, 3)), transform=plt.gca().transAxes)\n",
    "plt.text(0.03, 0.75, r'$\\hat{N_{p}}=N_{p}=$ ' + str(Np), transform=plt.gca().transAxes)\n",
    "\n",
    "plt.xlabel(\"N\")\n",
    "plt.ylabel(\"M\")\n",
    "plt.xscale(\"log\")\n",
    "plt.yscale(\"log\")\n",
    "plt.legend()\n",
    "plt.show()\n"
   ]
  },
  {
   "cell_type": "code",
   "execution_count": null,
   "metadata": {},
   "outputs": [],
   "source": []
  },
  {
   "cell_type": "code",
   "execution_count": null,
   "metadata": {},
   "outputs": [],
   "source": []
  },
  {
   "cell_type": "code",
   "execution_count": null,
   "metadata": {},
   "outputs": [],
   "source": []
  },
  {
   "cell_type": "code",
   "execution_count": null,
   "metadata": {},
   "outputs": [],
   "source": []
  },
  {
   "cell_type": "markdown",
   "metadata": {},
   "source": [
    "## 右側のデータを分析する"
   ]
  },
  {
   "cell_type": "code",
   "execution_count": 175,
   "metadata": {},
   "outputs": [],
   "source": [
    "# Redefine\n",
    "node_right, edge_right, timestamp_right = return_nm(df_right)"
   ]
  },
  {
   "cell_type": "code",
   "execution_count": 176,
   "metadata": {},
   "outputs": [
    {
     "name": "stdout",
     "output_type": "stream",
     "text": [
      "+------------------+\n",
      "| Estimating       |\n",
      "+------------------+\n",
      "alpha:  1.3852481613913514\n",
      "beta:  0.2674717906290024\n"
     ]
    }
   ],
   "source": [
    "print(\"+------------------+\")\n",
    "print(\"| Estimating       |\")\n",
    "print(\"+------------------+\")\n",
    "\n",
    "params_right, _ = optimize.curve_fit(model_beta, xdata=edge_right, ydata=node_right)\n",
    "\n",
    "print(\"alpha: \", params_right[0])\n",
    "print(\"beta: \", params_right[1])"
   ]
  },
  {
   "cell_type": "code",
   "execution_count": 177,
   "metadata": {},
   "outputs": [],
   "source": [
    "alpha_right = params_right[0]\n",
    "beta_right = params_right[1]"
   ]
  },
  {
   "cell_type": "code",
   "execution_count": 178,
   "metadata": {},
   "outputs": [],
   "source": [
    "Np = max(node_right)\n",
    "\n",
    "kappa = []\n",
    "for i in range(len(edge_right)):\n",
    "    kappa.append( (((alpha_right + beta_right)/alpha_right)**2) * ((2 * edge_right[i]) / (Np**2 - Np)) )"
   ]
  },
  {
   "cell_type": "code",
   "execution_count": 179,
   "metadata": {},
   "outputs": [],
   "source": [
    "Nfit = []\n",
    "for i in range(len(edge_right)):\n",
    "    Nfit.append(model_beta([edge_right[i]], alpha_right, beta_right))"
   ]
  },
  {
   "cell_type": "code",
   "execution_count": 180,
   "metadata": {},
   "outputs": [],
   "source": [
    "Mfit = []\n",
    "for i in range(len(edge_right)):\n",
    "    Mfit.append((kappa[i]*Np*(Np-1))/8)"
   ]
  },
  {
   "cell_type": "code",
   "execution_count": 181,
   "metadata": {},
   "outputs": [
    {
     "data": {
      "image/png": "[encoded data removed]",
      "text/plain": [
       "<Figure size 1000x600 with 1 Axes>"
      ]
     },
     "metadata": {},
     "output_type": "display_data"
    }
   ],
   "source": [
    "# 隣接する点を繋ぐように線形補間\n",
    "spline_func = interpolate.interp1d(Nfit, Mfit,\n",
    "                                   kind=\"linear\")\n",
    "x_new = np.linspace(min(Nfit), max(Nfit), 1000)\n",
    "y_new = spline_func(x_new)\n",
    "\n",
    "# 可視化\n",
    "plt.figure(figsize=(10, 6))\n",
    "plt.scatter(node_right, edge_right, label='data')\n",
    "plt.plot(x_new, y_new, \"-\", c=\"red\", label=\"beta distribution\")\n",
    "plt.text(0.05, 0.80, r'$\\alpha:$ ' + str(round(alpha_right, 3)), transform=plt.gca().transAxes)\n",
    "plt.text(0.05, 0.75, r'$\\beta:$ ' + str(round(beta_right, 3)), transform=plt.gca().transAxes)\n",
    "plt.text(0.05, 0.70, r'$\\hat{N_{p}}=N_{p}=$ ' + str(Np), transform=plt.gca().transAxes)\n",
    "plt.xlabel('X')\n",
    "plt.ylabel('Y')\n",
    "plt.xscale('log')\n",
    "plt.yscale('log')\n",
    "plt.legend(loc='best')\n",
    "plt.show()"
   ]
  },
  {
   "cell_type": "code",
   "execution_count": null,
   "metadata": {},
   "outputs": [],
   "source": []
  },
  {
   "cell_type": "code",
   "execution_count": null,
   "metadata": {},
   "outputs": [],
   "source": []
  },
  {
   "cell_type": "markdown",
   "metadata": {},
   "source": [
    "## ベータ分布"
   ]
  },
  {
   "cell_type": "code",
   "execution_count": 189,
   "metadata": {},
   "outputs": [
    {
     "data": {
      "image/png": "[encoded data removed]",
      "text/plain": [
       "<Figure size 640x480 with 1 Axes>"
      ]
     },
     "metadata": {},
     "output_type": "display_data"
    }
   ],
   "source": [
    "# rvs from beta distribution\n",
    "alpha = 1.0\n",
    "beta = 0.5\n",
    "rvs = stats.beta.rvs(alpha, beta, size=1)\n",
    "plt.hist(rvs, bins=100)\n",
    "plt.show()\n"
   ]
  },
  {
   "cell_type": "code",
   "execution_count": null,
   "metadata": {},
   "outputs": [],
   "source": []
  }
 ],
 "metadata": {
  "kernelspec": {
   "display_name": "venv",
   "language": "python",
   "name": "python3"
  },
  "language_info": {
   "codemirror_mode": {
    "name": "ipython",
    "version": 3
   },
   "file_extension": ".py",
   "mimetype": "text/x-python",
   "name": "python",
   "nbconvert_exporter": "python",
   "pygments_lexer": "ipython3",
   "version": "3.9.6"
  }
 },
 "nbformat": 4,
 "nbformat_minor": 2
}

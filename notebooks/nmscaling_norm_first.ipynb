{
 "cells": [
  {
   "cell_type": "code",
   "execution_count": 1,
   "metadata": {},
   "outputs": [],
   "source": [
    "import pandas as pd\n",
    "import numpy as np\n",
    "import matplotlib.pyplot as plt\n",
    "from datetime import timedelta\n",
    "from scipy import optimize, interpolate\n",
    "from sklearn.preprocessing import StandardScaler\n",
    "from sklearn.linear_model import LinearRegression\n",
    "from scipy.optimize import basinhopping"
   ]
  },
  {
   "cell_type": "code",
   "execution_count": 2,
   "metadata": {},
   "outputs": [],
   "source": [
    "# /data/df.pickleの読み込み\n",
    "df = pd.read_pickle('../data/df.pickle')\n",
    "\n",
    "df = df.dropna()\n",
    "\n",
    "# データの分割\n",
    "df_p1 = df[(df['started_at'] >= '2020-03-01') & (df['started_at'] < '2020-06-01')].dropna()\n",
    "df_p2 = df[(df['started_at'] >= '2020-06-01') & (df['started_at'] < '2020-11-01')].dropna()\n",
    "df_p3 = df[(df['started_at'] >= '2020-12-01') & (df['started_at'] < '2021-03-01')].dropna()\n",
    "df_p4 = df[(df['started_at'] >= '2021-03-01') & (df['started_at'] < '2023-10-01')].dropna()\n",
    "df_p4_1 = df[(df['started_at'] >= '2021-03-01') & (df['started_at'] < '2022-01-01')].dropna()\n",
    "df_p4_2 = df[(df['started_at'] >= '2022-01-01') & (df['started_at'] < '2023-10-01')].dropna()\n",
    "df_left = pd.concat([df_p1, df_p2, df_p3, df_p4_1], axis=0)\n",
    "df_right = pd.concat([df_p4_2], axis=0)"
   ]
  },
  {
   "cell_type": "code",
   "execution_count": 3,
   "metadata": {},
   "outputs": [],
   "source": [
    "def return_nm(df):\n",
    "    df['started_at'] = pd.to_datetime(df['started_at'])\n",
    "    df['ended_at'] = pd.to_datetime(df['ended_at'])\n",
    "    # started_atで昇順にソート\n",
    "    df = df.sort_values(by='started_at')\n",
    "    current_timestamp = df['started_at'].min()\n",
    "    end_timestamp = df[\"started_at\"].max()\n",
    "    interval = timedelta(days=1)\n",
    "\n",
    "    node_list = []\n",
    "    edge_list = []\n",
    "    timestamp = []\n",
    "\n",
    "    while current_timestamp <= end_timestamp:\n",
    "        timestamp.append(current_timestamp)\n",
    "        next_timestamp = current_timestamp + interval\n",
    "        df_tmp = df[(df['started_at'] >= current_timestamp) & (df['started_at'] < next_timestamp)]\n",
    "\n",
    "        # node_listにはユニークなstart_station_idを追加\n",
    "        node_list.append(len(df_tmp['start_station_id'].unique()))\n",
    "\n",
    "        # edge_listにはdf_tmpの行数を追加\n",
    "        edge_list.append(len(df_tmp))\n",
    "\n",
    "        current_timestamp = next_timestamp\n",
    "\n",
    "    # node_listとedge_listで0の値を削除\n",
    "    node_list = np.array(node_list)\n",
    "    edge_list = np.array(edge_list)\n",
    "    timestamp = np.array(timestamp)\n",
    "    active_node_list = node_list[node_list != 0]\n",
    "    edge_list = edge_list[edge_list != 0]\n",
    "    timestamp = timestamp[:len(node_list)]\n",
    "    \n",
    "    return active_node_list, edge_list, timestamp"
   ]
  },
  {
   "cell_type": "code",
   "execution_count": 4,
   "metadata": {},
   "outputs": [],
   "source": [
    "node_left, edge_left, timestamp_left = return_nm(df_left)"
   ]
  },
  {
   "cell_type": "code",
   "execution_count": 5,
   "metadata": {},
   "outputs": [
    {
     "data": {
      "text/html": [
       "<div>\n",
       "<style scoped>\n",
       "    .dataframe tbody tr th:only-of-type {\n",
       "        vertical-align: middle;\n",
       "    }\n",
       "\n",
       "    .dataframe tbody tr th {\n",
       "        vertical-align: top;\n",
       "    }\n",
       "\n",
       "    .dataframe thead th {\n",
       "        text-align: right;\n",
       "    }\n",
       "</style>\n",
       "<table border=\"1\" class=\"dataframe\">\n",
       "  <thead>\n",
       "    <tr style=\"text-align: right;\">\n",
       "      <th></th>\n",
       "      <th>node</th>\n",
       "      <th>edge</th>\n",
       "    </tr>\n",
       "  </thead>\n",
       "  <tbody>\n",
       "    <tr>\n",
       "      <th>0</th>\n",
       "      <td>106</td>\n",
       "      <td>190</td>\n",
       "    </tr>\n",
       "    <tr>\n",
       "      <th>1</th>\n",
       "      <td>136</td>\n",
       "      <td>221</td>\n",
       "    </tr>\n",
       "    <tr>\n",
       "      <th>2</th>\n",
       "      <td>173</td>\n",
       "      <td>312</td>\n",
       "    </tr>\n",
       "    <tr>\n",
       "      <th>3</th>\n",
       "      <td>215</td>\n",
       "      <td>368</td>\n",
       "    </tr>\n",
       "    <tr>\n",
       "      <th>4</th>\n",
       "      <td>217</td>\n",
       "      <td>494</td>\n",
       "    </tr>\n",
       "  </tbody>\n",
       "</table>\n",
       "</div>"
      ],
      "text/plain": [
       "   node  edge\n",
       "0   106   190\n",
       "1   136   221\n",
       "2   173   312\n",
       "3   215   368\n",
       "4   217   494"
      ]
     },
     "execution_count": 5,
     "metadata": {},
     "output_type": "execute_result"
    }
   ],
   "source": [
    "# node_leftとedge_leftを組みにしてdf_leftを作成\n",
    "df_left = pd.DataFrame({'node': node_left, 'edge': edge_left})\n",
    "# df_leftのnodeを昇順にして並び替え\n",
    "df_left = df_left.sort_values(by='node')\n",
    "# インデックスを振り直す\n",
    "df_left = df_left.reset_index(drop=True)\n",
    "df_left.head()"
   ]
  },
  {
   "cell_type": "code",
   "execution_count": 6,
   "metadata": {},
   "outputs": [],
   "source": [
    "# modelを定義\n",
    "def model_uniform(x, kappa):\n",
    "    m = x[0]\n",
    "    kappa = np.abs(kappa)\n",
    "    Np = (1 + np.sqrt(1 + ((32 * np.abs(m)) / np.abs(kappa))) ) / 2\n",
    "    res = Np * (1 - (2 / (kappa * Np)) * (1 - ((1 - (kappa / 2)) ** Np) ))\n",
    "    return res"
   ]
  },
  {
   "cell_type": "code",
   "execution_count": 7,
   "metadata": {},
   "outputs": [],
   "source": [
    "# 残差関数の定義\n",
    "def residual_uniform(params, x, y):\n",
    "    return y - model_uniform(x, *params)"
   ]
  },
  {
   "cell_type": "code",
   "execution_count": 11,
   "metadata": {},
   "outputs": [
    {
     "name": "stdout",
     "output_type": "stream",
     "text": [
      "+------------------+\n",
      "| Estimating       |\n",
      "+------------------+\n",
      "kappa: 0.05997235728383503\n"
     ]
    }
   ],
   "source": [
    "print(\"+------------------+\")\n",
    "print(\"| Estimating       |\")\n",
    "print(\"+------------------+\")\n",
    "\n",
    "# result = optimize.least_squares(residual_uniform, x0=[0.05], args=(edge_norm_left, node_norm_left))\n",
    "# optimized_kappa = result.x\n",
    "\n",
    "result, _ = optimize.curve_fit(model_uniform, edge_left, node_left, p0=[0.001])\n",
    "optimized_kappa = result[0]\n",
    "\n",
    "print(r\"kappa:\", optimized_kappa)"
   ]
  },
  {
   "cell_type": "code",
   "execution_count": 12,
   "metadata": {},
   "outputs": [
    {
     "name": "stdout",
     "output_type": "stream",
     "text": [
      "+------------------+\n",
      "|      DONE        |\n",
      "+------------------+\n",
      "| Np:  159.7019474818014\n",
      "| kappa:  0.05997235728383503\n",
      "| N:  126.61117138008991\n",
      "| M:  190.0\n",
      "+------------------+\n"
     ]
    }
   ],
   "source": [
    "# 元の関数に代入する\n",
    "kappa_hat = optimized_kappa\n",
    "print(\"+------------------+\")\n",
    "Np_estimated = []\n",
    "for i in range(len(df_left[\"edge\"])):\n",
    "    Np_estimated.append( (1 + np.sqrt(1 + (32 * df_left[\"edge\"][i] / kappa_hat))) / 2 )\n",
    "\n",
    "# Eq8, 9\n",
    "N = []\n",
    "M = []\n",
    "for i in range(len(Np_estimated)):\n",
    "    N.append( Np_estimated[i] * ( 1 - (2/(Np_estimated[i] * kappa_hat)) * (1 - (1 - (kappa_hat/2))**Np_estimated[i] ) ) )\n",
    "    M.append( ( kappa_hat * Np_estimated[i] * (Np_estimated[i] - 1) ) * (1 / 8) )\n",
    "\n",
    "print(\"|      DONE        |\")\n",
    "print(\"+------------------+\")\n",
    "print(\"| Np: \", Np_estimated[0])\n",
    "print(\"| kappa: \", kappa_hat)\n",
    "print(\"| N: \", N[0])\n",
    "print(\"| M: \", M[0])\n",
    "print(\"+------------------+\")"
   ]
  },
  {
   "cell_type": "code",
   "execution_count": 13,
   "metadata": {},
   "outputs": [
    {
     "data": {
      "image/png": "[encoded data removed]",
      "text/plain": [
       "<Figure size 1000x600 with 1 Axes>"
      ]
     },
     "metadata": {},
     "output_type": "display_data"
    }
   ],
   "source": [
    "# 可視化\n",
    "plt.figure(figsize=(10, 6))\n",
    "plt.scatter(df_left[\"node\"], df_left[\"edge\"], label='Data')\n",
    "plt.plot(N, M, label='Model', color='red') \n",
    "plt.xlabel('N')\n",
    "plt.ylabel('M')\n",
    "plt.xscale('log')\n",
    "plt.yscale('log')\n",
    "plt.legend(loc='best')\n",
    "plt.show()"
   ]
  },
  {
   "cell_type": "code",
   "execution_count": 14,
   "metadata": {},
   "outputs": [],
   "source": [
    "# 正規化\n",
    "df_left[\"node_norm\"] = df_left[\"node\"] - df_left[\"node\"].min() + 2\n",
    "df_left[\"edge_norm\"] = df_left[\"edge\"] - df_left[\"edge\"].min() + 1"
   ]
  },
  {
   "cell_type": "code",
   "execution_count": 15,
   "metadata": {},
   "outputs": [],
   "source": [
    "node_norm_left = df_left['node_norm'].values\n",
    "edge_norm_left = df_left['edge_norm'].values"
   ]
  },
  {
   "cell_type": "code",
   "execution_count": 16,
   "metadata": {},
   "outputs": [
    {
     "name": "stdout",
     "output_type": "stream",
     "text": [
      "+------------------+\n",
      "|      DONE        |\n",
      "+------------------+\n",
      "| Np:  12.060483982310341\n",
      "| kappa:  0.05997235728383503\n",
      "| N:  1.811905711080129\n",
      "| M:  8.6328836976027\n",
      "+------------------+\n"
     ]
    }
   ],
   "source": [
    "# 元の関数に代入する\n",
    "kappa_norm_hat = optimized_kappa\n",
    "print(\"+------------------+\")\n",
    "Np_norm_estimated = []\n",
    "for i in range(len(df_left[\"edge_norm\"])):\n",
    "    Np_norm_estimated.append( (1 + np.sqrt(1 + (32 * df_left[\"edge_norm\"][i] / kappa_norm_hat))) / 2 )\n",
    "\n",
    "# Eq8, 9\n",
    "N_norm = []\n",
    "M_norm = []\n",
    "for i in range(len(Np_norm_estimated)):\n",
    "    N_norm.append( Np_norm_estimated[i] * ( 1 - (2/(Np_norm_estimated[i] * kappa_norm_hat)) * (1 - (1 - (kappa_norm_hat/2))**Np_norm_estimated[i] ) ) )\n",
    "    M_norm.append( ((kappa_norm_hat* (Np_norm_estimated[i])**2) - (kappa_norm_hat*Np_norm_estimated[i])  * (1 / 8) ))\n",
    "\n",
    "print(\"|      DONE        |\")\n",
    "print(\"+------------------+\")\n",
    "print(\"| Np: \", Np_norm_estimated[0])\n",
    "print(\"| kappa: \", kappa_norm_hat)\n",
    "print(\"| N: \", N_norm[0])\n",
    "print(\"| M: \", M_norm[0])\n",
    "print(\"+------------------+\")"
   ]
  },
  {
   "cell_type": "code",
   "execution_count": 27,
   "metadata": {},
   "outputs": [
    {
     "data": {
      "image/png": "[encoded data removed]",
      "text/plain": [
       "<Figure size 1000x600 with 1 Axes>"
      ]
     },
     "metadata": {},
     "output_type": "display_data"
    }
   ],
   "source": [
    "# 可視化\n",
    "plt.figure(figsize=(10, 6))\n",
    "plt.scatter(df_left[\"node_norm\"], df_left[\"edge_norm\"], label='Normalization')\n",
    "plt.plot(N_norm, M_norm, label='Model 1', color='red')\n",
    "kappa_norm_hat = round(kappa_norm_hat, 4)\n",
    "plt.text(0.05, 0.70, r'$\\hat{\\kappa}$ = ' + str(kappa_norm_hat), transform=plt.gca().transAxes)\n",
    "plt.xlabel('X')\n",
    "plt.ylabel('Y')\n",
    "plt.xscale('log')\n",
    "plt.yscale('log')\n",
    "plt.legend(loc='best')\n",
    "plt.show()"
   ]
  },
  {
   "cell_type": "code",
   "execution_count": null,
   "metadata": {},
   "outputs": [],
   "source": []
  }
 ],
 "metadata": {
  "kernelspec": {
   "display_name": "venv",
   "language": "python",
   "name": "python3"
  },
  "language_info": {
   "codemirror_mode": {
    "name": "ipython",
    "version": 3
   },
   "file_extension": ".py",
   "mimetype": "text/x-python",
   "name": "python",
   "nbconvert_exporter": "python",
   "pygments_lexer": "ipython3",
   "version": "3.9.6"
  }
 },
 "nbformat": 4,
 "nbformat_minor": 2
}

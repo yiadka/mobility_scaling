{
 "cells": [
  {
   "cell_type": "code",
   "execution_count": 1,
   "metadata": {},
   "outputs": [],
   "source": [
    "import pandas as pd\n",
    "import numpy as np\n",
    "import matplotlib.pyplot as plt\n",
    "from datetime import timedelta\n",
    "from scipy import optimize, interpolate\n",
    "from sklearn.preprocessing import StandardScaler\n",
    "from sklearn.linear_model import LinearRegression\n",
    "from scipy.optimize import basinhopping\n",
    "import warnings"
   ]
  },
  {
   "cell_type": "code",
   "execution_count": 2,
   "metadata": {},
   "outputs": [],
   "source": [
    "# /data/df.pickleの読み込み\n",
    "df = pd.read_pickle('../data/df.pickle')\n",
    "\n",
    "df = df.dropna()\n",
    "\n",
    "# データの分割\n",
    "df_p1 = df[(df['started_at'] >= '2020-03-01') & (df['started_at'] < '2020-06-01')].dropna()\n",
    "df_p2 = df[(df['started_at'] >= '2020-06-01') & (df['started_at'] < '2020-11-01')].dropna()\n",
    "df_p3 = df[(df['started_at'] >= '2020-12-01') & (df['started_at'] < '2021-03-01')].dropna()\n",
    "df_p4 = df[(df['started_at'] >= '2021-03-01') & (df['started_at'] < '2023-10-01')].dropna()\n",
    "df_p4_1 = df[(df['started_at'] >= '2021-03-01') & (df['started_at'] < '2022-01-01')].dropna()\n",
    "df_p4_2 = df[(df['started_at'] >= '2022-01-01') & (df['started_at'] < '2023-10-01')].dropna()\n",
    "df_left = pd.concat([df_p1, df_p2, df_p3, df_p4_1], axis=0)\n",
    "df_right = pd.concat([df_p4_2], axis=0)\n",
    "\n"
   ]
  },
  {
   "cell_type": "code",
   "execution_count": 82,
   "metadata": {},
   "outputs": [],
   "source": [
    "def return_nm(df):\n",
    "    df['started_at'] = pd.to_datetime(df['started_at'])\n",
    "    df['ended_at'] = pd.to_datetime(df['ended_at'])\n",
    "    # started_atで昇順にソート\n",
    "    df = df.sort_values(by='started_at')\n",
    "    current_timestamp = df['started_at'].min()\n",
    "    end_timestamp = df[\"started_at\"].max()\n",
    "    interval = timedelta(days=1)\n",
    "\n",
    "    node_list = []\n",
    "    edge_list = []\n",
    "    timestamp = []\n",
    "\n",
    "    while current_timestamp <= end_timestamp:\n",
    "        timestamp.append(current_timestamp)\n",
    "        next_timestamp = current_timestamp + interval\n",
    "        df_tmp = df[(df['started_at'] >= current_timestamp) & (df['started_at'] < next_timestamp)]\n",
    "\n",
    "        # node_listにはユニークなstart_station_idを追加\n",
    "        # df_tmpのstart_station_idをstr型に変換してからユニークな値を取得\n",
    "        node_list.append(len(df_tmp['start_station_id'].astype(str).unique()))\n",
    "\n",
    "        # edge_listにはdf_tmpの行数を追加\n",
    "        edge_list.append(len(df_tmp))\n",
    "\n",
    "        current_timestamp = next_timestamp\n",
    "\n",
    "    # node_listとedge_listで0の値を削除\n",
    "    node_list = np.array(node_list)\n",
    "    edge_list = np.array(edge_list)\n",
    "    timestamp = np.array(timestamp)\n",
    "    active_node_list = node_list[node_list != 0]\n",
    "    edge_list = edge_list[edge_list != 0]\n",
    "    timestamp = timestamp[:len(node_list)]\n",
    "    \n",
    "    return active_node_list, edge_list, timestamp"
   ]
  },
  {
   "cell_type": "code",
   "execution_count": 83,
   "metadata": {},
   "outputs": [],
   "source": [
    "node_left, edge_left, timestamp_left = return_nm(df_left)"
   ]
  },
  {
   "cell_type": "code",
   "execution_count": 84,
   "metadata": {},
   "outputs": [
    {
     "name": "stdout",
     "output_type": "stream",
     "text": [
      "+- DONE -+\n"
     ]
    }
   ],
   "source": [
    "# node_leftの各要素の型を確認する\n",
    "# 各要素の型を全て表示する\n",
    "for i in range(len(node_left)):\n",
    "    # int64以外の型があれば表示する\n",
    "    if type(node_left[i]) != np.int64:\n",
    "        print(type(node_left[i]))\n",
    "print(\"+- DONE -+\")"
   ]
  },
  {
   "cell_type": "code",
   "execution_count": 85,
   "metadata": {},
   "outputs": [
    {
     "data": {
      "text/html": [
       "<div>\n",
       "<style scoped>\n",
       "    .dataframe tbody tr th:only-of-type {\n",
       "        vertical-align: middle;\n",
       "    }\n",
       "\n",
       "    .dataframe tbody tr th {\n",
       "        vertical-align: top;\n",
       "    }\n",
       "\n",
       "    .dataframe thead th {\n",
       "        text-align: right;\n",
       "    }\n",
       "</style>\n",
       "<table border=\"1\" class=\"dataframe\">\n",
       "  <thead>\n",
       "    <tr style=\"text-align: right;\">\n",
       "      <th></th>\n",
       "      <th>node</th>\n",
       "      <th>edge</th>\n",
       "    </tr>\n",
       "  </thead>\n",
       "  <tbody>\n",
       "    <tr>\n",
       "      <th>0</th>\n",
       "      <td>106</td>\n",
       "      <td>190</td>\n",
       "    </tr>\n",
       "    <tr>\n",
       "      <th>1</th>\n",
       "      <td>136</td>\n",
       "      <td>221</td>\n",
       "    </tr>\n",
       "    <tr>\n",
       "      <th>2</th>\n",
       "      <td>173</td>\n",
       "      <td>312</td>\n",
       "    </tr>\n",
       "    <tr>\n",
       "      <th>3</th>\n",
       "      <td>215</td>\n",
       "      <td>368</td>\n",
       "    </tr>\n",
       "    <tr>\n",
       "      <th>4</th>\n",
       "      <td>217</td>\n",
       "      <td>494</td>\n",
       "    </tr>\n",
       "  </tbody>\n",
       "</table>\n",
       "</div>"
      ],
      "text/plain": [
       "   node  edge\n",
       "0   106   190\n",
       "1   136   221\n",
       "2   173   312\n",
       "3   215   368\n",
       "4   217   494"
      ]
     },
     "execution_count": 85,
     "metadata": {},
     "output_type": "execute_result"
    }
   ],
   "source": [
    "# node_leftとedge_leftを組みにしてdf_leftを作成\n",
    "left = pd.DataFrame({'node': node_left, 'edge': edge_left})\n",
    "# df_leftのnodeを昇順にして並び替え\n",
    "left = left.sort_values(by='node')\n",
    "# インデックスを振り直す\n",
    "left = left.reset_index(drop=True)\n",
    "left.head()"
   ]
  },
  {
   "cell_type": "code",
   "execution_count": 87,
   "metadata": {},
   "outputs": [],
   "source": [
    "# 正規化する\n",
    "left[\"node_norm\"] = left[\"node\"] - left[\"node\"].min() + 2\n",
    "left[\"edge_norm\"] = left[\"edge\"] - left[\"edge\"].min() + 1\n",
    "\n",
    "# 一番最初の行を削除\n",
    "left = left.drop(0)\n",
    "\n",
    "# インデックスを振り直す\n",
    "left = left.reset_index(drop=True)\n"
   ]
  },
  {
   "cell_type": "code",
   "execution_count": 66,
   "metadata": {},
   "outputs": [],
   "source": [
    "def f(x, Np):\n",
    "    kappa = ((8 * x[0]) / (Np**2 - Np))\n",
    "    a = (1 - (kappa / 2))**Np\n",
    "    b = 1 - a\n",
    "    c = -(2 / (kappa * Np))*b\n",
    "    d = 1 + c\n",
    "    res = Np * d\n",
    "    return res"
   ]
  },
  {
   "cell_type": "code",
   "execution_count": 8,
   "metadata": {},
   "outputs": [],
   "source": [
    "x = left[\"edge_norm\"]\n",
    "y = left[\"node_norm\"]"
   ]
  },
  {
   "cell_type": "code",
   "execution_count": 56,
   "metadata": {},
   "outputs": [],
   "source": [
    "left.to_csv('../data/df_left.csv', index=False)"
   ]
  },
  {
   "cell_type": "code",
   "execution_count": 68,
   "metadata": {},
   "outputs": [],
   "source": [
    "# 残差\n",
    "def residual_f(x, N, M):\n",
    "    residual = N - f(x, M)\n",
    "    return residual"
   ]
  },
  {
   "cell_type": "code",
   "execution_count": 69,
   "metadata": {},
   "outputs": [],
   "source": [
    "# 目的関数\n",
    "def f_uniform_2(x, N, M):\n",
    "    return np.sum(residual_f(x, M, N)**2)"
   ]
  },
  {
   "cell_type": "code",
   "execution_count": 88,
   "metadata": {},
   "outputs": [
    {
     "name": "stdout",
     "output_type": "stream",
     "text": [
      "params 3076.2748332427345\n"
     ]
    }
   ],
   "source": [
    "# 最適化\n",
    "\n",
    "params, _ = optimize.curve_fit(f, x, y, p0=[14])\n",
    "print(\"params\", params[0])"
   ]
  },
  {
   "cell_type": "code",
   "execution_count": 89,
   "metadata": {},
   "outputs": [
    {
     "name": "stdout",
     "output_type": "stream",
     "text": [
      "params 576.0334895620256\n"
     ]
    }
   ],
   "source": [
    "# leastsqを使用\n",
    "initial_guess = [600]\n",
    "params, _ = optimize.leastsq(residual_f, initial_guess, args=(x, y))\n",
    "print(\"params\", params[0])"
   ]
  },
  {
   "cell_type": "code",
   "execution_count": 94,
   "metadata": {},
   "outputs": [
    {
     "name": "stdout",
     "output_type": "stream",
     "text": [
      "params 576.0160549321713\n"
     ]
    }
   ],
   "source": [
    "# least_squaresを使用\n",
    "res = optimize.least_squares(residual_f, initial_guess, args=(x, y))\n",
    "print(\"params\", res.x[0])"
   ]
  },
  {
   "cell_type": "code",
   "execution_count": 93,
   "metadata": {},
   "outputs": [
    {
     "name": "stdout",
     "output_type": "stream",
     "text": [
      "params 223.2868177499165\n"
     ]
    }
   ],
   "source": [
    "# 残差平方和を最小化\n",
    "res = optimize.minimize(f_uniform_2, initial_guess, args=(x, y))\n",
    "print(\"params\", res.x[0])"
   ]
  },
  {
   "cell_type": "code",
   "execution_count": 95,
   "metadata": {},
   "outputs": [
    {
     "name": "stdout",
     "output_type": "stream",
     "text": [
      "+------------------+\n",
      "|      DONE        |\n",
      "+------------------+\n",
      "| Np:  576.02\n",
      "| N max:  930\n",
      "| kappa:  0.0007728931391629808\n",
      "| N:  59.51848222608584\n",
      "| M:  32.0\n",
      "+------------------+\n"
     ]
    }
   ],
   "source": [
    "# 元の関数に代入する\n",
    "Np_norm_hat = res.x[0]\n",
    "Np_norm_hat = round(Np_norm_hat, 2)\n",
    "print(\"+------------------+\")\n",
    "kappa_norm_estimated = []\n",
    "for i in range(len(x)):\n",
    "    kappa_norm_estimated.append( ((8 * x[i]) / (Np_norm_hat**2 - Np_norm_hat)) )\n",
    "\n",
    "# Eq8, 9\n",
    "N_norm = []\n",
    "M_norm = []\n",
    "for i in range(len(kappa_norm_estimated)):\n",
    "    N_norm.append( f(x, Np_norm_hat) )\n",
    "    M_norm.append( (kappa_norm_estimated[i] * Np_norm_hat * (Np_norm_hat - 1)) / 8 )\n",
    "\n",
    "print(\"|      DONE        |\")\n",
    "print(\"+------------------+\")\n",
    "print(\"| Np: \", Np_norm_hat)\n",
    "print(\"| N max: \", left[\"node_norm\"].max())\n",
    "print(\"| kappa: \", kappa_norm_estimated[0])\n",
    "print(\"| N: \", N_norm[0])\n",
    "print(\"| M: \", M_norm[0])\n",
    "print(\"+------------------+\")"
   ]
  },
  {
   "cell_type": "code",
   "execution_count": 98,
   "metadata": {},
   "outputs": [
    {
     "name": "stdout",
     "output_type": "stream",
     "text": [
      "+------------------+\n",
      "|      DONE        |\n",
      "+------------------+\n",
      "| Np:  576.02\n",
      "| N max:  930\n",
      "| kappa:  0.0007728931391629808\n",
      "| N:  59.51848222608584\n",
      "| M:  32.0\n",
      "+------------------+\n"
     ]
    },
    {
     "data": {
      "image/png": "[encoded data removed]",
      "text/plain": [
       "<Figure size 1000x600 with 1 Axes>"
      ]
     },
     "metadata": {},
     "output_type": "display_data"
    }
   ],
   "source": [
    "nn = len(left[\"node_norm\"]) - 1\n",
    "xmin = min(left[\"node_norm\"])\n",
    "xmax = max(left[\"node_norm\"])\n",
    "p = np.linspace(xmin, xmax, nn)\n",
    "upper_bound = (p**2-p)/2\n",
    "lower_bound = p/2\n",
    "\n",
    "Np_norm_hat = round(Np_norm_hat, 2)\n",
    "print(\"+------------------+\")\n",
    "kappa_norm_estimated = [((8 * left[\"edge_norm\"][i]) / (Np_norm_hat * (Np_norm_hat - 1))) for i in range(len(left[\"edge_norm\"]))]\n",
    "\n",
    "# Eq8, 9\n",
    "N_norm = []\n",
    "M_norm = []\n",
    "for i in range(len(kappa_norm_estimated)):\n",
    "    N_norm.append( Np_norm_hat * (1 - (2 / (kappa_norm_estimated[i]*Np_norm_hat))*(1-(1-(kappa_norm_estimated[i]/2))**Np_norm_hat)) )\n",
    "    M_norm.append( (kappa_norm_estimated[i] * Np_norm_hat * (Np_norm_hat - 1)) / 8 )\n",
    "\n",
    "print(\"|      DONE        |\")\n",
    "print(\"+------------------+\")\n",
    "print(\"| Np: \", Np_norm_hat)\n",
    "print(\"| N max: \", left[\"node_norm\"].max())\n",
    "print(\"| kappa: \", kappa_norm_estimated[0])\n",
    "print(\"| N: \", N_norm[0])\n",
    "print(\"| M: \", M_norm[0])\n",
    "print(\"+------------------+\")\n",
    "\n",
    "\n",
    "\n",
    "plt.figure(figsize=(10, 6))\n",
    "plt.title(\"Scatter plot 2020/03/01 ~ 2021/12/31\")\n",
    "plt.plot(p, upper_bound, '--', label=\"upper bound\")\n",
    "plt.plot(p, lower_bound, '-.', label=\"lower bound\")\n",
    "plt.plot(y, x, \"x\", label='Normalized data')\n",
    "plt.plot(N_norm,M_norm,label='fit', color='red')\n",
    "Np_norm_hat = round(Np_norm_hat, 2)\n",
    "plt.text(0.05, 0.70, r'$\\hat{N_{p}}=$ ' + str(Np_norm_hat), transform=plt.gca().transAxes)\n",
    "plt.xlabel('N')\n",
    "plt.ylabel('M')\n",
    "plt.xscale('log')\n",
    "plt.yscale('log')\n",
    "plt.legend(loc='best')\n",
    "plt.show()"
   ]
  },
  {
   "cell_type": "code",
   "execution_count": null,
   "metadata": {},
   "outputs": [],
   "source": []
  }
 ],
 "metadata": {
  "kernelspec": {
   "display_name": "venv",
   "language": "python",
   "name": "python3"
  },
  "language_info": {
   "codemirror_mode": {
    "name": "ipython",
    "version": 3
   },
   "file_extension": ".py",
   "mimetype": "text/x-python",
   "name": "python",
   "nbconvert_exporter": "python",
   "pygments_lexer": "ipython3",
   "version": "3.9.6"
  }
 },
 "nbformat": 4,
 "nbformat_minor": 2
}

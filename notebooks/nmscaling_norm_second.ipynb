{
 "cells": [
  {
   "cell_type": "code",
   "execution_count": 1,
   "metadata": {},
   "outputs": [],
   "source": [
    "import pandas as pd\n",
    "import numpy as np\n",
    "import matplotlib.pyplot as plt\n",
    "from datetime import timedelta\n",
    "from scipy import optimize, interpolate\n",
    "from sklearn.preprocessing import StandardScaler\n",
    "from sklearn.linear_model import LinearRegression\n",
    "from scipy.optimize import basinhopping"
   ]
  },
  {
   "cell_type": "code",
   "execution_count": 2,
   "metadata": {},
   "outputs": [],
   "source": [
    "# /data/df.pickleの読み込み\n",
    "df = pd.read_pickle('../data/df.pickle')\n",
    "\n",
    "df = df.dropna()\n",
    "\n",
    "# データの分割\n",
    "df_p1 = df[(df['started_at'] >= '2020-03-01') & (df['started_at'] < '2020-06-01')].dropna()\n",
    "df_p2 = df[(df['started_at'] >= '2020-06-01') & (df['started_at'] < '2020-11-01')].dropna()\n",
    "df_p3 = df[(df['started_at'] >= '2020-12-01') & (df['started_at'] < '2021-03-01')].dropna()\n",
    "df_p4 = df[(df['started_at'] >= '2021-03-01') & (df['started_at'] < '2023-10-01')].dropna()\n",
    "df_p4_1 = df[(df['started_at'] >= '2021-03-01') & (df['started_at'] < '2022-01-01')].dropna()\n",
    "df_p4_2 = df[(df['started_at'] >= '2022-01-01') & (df['started_at'] < '2023-10-01')].dropna()\n",
    "df_left = pd.concat([df_p1, df_p2, df_p3, df_p4_1], axis=0)\n",
    "df_right = pd.concat([df_p4_2], axis=0)"
   ]
  },
  {
   "cell_type": "code",
   "execution_count": 3,
   "metadata": {},
   "outputs": [],
   "source": [
    "def return_nm(df):\n",
    "    df['started_at'] = pd.to_datetime(df['started_at'])\n",
    "    df['ended_at'] = pd.to_datetime(df['ended_at'])\n",
    "    # started_atで昇順にソート\n",
    "    df = df.sort_values(by='started_at')\n",
    "    current_timestamp = df['started_at'].min()\n",
    "    end_timestamp = df[\"started_at\"].max()\n",
    "    interval = timedelta(days=1)\n",
    "\n",
    "    node_list = []\n",
    "    edge_list = []\n",
    "    timestamp = []\n",
    "\n",
    "    while current_timestamp <= end_timestamp:\n",
    "        timestamp.append(current_timestamp)\n",
    "        next_timestamp = current_timestamp + interval\n",
    "        df_tmp = df[(df['started_at'] >= current_timestamp) & (df['started_at'] < next_timestamp)]\n",
    "\n",
    "        # node_listにはユニークなstart_station_idを追加\n",
    "        node_list.append(len(df_tmp['start_station_id'].unique()))\n",
    "\n",
    "        # edge_listにはdf_tmpの行数を追加\n",
    "        edge_list.append(len(df_tmp))\n",
    "\n",
    "        current_timestamp = next_timestamp\n",
    "\n",
    "    # node_listとedge_listで0の値を削除\n",
    "    node_list = np.array(node_list)\n",
    "    edge_list = np.array(edge_list)\n",
    "    timestamp = np.array(timestamp)\n",
    "    active_node_list = node_list[node_list != 0]\n",
    "    edge_list = edge_list[edge_list != 0]\n",
    "    timestamp = timestamp[:len(node_list)]\n",
    "    \n",
    "    return active_node_list, edge_list, timestamp"
   ]
  },
  {
   "cell_type": "code",
   "execution_count": 4,
   "metadata": {},
   "outputs": [],
   "source": [
    "node_left, edge_left, timestamp_left = return_nm(df_left)"
   ]
  },
  {
   "cell_type": "code",
   "execution_count": 5,
   "metadata": {},
   "outputs": [
    {
     "data": {
      "text/html": [
       "<div>\n",
       "<style scoped>\n",
       "    .dataframe tbody tr th:only-of-type {\n",
       "        vertical-align: middle;\n",
       "    }\n",
       "\n",
       "    .dataframe tbody tr th {\n",
       "        vertical-align: top;\n",
       "    }\n",
       "\n",
       "    .dataframe thead th {\n",
       "        text-align: right;\n",
       "    }\n",
       "</style>\n",
       "<table border=\"1\" class=\"dataframe\">\n",
       "  <thead>\n",
       "    <tr style=\"text-align: right;\">\n",
       "      <th></th>\n",
       "      <th>node</th>\n",
       "      <th>edge</th>\n",
       "    </tr>\n",
       "  </thead>\n",
       "  <tbody>\n",
       "    <tr>\n",
       "      <th>0</th>\n",
       "      <td>106</td>\n",
       "      <td>190</td>\n",
       "    </tr>\n",
       "    <tr>\n",
       "      <th>1</th>\n",
       "      <td>136</td>\n",
       "      <td>221</td>\n",
       "    </tr>\n",
       "    <tr>\n",
       "      <th>2</th>\n",
       "      <td>173</td>\n",
       "      <td>312</td>\n",
       "    </tr>\n",
       "    <tr>\n",
       "      <th>3</th>\n",
       "      <td>215</td>\n",
       "      <td>368</td>\n",
       "    </tr>\n",
       "    <tr>\n",
       "      <th>4</th>\n",
       "      <td>217</td>\n",
       "      <td>494</td>\n",
       "    </tr>\n",
       "  </tbody>\n",
       "</table>\n",
       "</div>"
      ],
      "text/plain": [
       "   node  edge\n",
       "0   106   190\n",
       "1   136   221\n",
       "2   173   312\n",
       "3   215   368\n",
       "4   217   494"
      ]
     },
     "execution_count": 5,
     "metadata": {},
     "output_type": "execute_result"
    }
   ],
   "source": [
    "# node_leftとedge_leftを組みにしてdf_leftを作成\n",
    "df_left = pd.DataFrame({'node': node_left, 'edge': edge_left})\n",
    "# df_leftのnodeを昇順にして並び替え\n",
    "df_left = df_left.sort_values(by='node')\n",
    "# インデックスを振り直す\n",
    "df_left = df_left.reset_index(drop=True)\n",
    "df_left.head()"
   ]
  },
  {
   "cell_type": "code",
   "execution_count": 6,
   "metadata": {},
   "outputs": [],
   "source": [
    "# 正規化する\n",
    "df_left[\"node_norm\"] = df_left[\"node\"] - df_left[\"node\"].min() + 2\n",
    "df_left[\"edge_norm\"] = df_left[\"edge\"] - df_left[\"edge\"].min() + 1\n",
    "\n",
    "# 一番最初の行を削除\n",
    "df_left = df_left.drop(0)\n",
    "\n",
    "# インデックスを振り直す\n",
    "df_left = df_left.reset_index(drop=True)\n",
    "\n"
   ]
  },
  {
   "cell_type": "code",
   "execution_count": 7,
   "metadata": {},
   "outputs": [
    {
     "data": {
      "text/html": [
       "<div>\n",
       "<style scoped>\n",
       "    .dataframe tbody tr th:only-of-type {\n",
       "        vertical-align: middle;\n",
       "    }\n",
       "\n",
       "    .dataframe tbody tr th {\n",
       "        vertical-align: top;\n",
       "    }\n",
       "\n",
       "    .dataframe thead th {\n",
       "        text-align: right;\n",
       "    }\n",
       "</style>\n",
       "<table border=\"1\" class=\"dataframe\">\n",
       "  <thead>\n",
       "    <tr style=\"text-align: right;\">\n",
       "      <th></th>\n",
       "      <th>node</th>\n",
       "      <th>edge</th>\n",
       "      <th>node_norm</th>\n",
       "      <th>edge_norm</th>\n",
       "    </tr>\n",
       "  </thead>\n",
       "  <tbody>\n",
       "    <tr>\n",
       "      <th>0</th>\n",
       "      <td>136</td>\n",
       "      <td>221</td>\n",
       "      <td>32</td>\n",
       "      <td>32</td>\n",
       "    </tr>\n",
       "    <tr>\n",
       "      <th>1</th>\n",
       "      <td>173</td>\n",
       "      <td>312</td>\n",
       "      <td>69</td>\n",
       "      <td>123</td>\n",
       "    </tr>\n",
       "    <tr>\n",
       "      <th>2</th>\n",
       "      <td>215</td>\n",
       "      <td>368</td>\n",
       "      <td>111</td>\n",
       "      <td>179</td>\n",
       "    </tr>\n",
       "    <tr>\n",
       "      <th>3</th>\n",
       "      <td>217</td>\n",
       "      <td>494</td>\n",
       "      <td>113</td>\n",
       "      <td>305</td>\n",
       "    </tr>\n",
       "    <tr>\n",
       "      <th>4</th>\n",
       "      <td>222</td>\n",
       "      <td>663</td>\n",
       "      <td>118</td>\n",
       "      <td>474</td>\n",
       "    </tr>\n",
       "  </tbody>\n",
       "</table>\n",
       "</div>"
      ],
      "text/plain": [
       "   node  edge  node_norm  edge_norm\n",
       "0   136   221         32         32\n",
       "1   173   312         69        123\n",
       "2   215   368        111        179\n",
       "3   217   494        113        305\n",
       "4   222   663        118        474"
      ]
     },
     "execution_count": 7,
     "metadata": {},
     "output_type": "execute_result"
    }
   ],
   "source": [
    "df_left.head()  "
   ]
  },
  {
   "cell_type": "code",
   "execution_count": 8,
   "metadata": {},
   "outputs": [],
   "source": [
    "def model_uniform_2(x, Np):\n",
    "    kappa = 8 * np.abs(x[0]) / (Np * (Np - 1))\n",
    "    first = (1 - (kappa / 2))**Np\n",
    "    second = 1 - first\n",
    "    third = (2 / (kappa * Np)) * second\n",
    "    fourth = 1 - third\n",
    "    fifth = Np * fourth\n",
    "    return fifth"
   ]
  },
  {
   "cell_type": "code",
   "execution_count": 19,
   "metadata": {},
   "outputs": [
    {
     "name": "stdout",
     "output_type": "stream",
     "text": [
      "+------------------+\n",
      "| Estimating       |\n",
      "+------------------+\n",
      "Estimated parameter: 2865.8188681000665\n"
     ]
    }
   ],
   "source": [
    "print(\"+------------------+\")\n",
    "print(\"| Estimating       |\")\n",
    "print(\"+------------------+\")\n",
    "\n",
    "# 正規化したデータを使ってモデルを推定\n",
    "xdata = df_left[\"edge_norm\"].values\n",
    "ydata = df_left[\"node_norm\"].values\n",
    "\n",
    "# モデルのパラメータを推定\n",
    "popt, pcov = optimize.curve_fit(model_uniform_2, xdata, ydata, p0=[30])\n",
    "\n",
    "# 推定したパラメータを表示\n",
    "print(\"Estimated parameter:\", popt[0])\n",
    "\n",
    "params = popt[0]"
   ]
  },
  {
   "cell_type": "code",
   "execution_count": 25,
   "metadata": {},
   "outputs": [
    {
     "data": {
      "text/plain": [
       "array([   32,   123,   179,   305,   474,   268,   456,   332,   593,\n",
       "         395,   875,   454,   548,   509,   498,   718,   655,   923,\n",
       "         691,  1086,   974,   900,   856,  1241,   987,  1355,  1327,\n",
       "        2103,  1733,  1784,  1205,  1148,  1243,  1394,  1655,  2065,\n",
       "        1229,  2077,  1762,  1932,  2296,  1417,  1760,  1808,  2397,\n",
       "        1921,  2580,  1878,  1631,  2101,  2396,  2104,  1864,  2640,\n",
       "        2498,  1855,  2470,  2775,  2100,  2833,  1781,  2632,  2077,\n",
       "        2099,  1806,  2578,  2821,  2403,  2912,  2630,  2092,  2091,\n",
       "        2868,  2171,  2693,  2104,  3497,  2531,  3185,  2815,  3146,\n",
       "        3086,  2438,  3347,  3326,  3120,  3322,  2234,  2436,  3148,\n",
       "        3489,  2544,  2843,  2963,  3458,  3163,  2653,  2918,  2998,\n",
       "        3505,  2596,  3391,  3476,  2371,  3973,  3235,  2604,  2700,\n",
       "        3719,  3152,  2681,  3865,  2417,  4310,  2966,  4266,  3332,\n",
       "        3579,  3456,  4133,  3884,  3733,  3509,  3196,  3609,  4163,\n",
       "        5077,  4600,  4000,  4921,  4571,  3617,  5622,  3731,  4038,\n",
       "        4161,  3956,  4186,  3706,  3035,  4279,  3740,  4642,  3339,\n",
       "        6423,  3858,  5098,  4623,  5371,  4488,  4650,  4481,  3685,\n",
       "        5161,  6469,  5277,  4736,  4456,  6310,  5351,  5606,  4415,\n",
       "        4884,  5788,  4472,  5236,  5962,  4500,  4963,  5752,  7171,\n",
       "        4551,  5469,  4804,  4553,  5085,  5494,  6436,  4573,  5424,\n",
       "        5392,  6557,  5882,  4130,  5482,  4303,  7742,  5695,  4993,\n",
       "        5589,  6218,  4851,  7499,  5713,  6004,  6781,  6148,  6749,\n",
       "        6157,  5487,  6185,  5393,  7189,  6683,  7687,  8639,  7694,\n",
       "        6880,  6356,  7786,  6028,  6335,  7429,  7865,  6694,  6101,\n",
       "        8186,  8582,  7634,  7526,  8029, 10437,  6836,  7459,  7375,\n",
       "        8135,  7764,  8730,  7185, 11503,  6827,  6007,  7961,  7771,\n",
       "        5570,  7423,  5407,  6515,  7505,  8721,  8254,  7818,  7479,\n",
       "        8766,  8343, 11095,  6196,  6737,  9213,  8072,  6575,  9992,\n",
       "        9192,  9882, 11419,  9846,  7566,  9322,  9167,  8306,  6198,\n",
       "       14625,  9873, 11623,  7175, 11490,  9189,  8364, 11078,  8005,\n",
       "       14622, 14461, 10363,  9304, 10073, 10360, 12357, 14062, 11589,\n",
       "       12181,  7914, 11240, 10729,  8577, 12069, 15019, 11700,  9624,\n",
       "       10525, 10504, 10428, 10612, 12860, 12950, 12627, 12864, 10378,\n",
       "       14071,  9314, 11043, 13499, 16961, 13141, 11239,  8348, 11609,\n",
       "       14366,  9543,  9453,  9965,  8167, 10061, 13482, 16102, 10170,\n",
       "        9487, 11877, 10864, 11776, 13018, 13232, 13223, 10019, 10216,\n",
       "       12517, 10965, 15616, 12682, 14392, 15039, 13122,  9733, 10586,\n",
       "       10390,  8748, 13323, 14241, 13933,  9693, 14858, 12058, 20164,\n",
       "       12740, 14385,  8858, 20264,  9118, 17921, 12334, 15701, 11753,\n",
       "       13193, 15469, 14941, 12826, 18319, 12232, 17747, 12646, 16127,\n",
       "       15789, 15238, 13809, 10626, 16711, 14247, 14602, 16228, 13057,\n",
       "       12565, 17108, 19721, 13864, 22855, 13449, 12606, 19710, 15668,\n",
       "       12691, 10428, 18914, 13868, 22086, 15520, 13834, 19603, 14619,\n",
       "       22772, 15493, 17134, 14270, 12461, 26194, 14454, 18610, 19368,\n",
       "       22602, 15799, 17733, 22867, 15867, 17261, 20085, 17052, 17969,\n",
       "       20170, 17173, 18264, 22453, 17864, 17072, 16709, 14227, 20457,\n",
       "       27900, 14566, 16825, 17119, 14585, 16723, 17657, 22572, 19533,\n",
       "       17955, 13449, 11353, 16540, 17472, 18959, 14810, 16891, 15808,\n",
       "       16897, 22523, 17088, 18189, 16027, 21833, 20752, 18478, 16425,\n",
       "       27844, 14529, 16446, 20802, 19409, 19459, 22835, 14163, 27138,\n",
       "       28660, 15824, 17544, 14442, 19505, 16166, 25139, 18058, 18385,\n",
       "       13832, 16342, 18850, 16917, 21868, 22553, 19834, 20486, 15655,\n",
       "       17968, 16462, 15779, 12847, 22660, 21583, 16235, 16566, 19031,\n",
       "       17009, 21742, 23120, 17801, 15718, 15728, 15789, 14767, 30125,\n",
       "       17113, 18654, 23354, 28082, 16472, 18628, 19726, 21980, 20727,\n",
       "       18918, 12554, 20141, 19288, 18847, 16475, 23779, 21000, 27148,\n",
       "       17358, 28106, 14187, 23947, 21508, 23725, 16756, 21341, 16905,\n",
       "       20129, 13867, 19443, 19270, 21353, 21338, 22840, 19617, 19353,\n",
       "       19254, 18585, 21162, 15353, 21103, 19180, 22142, 17340, 17657,\n",
       "       19313, 20947, 30773, 21093, 19575, 21526, 22065, 30285, 20940,\n",
       "       20645, 16239, 31690, 16723, 19676, 20475, 23155, 27881, 23966,\n",
       "       21797, 22008, 25524, 24683, 20875, 31077, 17069, 29921, 26401,\n",
       "       20659, 24592, 25630, 26728, 18778, 20125, 18355, 27383, 19042,\n",
       "       21512, 20370, 17578, 20876, 23339, 22356, 20740, 24337, 19355,\n",
       "       24725, 23281, 22594, 20701, 19638, 24528, 21397, 26784, 26841,\n",
       "       21517, 22396, 20768, 19979, 29716, 18121, 19171, 18084, 25409,\n",
       "       27161, 27966, 20425, 24703, 24061, 18967, 22212, 21933, 32505,\n",
       "       20580, 27160, 21537, 21534])"
      ]
     },
     "execution_count": 25,
     "metadata": {},
     "output_type": "execute_result"
    }
   ],
   "source": [
    "df_left[\"edge_norm\"].values"
   ]
  },
  {
   "cell_type": "code",
   "execution_count": 21,
   "metadata": {},
   "outputs": [
    {
     "name": "stdout",
     "output_type": "stream",
     "text": [
      "+------------------+\n",
      "|      DONE        |\n",
      "+------------------+\n",
      "| Np:  2865.8188681000665\n",
      "| N max:  514\n",
      "| kappa:  3.1181288628084945e-05\n",
      "| N:  63.05802689036628\n",
      "| M:  256.0781899346217\n",
      "+------------------+\n"
     ]
    }
   ],
   "source": [
    "# 元の関数に代入する\n",
    "Np_norm_hat = params\n",
    "print(\"+------------------+\")\n",
    "kappa_norm_estimated = [(8 * df_left[\"edge_norm\"][i]) / (Np_norm_hat * (Np_norm_hat - 1)) for i in range(len(df_left[\"edge_norm\"]))]\n",
    "\n",
    "# Eq8, 9\n",
    "N_norm = []\n",
    "M_norm = []\n",
    "for i in range(len(kappa_norm_estimated)):\n",
    "    N_norm.append( Np_norm_hat * ( 1 - (2/(kappa_norm_estimated[i] * Np_norm_hat)) * (1 - (1 - (kappa_norm_estimated[i]/2))**Np_norm_hat ) ) )\n",
    "    M_norm.append( ((kappa_norm_estimated[i]* (Np_norm_hat)**2) - (kappa_norm_estimated[i]*Np_norm_hat)  * (1 / 8) ))\n",
    "\n",
    "print(\"|      DONE        |\")\n",
    "print(\"+------------------+\")\n",
    "print(\"| Np: \", Np_norm_hat)\n",
    "print(\"| N max: \", df_left[\"node_norm\"].max())\n",
    "print(\"| kappa: \", kappa_norm_estimated[0])\n",
    "print(\"| N: \", N_norm[0])\n",
    "print(\"| M: \", M_norm[0])\n",
    "print(\"+------------------+\")"
   ]
  },
  {
   "cell_type": "code",
   "execution_count": 22,
   "metadata": {},
   "outputs": [
    {
     "data": {
      "image/png": "[encoded data removed]",
      "text/plain": [
       "<Figure size 1000x600 with 1 Axes>"
      ]
     },
     "metadata": {},
     "output_type": "display_data"
    }
   ],
   "source": [
    "# 可視化\n",
    "plt.figure(figsize=(10, 6))\n",
    "plt.scatter(df_left[\"node_norm\"], df_left[\"edge_norm\"], label='data')\n",
    "plt.plot(N_norm, M_norm, label='fit', color='red')\n",
    "Np_norm_hat = round(Np_norm_hat, 2)\n",
    "plt.text(0.05, 0.70, r'$\\hat{N_{p}}=$ ' + str(Np_norm_hat), transform=plt.gca().transAxes)\n",
    "plt.xlabel('N')\n",
    "plt.ylabel('M')\n",
    "plt.xscale('log')\n",
    "plt.yscale('log')\n",
    "plt.legend(loc='best')\n",
    "plt.show()"
   ]
  },
  {
   "cell_type": "code",
   "execution_count": null,
   "metadata": {},
   "outputs": [],
   "source": []
  }
 ],
 "metadata": {
  "kernelspec": {
   "display_name": "venv",
   "language": "python",
   "name": "python3"
  },
  "language_info": {
   "codemirror_mode": {
    "name": "ipython",
    "version": 3
   },
   "file_extension": ".py",
   "mimetype": "text/x-python",
   "name": "python",
   "nbconvert_exporter": "python",
   "pygments_lexer": "ipython3",
   "version": "3.9.6"
  }
 },
 "nbformat": 4,
 "nbformat_minor": 2
}

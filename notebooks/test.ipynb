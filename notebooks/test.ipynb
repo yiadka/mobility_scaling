{
 "cells": [
  {
   "cell_type": "code",
   "execution_count": 1,
   "metadata": {},
   "outputs": [],
   "source": [
    "import pandas as pd\n",
    "import numpy as np\n",
    "import matplotlib.pyplot as plt\n",
    "import seaborn as sns\n",
    "from datetime import timedelta\n",
    "import pickle\n",
    "\n",
    "import preprocessing as pp\n",
    "import models as md\n",
    "\n",
    "from scipy import stats, integrate, optimize"
   ]
  },
  {
   "cell_type": "code",
   "execution_count": 2,
   "metadata": {},
   "outputs": [
    {
     "name": "stderr",
     "output_type": "stream",
     "text": [
      "/var/folders/pm/4cgtm7w90fbgczj718s4vvk40000gn/T/ipykernel_36029/1915566129.py:1: DtypeWarning: Columns (2,10) have mixed types. Specify dtype option on import or set low_memory=False.\n",
      "  df = pd.read_csv(\"../data/wholetime.csv\")\n"
     ]
    }
   ],
   "source": [
    "df = pd.read_csv(\"../data/wholetime.csv\")\n",
    "\n",
    "df = df.dropna()\n",
    "\n",
    "# データの分割\n",
    "df_p1 = df[(df['started_at'] >= '2020-03-01') & (df['started_at'] < '2020-06-01')].dropna()\n",
    "df_p2 = df[(df['started_at'] >= '2020-06-01') & (df['started_at'] < '2020-11-01')].dropna()\n",
    "df_p3 = df[(df['started_at'] >= '2020-12-01') & (df['started_at'] < '2021-03-01')].dropna()\n",
    "df_p4 = df[(df['started_at'] >= '2021-03-01') & (df['started_at'] < '2023-10-01')].dropna()\n",
    "df_p4_1 = df[(df['started_at'] >= '2021-03-01') & (df['started_at'] < '2022-01-01')].dropna()\n",
    "df_p4_2 = df[(df['started_at'] >= '2022-01-01') & (df['started_at'] < '2023-10-01')].dropna()\n",
    "df_left = pd.concat([df_p1, df_p2, df_p3, df_p4_1], axis=0)\n",
    "df_right = pd.concat([df_p4_2], axis=0)"
   ]
  },
  {
   "cell_type": "code",
   "execution_count": 3,
   "metadata": {},
   "outputs": [],
   "source": [
    "def return_nm(df):\n",
    "    df['started_at'] = pd.to_datetime(df['started_at'])\n",
    "    df['ended_at'] = pd.to_datetime(df['ended_at'])\n",
    "    # started_atで昇順にソート\n",
    "    df = df.sort_values(by='started_at')\n",
    "    current_timestamp = df['started_at'].min()\n",
    "    end_timestamp = df[\"started_at\"].max()\n",
    "    interval = timedelta(days=1)\n",
    "\n",
    "    node_list = []\n",
    "    edge_list = []\n",
    "    timestamp = []\n",
    "\n",
    "    while current_timestamp <= end_timestamp:\n",
    "        timestamp.append(current_timestamp)\n",
    "        next_timestamp = current_timestamp + interval\n",
    "        df_tmp = df[(df['started_at'] >= current_timestamp) & (df['started_at'] < next_timestamp)]\n",
    "\n",
    "        # node_listにはユニークなstart_station_idを追加\n",
    "        node_list.append(len(df_tmp['start_station_id'].unique()))\n",
    "\n",
    "        # edge_listにはdf_tmpの行数を追加\n",
    "        edge_list.append(len(df_tmp))\n",
    "\n",
    "        current_timestamp = next_timestamp\n",
    "\n",
    "    # node_listとedge_listで0の値を削除\n",
    "    node_list = np.array(node_list)\n",
    "    edge_list = np.array(edge_list)\n",
    "    timestamp = np.array(timestamp)\n",
    "    active_node_list = node_list[node_list != 0]\n",
    "    edge_list = edge_list[edge_list != 0]\n",
    "    timestamp = timestamp[:len(node_list)]\n",
    "    \n",
    "    return active_node_list, edge_list, timestamp"
   ]
  },
  {
   "cell_type": "code",
   "execution_count": 4,
   "metadata": {},
   "outputs": [],
   "source": [
    "node_left, edge_left, timestamp_left = return_nm(df_left)\n",
    "node_right, edge_right, timestamp_right = return_nm(df_right)"
   ]
  },
  {
   "cell_type": "code",
   "execution_count": 5,
   "metadata": {},
   "outputs": [],
   "source": [
    "from scipy import stats, optimize, integrate"
   ]
  },
  {
   "cell_type": "code",
   "execution_count": 17,
   "metadata": {},
   "outputs": [],
   "source": [
    "def model_beta(x, alpha, beta):\n",
    "    Np = 744\n",
    "    # a = np.linspace(0, 1, 1000)\n",
    "    # f = ((a**(alpha-1)) * ((1-a)**(beta-1)) / stats.beta.rvs(alpha, beta, size=1) ) * (1 - (((alpha + beta) / alpha) * 2*a*x[0])/(Np**2-Np))**(Np - 1)\n",
    "    f = lambda a: ((a**(alpha-1)) * ((1-a)**(beta-1)) / stats.beta.rvs(alpha, beta, size=1) ) * (1 - (((alpha + beta) / alpha) * 2*a*x[0])/(Np**2-Np))**(Np - 1)\n",
    "    ff, _ = integrate.quad(f, 0, 1, limit=300000)  # 積分の値と推定誤差を別々に受け取る\n",
    "    func = Np * (1 - ff) \n",
    "    return func"
   ]
  },
  {
   "cell_type": "code",
   "execution_count": 18,
   "metadata": {},
   "outputs": [
    {
     "name": "stdout",
     "output_type": "stream",
     "text": [
      "+------------------+\n",
      "| Estimating       |\n",
      "+------------------+\n"
     ]
    },
    {
     "name": "stderr",
     "output_type": "stream",
     "text": [
      "/var/folders/pm/4cgtm7w90fbgczj718s4vvk40000gn/T/ipykernel_36029/2733007243.py:6: IntegrationWarning: The maximum number of subdivisions (300000) has been achieved.\n",
      "  If increasing the limit yields no improvement it is advised to analyze \n",
      "  the integrand in order to determine the difficulties.  If the position of a \n",
      "  local difficulty can be determined (singularity, discontinuity) one will \n",
      "  probably gain from splitting up the interval and calling the integrator \n",
      "  on the subranges.  Perhaps a special-purpose integrator should be used.\n",
      "  ff, _ = integrate.quad(f, 0, 1, limit=300000)  # 積分の値と推定誤差を別々に受け取る\n",
      "/var/folders/pm/4cgtm7w90fbgczj718s4vvk40000gn/T/ipykernel_36029/2733007243.py:5: RuntimeWarning: overflow encountered in scalar power\n",
      "  f = lambda a: ((a**(alpha-1)) * ((1-a)**(beta-1)) / stats.beta.rvs(alpha, beta, size=1) ) * (1 - (((alpha + beta) / alpha) * 2*a*x[0])/(Np**2-Np))**(Np - 1)\n"
     ]
    },
    {
     "ename": "ValueError",
     "evalue": "Domain error in arguments. The `scale` parameter must be positive for all distributions, and many distributions have restrictions on shape parameters. Please see the `scipy.stats.beta` documentation for details.",
     "output_type": "error",
     "traceback": [
      "\u001b[0;31m---------------------------------------------------------------------------\u001b[0m",
      "\u001b[0;31mValueError\u001b[0m                                Traceback (most recent call last)",
      "\u001b[1;32m/Users/yiadka/dev/master_ver2/src/test.ipynb Cell 7\u001b[0m line \u001b[0;36m5\n\u001b[1;32m      <a href='vscode-notebook-cell:/Users/yiadka/dev/master_ver2/src/test.ipynb#W6sZmlsZQ%3D%3D?line=1'>2</a>\u001b[0m \u001b[39mprint\u001b[39m(\u001b[39m\"\u001b[39m\u001b[39m| Estimating       |\u001b[39m\u001b[39m\"\u001b[39m)\n\u001b[1;32m      <a href='vscode-notebook-cell:/Users/yiadka/dev/master_ver2/src/test.ipynb#W6sZmlsZQ%3D%3D?line=2'>3</a>\u001b[0m \u001b[39mprint\u001b[39m(\u001b[39m\"\u001b[39m\u001b[39m+------------------+\u001b[39m\u001b[39m\"\u001b[39m)\n\u001b[0;32m----> <a href='vscode-notebook-cell:/Users/yiadka/dev/master_ver2/src/test.ipynb#W6sZmlsZQ%3D%3D?line=4'>5</a>\u001b[0m params, _ \u001b[39m=\u001b[39m optimize\u001b[39m.\u001b[39;49mcurve_fit(model_beta, xdata\u001b[39m=\u001b[39;49medge_right, ydata\u001b[39m=\u001b[39;49mnode_right, p0\u001b[39m=\u001b[39;49m[\u001b[39m2\u001b[39;49m, \u001b[39m6\u001b[39;49m])\n",
      "File \u001b[0;32m~/dev/master_ver2/venv/lib/python3.9/site-packages/scipy/optimize/_minpack_py.py:963\u001b[0m, in \u001b[0;36mcurve_fit\u001b[0;34m(f, xdata, ydata, p0, sigma, absolute_sigma, check_finite, bounds, method, jac, full_output, nan_policy, **kwargs)\u001b[0m\n\u001b[1;32m    960\u001b[0m \u001b[39mif\u001b[39;00m ydata\u001b[39m.\u001b[39msize \u001b[39m!=\u001b[39m \u001b[39m1\u001b[39m \u001b[39mand\u001b[39;00m n \u001b[39m>\u001b[39m ydata\u001b[39m.\u001b[39msize:\n\u001b[1;32m    961\u001b[0m     \u001b[39mraise\u001b[39;00m \u001b[39mTypeError\u001b[39;00m(\u001b[39mf\u001b[39m\u001b[39m\"\u001b[39m\u001b[39mThe number of func parameters=\u001b[39m\u001b[39m{\u001b[39;00mn\u001b[39m}\u001b[39;00m\u001b[39m must not\u001b[39m\u001b[39m\"\u001b[39m\n\u001b[1;32m    962\u001b[0m                     \u001b[39mf\u001b[39m\u001b[39m\"\u001b[39m\u001b[39m exceed the number of data points=\u001b[39m\u001b[39m{\u001b[39;00mydata\u001b[39m.\u001b[39msize\u001b[39m}\u001b[39;00m\u001b[39m\"\u001b[39m)\n\u001b[0;32m--> 963\u001b[0m res \u001b[39m=\u001b[39m leastsq(func, p0, Dfun\u001b[39m=\u001b[39;49mjac, full_output\u001b[39m=\u001b[39;49m\u001b[39m1\u001b[39;49m, \u001b[39m*\u001b[39;49m\u001b[39m*\u001b[39;49mkwargs)\n\u001b[1;32m    964\u001b[0m popt, pcov, infodict, errmsg, ier \u001b[39m=\u001b[39m res\n\u001b[1;32m    965\u001b[0m ysize \u001b[39m=\u001b[39m \u001b[39mlen\u001b[39m(infodict[\u001b[39m'\u001b[39m\u001b[39mfvec\u001b[39m\u001b[39m'\u001b[39m])\n",
      "File \u001b[0;32m~/dev/master_ver2/venv/lib/python3.9/site-packages/scipy/optimize/_minpack_py.py:428\u001b[0m, in \u001b[0;36mleastsq\u001b[0;34m(func, x0, args, Dfun, full_output, col_deriv, ftol, xtol, gtol, maxfev, epsfcn, factor, diag)\u001b[0m\n\u001b[1;32m    426\u001b[0m     \u001b[39mif\u001b[39;00m maxfev \u001b[39m==\u001b[39m \u001b[39m0\u001b[39m:\n\u001b[1;32m    427\u001b[0m         maxfev \u001b[39m=\u001b[39m \u001b[39m200\u001b[39m\u001b[39m*\u001b[39m(n \u001b[39m+\u001b[39m \u001b[39m1\u001b[39m)\n\u001b[0;32m--> 428\u001b[0m     retval \u001b[39m=\u001b[39m _minpack\u001b[39m.\u001b[39;49m_lmdif(func, x0, args, full_output, ftol, xtol,\n\u001b[1;32m    429\u001b[0m                              gtol, maxfev, epsfcn, factor, diag)\n\u001b[1;32m    430\u001b[0m \u001b[39melse\u001b[39;00m:\n\u001b[1;32m    431\u001b[0m     \u001b[39mif\u001b[39;00m col_deriv:\n",
      "File \u001b[0;32m~/dev/master_ver2/venv/lib/python3.9/site-packages/scipy/optimize/_minpack_py.py:507\u001b[0m, in \u001b[0;36m_lightweight_memoizer.<locals>._memoized_func\u001b[0;34m(params)\u001b[0m\n\u001b[1;32m    504\u001b[0m \u001b[39mif\u001b[39;00m np\u001b[39m.\u001b[39mall(_memoized_func\u001b[39m.\u001b[39mlast_params \u001b[39m==\u001b[39m params):\n\u001b[1;32m    505\u001b[0m     \u001b[39mreturn\u001b[39;00m _memoized_func\u001b[39m.\u001b[39mlast_val\n\u001b[0;32m--> 507\u001b[0m val \u001b[39m=\u001b[39m f(params)\n\u001b[1;32m    509\u001b[0m \u001b[39mif\u001b[39;00m _memoized_func\u001b[39m.\u001b[39mlast_params \u001b[39mis\u001b[39;00m \u001b[39mNone\u001b[39;00m:\n\u001b[1;32m    510\u001b[0m     _memoized_func\u001b[39m.\u001b[39mlast_params \u001b[39m=\u001b[39m np\u001b[39m.\u001b[39mcopy(params)\n",
      "File \u001b[0;32m~/dev/master_ver2/venv/lib/python3.9/site-packages/scipy/optimize/_minpack_py.py:523\u001b[0m, in \u001b[0;36m_wrap_func.<locals>.func_wrapped\u001b[0;34m(params)\u001b[0m\n\u001b[1;32m    522\u001b[0m \u001b[39mdef\u001b[39;00m \u001b[39mfunc_wrapped\u001b[39m(params):\n\u001b[0;32m--> 523\u001b[0m     \u001b[39mreturn\u001b[39;00m func(xdata, \u001b[39m*\u001b[39;49mparams) \u001b[39m-\u001b[39m ydata\n",
      "\u001b[1;32m/Users/yiadka/dev/master_ver2/src/test.ipynb Cell 7\u001b[0m line \u001b[0;36m6\n\u001b[1;32m      <a href='vscode-notebook-cell:/Users/yiadka/dev/master_ver2/src/test.ipynb#W6sZmlsZQ%3D%3D?line=2'>3</a>\u001b[0m \u001b[39m# a = np.linspace(0, 1, 1000)\u001b[39;00m\n\u001b[1;32m      <a href='vscode-notebook-cell:/Users/yiadka/dev/master_ver2/src/test.ipynb#W6sZmlsZQ%3D%3D?line=3'>4</a>\u001b[0m \u001b[39m# f = ((a**(alpha-1)) * ((1-a)**(beta-1)) / stats.beta.rvs(alpha, beta, size=1) ) * (1 - (((alpha + beta) / alpha) * 2*a*x[0])/(Np**2-Np))**(Np - 1)\u001b[39;00m\n\u001b[1;32m      <a href='vscode-notebook-cell:/Users/yiadka/dev/master_ver2/src/test.ipynb#W6sZmlsZQ%3D%3D?line=4'>5</a>\u001b[0m f \u001b[39m=\u001b[39m \u001b[39mlambda\u001b[39;00m a: ((a\u001b[39m*\u001b[39m\u001b[39m*\u001b[39m(alpha\u001b[39m-\u001b[39m\u001b[39m1\u001b[39m)) \u001b[39m*\u001b[39m ((\u001b[39m1\u001b[39m\u001b[39m-\u001b[39ma)\u001b[39m*\u001b[39m\u001b[39m*\u001b[39m(beta\u001b[39m-\u001b[39m\u001b[39m1\u001b[39m)) \u001b[39m/\u001b[39m stats\u001b[39m.\u001b[39mbeta\u001b[39m.\u001b[39mrvs(alpha, beta, size\u001b[39m=\u001b[39m\u001b[39m1\u001b[39m) ) \u001b[39m*\u001b[39m (\u001b[39m1\u001b[39m \u001b[39m-\u001b[39m (((alpha \u001b[39m+\u001b[39m beta) \u001b[39m/\u001b[39m alpha) \u001b[39m*\u001b[39m \u001b[39m2\u001b[39m\u001b[39m*\u001b[39ma\u001b[39m*\u001b[39mx[\u001b[39m0\u001b[39m])\u001b[39m/\u001b[39m(Np\u001b[39m*\u001b[39m\u001b[39m*\u001b[39m\u001b[39m2\u001b[39m\u001b[39m-\u001b[39mNp))\u001b[39m*\u001b[39m\u001b[39m*\u001b[39m(Np \u001b[39m-\u001b[39m \u001b[39m1\u001b[39m)\n\u001b[0;32m----> <a href='vscode-notebook-cell:/Users/yiadka/dev/master_ver2/src/test.ipynb#W6sZmlsZQ%3D%3D?line=5'>6</a>\u001b[0m ff, _ \u001b[39m=\u001b[39m integrate\u001b[39m.\u001b[39;49mquad(f, \u001b[39m0\u001b[39;49m, \u001b[39m1\u001b[39;49m, limit\u001b[39m=\u001b[39;49m\u001b[39m300000\u001b[39;49m)  \u001b[39m# 積分の値と推定誤差を別々に受け取る\u001b[39;00m\n\u001b[1;32m      <a href='vscode-notebook-cell:/Users/yiadka/dev/master_ver2/src/test.ipynb#W6sZmlsZQ%3D%3D?line=6'>7</a>\u001b[0m func \u001b[39m=\u001b[39m Np \u001b[39m*\u001b[39m (\u001b[39m1\u001b[39m \u001b[39m-\u001b[39m ff) \n\u001b[1;32m      <a href='vscode-notebook-cell:/Users/yiadka/dev/master_ver2/src/test.ipynb#W6sZmlsZQ%3D%3D?line=7'>8</a>\u001b[0m \u001b[39mreturn\u001b[39;00m func\n",
      "File \u001b[0;32m~/dev/master_ver2/venv/lib/python3.9/site-packages/scipy/integrate/_quadpack_py.py:465\u001b[0m, in \u001b[0;36mquad\u001b[0;34m(func, a, b, args, full_output, epsabs, epsrel, limit, points, weight, wvar, wopts, maxp1, limlst, complex_func)\u001b[0m\n\u001b[1;32m    462\u001b[0m     \u001b[39mreturn\u001b[39;00m retval\n\u001b[1;32m    464\u001b[0m \u001b[39mif\u001b[39;00m weight \u001b[39mis\u001b[39;00m \u001b[39mNone\u001b[39;00m:\n\u001b[0;32m--> 465\u001b[0m     retval \u001b[39m=\u001b[39m _quad(func, a, b, args, full_output, epsabs, epsrel, limit,\n\u001b[1;32m    466\u001b[0m                    points)\n\u001b[1;32m    467\u001b[0m \u001b[39melse\u001b[39;00m:\n\u001b[1;32m    468\u001b[0m     \u001b[39mif\u001b[39;00m points \u001b[39mis\u001b[39;00m \u001b[39mnot\u001b[39;00m \u001b[39mNone\u001b[39;00m:\n",
      "File \u001b[0;32m~/dev/master_ver2/venv/lib/python3.9/site-packages/scipy/integrate/_quadpack_py.py:577\u001b[0m, in \u001b[0;36m_quad\u001b[0;34m(func, a, b, args, full_output, epsabs, epsrel, limit, points)\u001b[0m\n\u001b[1;32m    575\u001b[0m \u001b[39mif\u001b[39;00m points \u001b[39mis\u001b[39;00m \u001b[39mNone\u001b[39;00m:\n\u001b[1;32m    576\u001b[0m     \u001b[39mif\u001b[39;00m infbounds \u001b[39m==\u001b[39m \u001b[39m0\u001b[39m:\n\u001b[0;32m--> 577\u001b[0m         \u001b[39mreturn\u001b[39;00m _quadpack\u001b[39m.\u001b[39;49m_qagse(func,a,b,args,full_output,epsabs,epsrel,limit)\n\u001b[1;32m    578\u001b[0m     \u001b[39melse\u001b[39;00m:\n\u001b[1;32m    579\u001b[0m         \u001b[39mreturn\u001b[39;00m _quadpack\u001b[39m.\u001b[39m_qagie(func,bound,infbounds,args,full_output,epsabs,epsrel,limit)\n",
      "\u001b[1;32m/Users/yiadka/dev/master_ver2/src/test.ipynb Cell 7\u001b[0m line \u001b[0;36m5\n\u001b[1;32m      <a href='vscode-notebook-cell:/Users/yiadka/dev/master_ver2/src/test.ipynb#W6sZmlsZQ%3D%3D?line=1'>2</a>\u001b[0m Np \u001b[39m=\u001b[39m \u001b[39m744\u001b[39m\n\u001b[1;32m      <a href='vscode-notebook-cell:/Users/yiadka/dev/master_ver2/src/test.ipynb#W6sZmlsZQ%3D%3D?line=2'>3</a>\u001b[0m \u001b[39m# a = np.linspace(0, 1, 1000)\u001b[39;00m\n\u001b[1;32m      <a href='vscode-notebook-cell:/Users/yiadka/dev/master_ver2/src/test.ipynb#W6sZmlsZQ%3D%3D?line=3'>4</a>\u001b[0m \u001b[39m# f = ((a**(alpha-1)) * ((1-a)**(beta-1)) / stats.beta.rvs(alpha, beta, size=1) ) * (1 - (((alpha + beta) / alpha) * 2*a*x[0])/(Np**2-Np))**(Np - 1)\u001b[39;00m\n\u001b[0;32m----> <a href='vscode-notebook-cell:/Users/yiadka/dev/master_ver2/src/test.ipynb#W6sZmlsZQ%3D%3D?line=4'>5</a>\u001b[0m f \u001b[39m=\u001b[39m \u001b[39mlambda\u001b[39;00m a: ((a\u001b[39m*\u001b[39m\u001b[39m*\u001b[39m(alpha\u001b[39m-\u001b[39m\u001b[39m1\u001b[39m)) \u001b[39m*\u001b[39m ((\u001b[39m1\u001b[39m\u001b[39m-\u001b[39ma)\u001b[39m*\u001b[39m\u001b[39m*\u001b[39m(beta\u001b[39m-\u001b[39m\u001b[39m1\u001b[39m)) \u001b[39m/\u001b[39m stats\u001b[39m.\u001b[39;49mbeta\u001b[39m.\u001b[39;49mrvs(alpha, beta, size\u001b[39m=\u001b[39;49m\u001b[39m1\u001b[39;49m) ) \u001b[39m*\u001b[39m (\u001b[39m1\u001b[39m \u001b[39m-\u001b[39m (((alpha \u001b[39m+\u001b[39m beta) \u001b[39m/\u001b[39m alpha) \u001b[39m*\u001b[39m \u001b[39m2\u001b[39m\u001b[39m*\u001b[39ma\u001b[39m*\u001b[39mx[\u001b[39m0\u001b[39m])\u001b[39m/\u001b[39m(Np\u001b[39m*\u001b[39m\u001b[39m*\u001b[39m\u001b[39m2\u001b[39m\u001b[39m-\u001b[39mNp))\u001b[39m*\u001b[39m\u001b[39m*\u001b[39m(Np \u001b[39m-\u001b[39m \u001b[39m1\u001b[39m)\n\u001b[1;32m      <a href='vscode-notebook-cell:/Users/yiadka/dev/master_ver2/src/test.ipynb#W6sZmlsZQ%3D%3D?line=5'>6</a>\u001b[0m ff, _ \u001b[39m=\u001b[39m integrate\u001b[39m.\u001b[39mquad(f, \u001b[39m0\u001b[39m, \u001b[39m1\u001b[39m, limit\u001b[39m=\u001b[39m\u001b[39m300000\u001b[39m)  \u001b[39m# 積分の値と推定誤差を別々に受け取る\u001b[39;00m\n\u001b[1;32m      <a href='vscode-notebook-cell:/Users/yiadka/dev/master_ver2/src/test.ipynb#W6sZmlsZQ%3D%3D?line=6'>7</a>\u001b[0m func \u001b[39m=\u001b[39m Np \u001b[39m*\u001b[39m (\u001b[39m1\u001b[39m \u001b[39m-\u001b[39m ff) \n",
      "File \u001b[0;32m~/dev/master_ver2/venv/lib/python3.9/site-packages/scipy/stats/_distn_infrastructure.py:1055\u001b[0m, in \u001b[0;36mrv_generic.rvs\u001b[0;34m(self, *args, **kwds)\u001b[0m\n\u001b[1;32m   1049\u001b[0m \u001b[39mif\u001b[39;00m \u001b[39mnot\u001b[39;00m np\u001b[39m.\u001b[39mall(cond):\n\u001b[1;32m   1050\u001b[0m     message \u001b[39m=\u001b[39m (\u001b[39m\"\u001b[39m\u001b[39mDomain error in arguments. The `scale` parameter must \u001b[39m\u001b[39m\"\u001b[39m\n\u001b[1;32m   1051\u001b[0m                \u001b[39m\"\u001b[39m\u001b[39mbe positive for all distributions, and many \u001b[39m\u001b[39m\"\u001b[39m\n\u001b[1;32m   1052\u001b[0m                \u001b[39m\"\u001b[39m\u001b[39mdistributions have restrictions on shape parameters. \u001b[39m\u001b[39m\"\u001b[39m\n\u001b[1;32m   1053\u001b[0m                \u001b[39mf\u001b[39m\u001b[39m\"\u001b[39m\u001b[39mPlease see the `scipy.stats.\u001b[39m\u001b[39m{\u001b[39;00m\u001b[39mself\u001b[39m\u001b[39m.\u001b[39mname\u001b[39m}\u001b[39;00m\u001b[39m` \u001b[39m\u001b[39m\"\u001b[39m\n\u001b[1;32m   1054\u001b[0m                \u001b[39m\"\u001b[39m\u001b[39mdocumentation for details.\u001b[39m\u001b[39m\"\u001b[39m)\n\u001b[0;32m-> 1055\u001b[0m     \u001b[39mraise\u001b[39;00m \u001b[39mValueError\u001b[39;00m(message)\n\u001b[1;32m   1057\u001b[0m \u001b[39mif\u001b[39;00m np\u001b[39m.\u001b[39mall(scale \u001b[39m==\u001b[39m \u001b[39m0\u001b[39m):\n\u001b[1;32m   1058\u001b[0m     \u001b[39mreturn\u001b[39;00m loc\u001b[39m*\u001b[39mones(size, \u001b[39m'\u001b[39m\u001b[39md\u001b[39m\u001b[39m'\u001b[39m)\n",
      "\u001b[0;31mValueError\u001b[0m: Domain error in arguments. The `scale` parameter must be positive for all distributions, and many distributions have restrictions on shape parameters. Please see the `scipy.stats.beta` documentation for details."
     ]
    }
   ],
   "source": [
    "print(\"+------------------+\")\n",
    "print(\"| Estimating       |\")\n",
    "print(\"+------------------+\")\n",
    "\n",
    "params, _ = optimize.curve_fit(model_beta, xdata=edge_right, ydata=node_right, p0=[2, 6])"
   ]
  },
  {
   "cell_type": "code",
   "execution_count": 184,
   "metadata": {},
   "outputs": [
    {
     "name": "stdout",
     "output_type": "stream",
     "text": [
      "alpha:  0.2\n",
      "beta:  6.0\n"
     ]
    }
   ],
   "source": [
    "print(\"alpha: \", params[0])\n",
    "print(\"beta: \", params[1])"
   ]
  },
  {
   "cell_type": "code",
   "execution_count": 185,
   "metadata": {},
   "outputs": [
    {
     "name": "stderr",
     "output_type": "stream",
     "text": [
      "/var/folders/pm/4cgtm7w90fbgczj718s4vvk40000gn/T/ipykernel_33822/1343645223.py:5: IntegrationWarning: The integral is probably divergent, or slowly convergent.\n",
      "  ff, _ = integrate.quad(f, 0, 1, limit=10000)\n",
      "/var/folders/pm/4cgtm7w90fbgczj718s4vvk40000gn/T/ipykernel_33822/1343645223.py:5: IntegrationWarning: The algorithm does not converge.  Roundoff error is detected\n",
      "  in the extrapolation table.  It is assumed that the requested tolerance\n",
      "  cannot be achieved, and that the returned result (if full_output = 1) is \n",
      "  the best which can be obtained.\n",
      "  ff, _ = integrate.quad(f, 0, 1, limit=10000)\n",
      "/var/folders/pm/4cgtm7w90fbgczj718s4vvk40000gn/T/ipykernel_33822/1343645223.py:5: IntegrationWarning: The maximum number of subdivisions (10000) has been achieved.\n",
      "  If increasing the limit yields no improvement it is advised to analyze \n",
      "  the integrand in order to determine the difficulties.  If the position of a \n",
      "  local difficulty can be determined (singularity, discontinuity) one will \n",
      "  probably gain from splitting up the interval and calling the integrator \n",
      "  on the subranges.  Perhaps a special-purpose integrator should be used.\n",
      "  ff, _ = integrate.quad(f, 0, 1, limit=10000)\n"
     ]
    }
   ],
   "source": [
    "Np = max(node_right)\n",
    "N = []\n",
    "for i in range(len(edge_right)):\n",
    "    f = lambda a: ((a**(params[0]-1)) * ((1-a)**(params[1]-1)) / stats.beta.rvs(params[0], params[1])) * (1 - ((params[0] + params[1]) / params[0]) * ((2 * edge_right[i] * a) / (Np**2 - Np))) ** (Np - 1)\n",
    "    ff, _ = integrate.quad(f, 0, 1, limit=10000)\n",
    "    N.append(Np * (1 - ff)) "
   ]
  },
  {
   "cell_type": "code",
   "execution_count": 186,
   "metadata": {},
   "outputs": [
    {
     "name": "stderr",
     "output_type": "stream",
     "text": [
      "/Users/yiadka/dev/master_ver2/venv/lib/python3.9/site-packages/matplotlib/ticker.py:2392: RuntimeWarning: overflow encountered in power\n",
      "  ticklocs = b ** decades\n"
     ]
    },
    {
     "ename": "OverflowError",
     "evalue": "cannot convert float infinity to integer",
     "output_type": "error",
     "traceback": [
      "\u001b[0;31m---------------------------------------------------------------------------\u001b[0m",
      "\u001b[0;31mOverflowError\u001b[0m                             Traceback (most recent call last)",
      "File \u001b[0;32m~/dev/master_ver2/venv/lib/python3.9/site-packages/IPython/core/formatters.py:340\u001b[0m, in \u001b[0;36mBaseFormatter.__call__\u001b[0;34m(self, obj)\u001b[0m\n\u001b[1;32m    338\u001b[0m     \u001b[39mpass\u001b[39;00m\n\u001b[1;32m    339\u001b[0m \u001b[39melse\u001b[39;00m:\n\u001b[0;32m--> 340\u001b[0m     \u001b[39mreturn\u001b[39;00m printer(obj)\n\u001b[1;32m    341\u001b[0m \u001b[39m# Finally look for special method names\u001b[39;00m\n\u001b[1;32m    342\u001b[0m method \u001b[39m=\u001b[39m get_real_method(obj, \u001b[39mself\u001b[39m\u001b[39m.\u001b[39mprint_method)\n",
      "File \u001b[0;32m~/dev/master_ver2/venv/lib/python3.9/site-packages/IPython/core/pylabtools.py:152\u001b[0m, in \u001b[0;36mprint_figure\u001b[0;34m(fig, fmt, bbox_inches, base64, **kwargs)\u001b[0m\n\u001b[1;32m    149\u001b[0m     \u001b[39mfrom\u001b[39;00m \u001b[39mmatplotlib\u001b[39;00m\u001b[39m.\u001b[39;00m\u001b[39mbackend_bases\u001b[39;00m \u001b[39mimport\u001b[39;00m FigureCanvasBase\n\u001b[1;32m    150\u001b[0m     FigureCanvasBase(fig)\n\u001b[0;32m--> 152\u001b[0m fig\u001b[39m.\u001b[39;49mcanvas\u001b[39m.\u001b[39;49mprint_figure(bytes_io, \u001b[39m*\u001b[39;49m\u001b[39m*\u001b[39;49mkw)\n\u001b[1;32m    153\u001b[0m data \u001b[39m=\u001b[39m bytes_io\u001b[39m.\u001b[39mgetvalue()\n\u001b[1;32m    154\u001b[0m \u001b[39mif\u001b[39;00m fmt \u001b[39m==\u001b[39m \u001b[39m'\u001b[39m\u001b[39msvg\u001b[39m\u001b[39m'\u001b[39m:\n",
      "File \u001b[0;32m~/dev/master_ver2/venv/lib/python3.9/site-packages/matplotlib/backend_bases.py:2158\u001b[0m, in \u001b[0;36mFigureCanvasBase.print_figure\u001b[0;34m(self, filename, dpi, facecolor, edgecolor, orientation, format, bbox_inches, pad_inches, bbox_extra_artists, backend, **kwargs)\u001b[0m\n\u001b[1;32m   2155\u001b[0m     \u001b[39m# we do this instead of `self.figure.draw_without_rendering`\u001b[39;00m\n\u001b[1;32m   2156\u001b[0m     \u001b[39m# so that we can inject the orientation\u001b[39;00m\n\u001b[1;32m   2157\u001b[0m     \u001b[39mwith\u001b[39;00m \u001b[39mgetattr\u001b[39m(renderer, \u001b[39m\"\u001b[39m\u001b[39m_draw_disabled\u001b[39m\u001b[39m\"\u001b[39m, nullcontext)():\n\u001b[0;32m-> 2158\u001b[0m         \u001b[39mself\u001b[39;49m\u001b[39m.\u001b[39;49mfigure\u001b[39m.\u001b[39;49mdraw(renderer)\n\u001b[1;32m   2159\u001b[0m \u001b[39mif\u001b[39;00m bbox_inches:\n\u001b[1;32m   2160\u001b[0m     \u001b[39mif\u001b[39;00m bbox_inches \u001b[39m==\u001b[39m \u001b[39m\"\u001b[39m\u001b[39mtight\u001b[39m\u001b[39m\"\u001b[39m:\n",
      "File \u001b[0;32m~/dev/master_ver2/venv/lib/python3.9/site-packages/matplotlib/artist.py:95\u001b[0m, in \u001b[0;36m_finalize_rasterization.<locals>.draw_wrapper\u001b[0;34m(artist, renderer, *args, **kwargs)\u001b[0m\n\u001b[1;32m     93\u001b[0m \u001b[39m@wraps\u001b[39m(draw)\n\u001b[1;32m     94\u001b[0m \u001b[39mdef\u001b[39;00m \u001b[39mdraw_wrapper\u001b[39m(artist, renderer, \u001b[39m*\u001b[39margs, \u001b[39m*\u001b[39m\u001b[39m*\u001b[39mkwargs):\n\u001b[0;32m---> 95\u001b[0m     result \u001b[39m=\u001b[39m draw(artist, renderer, \u001b[39m*\u001b[39;49margs, \u001b[39m*\u001b[39;49m\u001b[39m*\u001b[39;49mkwargs)\n\u001b[1;32m     96\u001b[0m     \u001b[39mif\u001b[39;00m renderer\u001b[39m.\u001b[39m_rasterizing:\n\u001b[1;32m     97\u001b[0m         renderer\u001b[39m.\u001b[39mstop_rasterizing()\n",
      "File \u001b[0;32m~/dev/master_ver2/venv/lib/python3.9/site-packages/matplotlib/artist.py:72\u001b[0m, in \u001b[0;36mallow_rasterization.<locals>.draw_wrapper\u001b[0;34m(artist, renderer)\u001b[0m\n\u001b[1;32m     69\u001b[0m     \u001b[39mif\u001b[39;00m artist\u001b[39m.\u001b[39mget_agg_filter() \u001b[39mis\u001b[39;00m \u001b[39mnot\u001b[39;00m \u001b[39mNone\u001b[39;00m:\n\u001b[1;32m     70\u001b[0m         renderer\u001b[39m.\u001b[39mstart_filter()\n\u001b[0;32m---> 72\u001b[0m     \u001b[39mreturn\u001b[39;00m draw(artist, renderer)\n\u001b[1;32m     73\u001b[0m \u001b[39mfinally\u001b[39;00m:\n\u001b[1;32m     74\u001b[0m     \u001b[39mif\u001b[39;00m artist\u001b[39m.\u001b[39mget_agg_filter() \u001b[39mis\u001b[39;00m \u001b[39mnot\u001b[39;00m \u001b[39mNone\u001b[39;00m:\n",
      "File \u001b[0;32m~/dev/master_ver2/venv/lib/python3.9/site-packages/matplotlib/figure.py:3154\u001b[0m, in \u001b[0;36mFigure.draw\u001b[0;34m(self, renderer)\u001b[0m\n\u001b[1;32m   3151\u001b[0m         \u001b[39m# ValueError can occur when resizing a window.\u001b[39;00m\n\u001b[1;32m   3153\u001b[0m \u001b[39mself\u001b[39m\u001b[39m.\u001b[39mpatch\u001b[39m.\u001b[39mdraw(renderer)\n\u001b[0;32m-> 3154\u001b[0m mimage\u001b[39m.\u001b[39;49m_draw_list_compositing_images(\n\u001b[1;32m   3155\u001b[0m     renderer, \u001b[39mself\u001b[39;49m, artists, \u001b[39mself\u001b[39;49m\u001b[39m.\u001b[39;49msuppressComposite)\n\u001b[1;32m   3157\u001b[0m \u001b[39mfor\u001b[39;00m sfig \u001b[39min\u001b[39;00m \u001b[39mself\u001b[39m\u001b[39m.\u001b[39msubfigs:\n\u001b[1;32m   3158\u001b[0m     sfig\u001b[39m.\u001b[39mdraw(renderer)\n",
      "File \u001b[0;32m~/dev/master_ver2/venv/lib/python3.9/site-packages/matplotlib/image.py:132\u001b[0m, in \u001b[0;36m_draw_list_compositing_images\u001b[0;34m(renderer, parent, artists, suppress_composite)\u001b[0m\n\u001b[1;32m    130\u001b[0m \u001b[39mif\u001b[39;00m not_composite \u001b[39mor\u001b[39;00m \u001b[39mnot\u001b[39;00m has_images:\n\u001b[1;32m    131\u001b[0m     \u001b[39mfor\u001b[39;00m a \u001b[39min\u001b[39;00m artists:\n\u001b[0;32m--> 132\u001b[0m         a\u001b[39m.\u001b[39;49mdraw(renderer)\n\u001b[1;32m    133\u001b[0m \u001b[39melse\u001b[39;00m:\n\u001b[1;32m    134\u001b[0m     \u001b[39m# Composite any adjacent images together\u001b[39;00m\n\u001b[1;32m    135\u001b[0m     image_group \u001b[39m=\u001b[39m []\n",
      "File \u001b[0;32m~/dev/master_ver2/venv/lib/python3.9/site-packages/matplotlib/artist.py:72\u001b[0m, in \u001b[0;36mallow_rasterization.<locals>.draw_wrapper\u001b[0;34m(artist, renderer)\u001b[0m\n\u001b[1;32m     69\u001b[0m     \u001b[39mif\u001b[39;00m artist\u001b[39m.\u001b[39mget_agg_filter() \u001b[39mis\u001b[39;00m \u001b[39mnot\u001b[39;00m \u001b[39mNone\u001b[39;00m:\n\u001b[1;32m     70\u001b[0m         renderer\u001b[39m.\u001b[39mstart_filter()\n\u001b[0;32m---> 72\u001b[0m     \u001b[39mreturn\u001b[39;00m draw(artist, renderer)\n\u001b[1;32m     73\u001b[0m \u001b[39mfinally\u001b[39;00m:\n\u001b[1;32m     74\u001b[0m     \u001b[39mif\u001b[39;00m artist\u001b[39m.\u001b[39mget_agg_filter() \u001b[39mis\u001b[39;00m \u001b[39mnot\u001b[39;00m \u001b[39mNone\u001b[39;00m:\n",
      "File \u001b[0;32m~/dev/master_ver2/venv/lib/python3.9/site-packages/matplotlib/axes/_base.py:3070\u001b[0m, in \u001b[0;36m_AxesBase.draw\u001b[0;34m(self, renderer)\u001b[0m\n\u001b[1;32m   3067\u001b[0m \u001b[39mif\u001b[39;00m artists_rasterized:\n\u001b[1;32m   3068\u001b[0m     _draw_rasterized(\u001b[39mself\u001b[39m\u001b[39m.\u001b[39mfigure, artists_rasterized, renderer)\n\u001b[0;32m-> 3070\u001b[0m mimage\u001b[39m.\u001b[39;49m_draw_list_compositing_images(\n\u001b[1;32m   3071\u001b[0m     renderer, \u001b[39mself\u001b[39;49m, artists, \u001b[39mself\u001b[39;49m\u001b[39m.\u001b[39;49mfigure\u001b[39m.\u001b[39;49msuppressComposite)\n\u001b[1;32m   3073\u001b[0m renderer\u001b[39m.\u001b[39mclose_group(\u001b[39m'\u001b[39m\u001b[39maxes\u001b[39m\u001b[39m'\u001b[39m)\n\u001b[1;32m   3074\u001b[0m \u001b[39mself\u001b[39m\u001b[39m.\u001b[39mstale \u001b[39m=\u001b[39m \u001b[39mFalse\u001b[39;00m\n",
      "File \u001b[0;32m~/dev/master_ver2/venv/lib/python3.9/site-packages/matplotlib/image.py:132\u001b[0m, in \u001b[0;36m_draw_list_compositing_images\u001b[0;34m(renderer, parent, artists, suppress_composite)\u001b[0m\n\u001b[1;32m    130\u001b[0m \u001b[39mif\u001b[39;00m not_composite \u001b[39mor\u001b[39;00m \u001b[39mnot\u001b[39;00m has_images:\n\u001b[1;32m    131\u001b[0m     \u001b[39mfor\u001b[39;00m a \u001b[39min\u001b[39;00m artists:\n\u001b[0;32m--> 132\u001b[0m         a\u001b[39m.\u001b[39;49mdraw(renderer)\n\u001b[1;32m    133\u001b[0m \u001b[39melse\u001b[39;00m:\n\u001b[1;32m    134\u001b[0m     \u001b[39m# Composite any adjacent images together\u001b[39;00m\n\u001b[1;32m    135\u001b[0m     image_group \u001b[39m=\u001b[39m []\n",
      "File \u001b[0;32m~/dev/master_ver2/venv/lib/python3.9/site-packages/matplotlib/artist.py:72\u001b[0m, in \u001b[0;36mallow_rasterization.<locals>.draw_wrapper\u001b[0;34m(artist, renderer)\u001b[0m\n\u001b[1;32m     69\u001b[0m     \u001b[39mif\u001b[39;00m artist\u001b[39m.\u001b[39mget_agg_filter() \u001b[39mis\u001b[39;00m \u001b[39mnot\u001b[39;00m \u001b[39mNone\u001b[39;00m:\n\u001b[1;32m     70\u001b[0m         renderer\u001b[39m.\u001b[39mstart_filter()\n\u001b[0;32m---> 72\u001b[0m     \u001b[39mreturn\u001b[39;00m draw(artist, renderer)\n\u001b[1;32m     73\u001b[0m \u001b[39mfinally\u001b[39;00m:\n\u001b[1;32m     74\u001b[0m     \u001b[39mif\u001b[39;00m artist\u001b[39m.\u001b[39mget_agg_filter() \u001b[39mis\u001b[39;00m \u001b[39mnot\u001b[39;00m \u001b[39mNone\u001b[39;00m:\n",
      "File \u001b[0;32m~/dev/master_ver2/venv/lib/python3.9/site-packages/matplotlib/axis.py:1387\u001b[0m, in \u001b[0;36mAxis.draw\u001b[0;34m(self, renderer, *args, **kwargs)\u001b[0m\n\u001b[1;32m   1384\u001b[0m     \u001b[39mreturn\u001b[39;00m\n\u001b[1;32m   1385\u001b[0m renderer\u001b[39m.\u001b[39mopen_group(\u001b[39m__name__\u001b[39m, gid\u001b[39m=\u001b[39m\u001b[39mself\u001b[39m\u001b[39m.\u001b[39mget_gid())\n\u001b[0;32m-> 1387\u001b[0m ticks_to_draw \u001b[39m=\u001b[39m \u001b[39mself\u001b[39;49m\u001b[39m.\u001b[39;49m_update_ticks()\n\u001b[1;32m   1388\u001b[0m tlb1, tlb2 \u001b[39m=\u001b[39m \u001b[39mself\u001b[39m\u001b[39m.\u001b[39m_get_ticklabel_bboxes(ticks_to_draw, renderer)\n\u001b[1;32m   1390\u001b[0m \u001b[39mfor\u001b[39;00m tick \u001b[39min\u001b[39;00m ticks_to_draw:\n",
      "File \u001b[0;32m~/dev/master_ver2/venv/lib/python3.9/site-packages/matplotlib/axis.py:1276\u001b[0m, in \u001b[0;36mAxis._update_ticks\u001b[0;34m(self)\u001b[0m\n\u001b[1;32m   1271\u001b[0m \u001b[39m\u001b[39m\u001b[39m\"\"\"\u001b[39;00m\n\u001b[1;32m   1272\u001b[0m \u001b[39mUpdate ticks (position and labels) using the current data interval of\u001b[39;00m\n\u001b[1;32m   1273\u001b[0m \u001b[39mthe axes.  Return the list of ticks that will be drawn.\u001b[39;00m\n\u001b[1;32m   1274\u001b[0m \u001b[39m\"\"\"\u001b[39;00m\n\u001b[1;32m   1275\u001b[0m major_locs \u001b[39m=\u001b[39m \u001b[39mself\u001b[39m\u001b[39m.\u001b[39mget_majorticklocs()\n\u001b[0;32m-> 1276\u001b[0m major_labels \u001b[39m=\u001b[39m \u001b[39mself\u001b[39;49m\u001b[39m.\u001b[39;49mmajor\u001b[39m.\u001b[39;49mformatter\u001b[39m.\u001b[39;49mformat_ticks(major_locs)\n\u001b[1;32m   1277\u001b[0m major_ticks \u001b[39m=\u001b[39m \u001b[39mself\u001b[39m\u001b[39m.\u001b[39mget_major_ticks(\u001b[39mlen\u001b[39m(major_locs))\n\u001b[1;32m   1278\u001b[0m \u001b[39mfor\u001b[39;00m tick, loc, label \u001b[39min\u001b[39;00m \u001b[39mzip\u001b[39m(major_ticks, major_locs, major_labels):\n",
      "File \u001b[0;32m~/dev/master_ver2/venv/lib/python3.9/site-packages/matplotlib/ticker.py:216\u001b[0m, in \u001b[0;36mFormatter.format_ticks\u001b[0;34m(self, values)\u001b[0m\n\u001b[1;32m    214\u001b[0m \u001b[39m\u001b[39m\u001b[39m\"\"\"Return the tick labels for all the ticks at once.\"\"\"\u001b[39;00m\n\u001b[1;32m    215\u001b[0m \u001b[39mself\u001b[39m\u001b[39m.\u001b[39mset_locs(values)\n\u001b[0;32m--> 216\u001b[0m \u001b[39mreturn\u001b[39;00m [\u001b[39mself\u001b[39m(value, i) \u001b[39mfor\u001b[39;00m i, value \u001b[39min\u001b[39;00m \u001b[39menumerate\u001b[39m(values)]\n",
      "File \u001b[0;32m~/dev/master_ver2/venv/lib/python3.9/site-packages/matplotlib/ticker.py:216\u001b[0m, in \u001b[0;36m<listcomp>\u001b[0;34m(.0)\u001b[0m\n\u001b[1;32m    214\u001b[0m \u001b[39m\u001b[39m\u001b[39m\"\"\"Return the tick labels for all the ticks at once.\"\"\"\u001b[39;00m\n\u001b[1;32m    215\u001b[0m \u001b[39mself\u001b[39m\u001b[39m.\u001b[39mset_locs(values)\n\u001b[0;32m--> 216\u001b[0m \u001b[39mreturn\u001b[39;00m [\u001b[39mself\u001b[39;49m(value, i) \u001b[39mfor\u001b[39;00m i, value \u001b[39min\u001b[39;00m \u001b[39menumerate\u001b[39m(values)]\n",
      "File \u001b[0;32m~/dev/master_ver2/venv/lib/python3.9/site-packages/matplotlib/ticker.py:1066\u001b[0m, in \u001b[0;36mLogFormatterMathtext.__call__\u001b[0;34m(self, x, pos)\u001b[0m\n\u001b[1;32m   1064\u001b[0m \u001b[39m# only label the decades\u001b[39;00m\n\u001b[1;32m   1065\u001b[0m fx \u001b[39m=\u001b[39m math\u001b[39m.\u001b[39mlog(x) \u001b[39m/\u001b[39m math\u001b[39m.\u001b[39mlog(b)\n\u001b[0;32m-> 1066\u001b[0m is_x_decade \u001b[39m=\u001b[39m _is_close_to_int(fx)\n\u001b[1;32m   1067\u001b[0m exponent \u001b[39m=\u001b[39m \u001b[39mround\u001b[39m(fx) \u001b[39mif\u001b[39;00m is_x_decade \u001b[39melse\u001b[39;00m np\u001b[39m.\u001b[39mfloor(fx)\n\u001b[1;32m   1068\u001b[0m coeff \u001b[39m=\u001b[39m \u001b[39mround\u001b[39m(b \u001b[39m*\u001b[39m\u001b[39m*\u001b[39m (fx \u001b[39m-\u001b[39m exponent))\n",
      "File \u001b[0;32m~/dev/master_ver2/venv/lib/python3.9/site-packages/matplotlib/ticker.py:2239\u001b[0m, in \u001b[0;36m_is_close_to_int\u001b[0;34m(x)\u001b[0m\n\u001b[1;32m   2238\u001b[0m \u001b[39mdef\u001b[39;00m \u001b[39m_is_close_to_int\u001b[39m(x):\n\u001b[0;32m-> 2239\u001b[0m     \u001b[39mreturn\u001b[39;00m math\u001b[39m.\u001b[39misclose(x, \u001b[39mround\u001b[39;49m(x))\n",
      "\u001b[0;31mOverflowError\u001b[0m: cannot convert float infinity to integer"
     ]
    },
    {
     "data": {
      "text/plain": [
       "<Figure size 1000x600 with 1 Axes>"
      ]
     },
     "metadata": {},
     "output_type": "display_data"
    }
   ],
   "source": [
    "plt.figure(figsize=(10, 6))\n",
    "# plt.scatter(node_left, edge_left, label=\"left\")\n",
    "plt.scatter(node_right, edge_right, label=\"right\")\n",
    "plt.plot(node_right, N,label=\"model\", color=\"orange\")\n",
    "plt.xlabel(\"N\")\n",
    "plt.ylabel(\"M\")\n",
    "plt.xscale(\"log\")\n",
    "plt.yscale(\"log\")\n",
    "plt.legend()\n",
    "plt.show()\n"
   ]
  },
  {
   "cell_type": "code",
   "execution_count": 153,
   "metadata": {},
   "outputs": [],
   "source": [
    "# node_rightとedge_rightのデータ\n",
    "# node_right, edge_rightを正規化する\n",
    "node_right_nor = node_right - node_right.min() + 1\n",
    "edge_right_nor = edge_right - edge_right.min() + 2"
   ]
  },
  {
   "cell_type": "code",
   "execution_count": 158,
   "metadata": {},
   "outputs": [
    {
     "name": "stdout",
     "output_type": "stream",
     "text": [
      "+------------------+\n",
      "| Estimating       |\n",
      "+------------------+\n"
     ]
    },
    {
     "name": "stderr",
     "output_type": "stream",
     "text": [
      "/var/folders/pm/4cgtm7w90fbgczj718s4vvk40000gn/T/ipykernel_33822/3553080214.py:4: IntegrationWarning: The maximum number of subdivisions (50) has been achieved.\n",
      "  If increasing the limit yields no improvement it is advised to analyze \n",
      "  the integrand in order to determine the difficulties.  If the position of a \n",
      "  local difficulty can be determined (singularity, discontinuity) one will \n",
      "  probably gain from splitting up the interval and calling the integrator \n",
      "  on the subranges.  Perhaps a special-purpose integrator should be used.\n",
      "  ff, _ = integrate.quad(f, 0, 1)  # 積分の値と推定誤差を別々に受け取る\n"
     ]
    }
   ],
   "source": [
    "print(\"+------------------+\")\n",
    "print(\"| Estimating       |\")\n",
    "print(\"+------------------+\")\n",
    "\n",
    "# 初期値をランダムに設定\n",
    "np.random.seed()\n",
    "init_alpha = np.random.rand()\n",
    "init_beta = np.random.rand()\n",
    "\n",
    "params, _ = optimize.curve_fit(model_beta, xdata=edge_right, ydata=node_right, p0=[5, 5])"
   ]
  },
  {
   "cell_type": "code",
   "execution_count": 159,
   "metadata": {},
   "outputs": [
    {
     "name": "stdout",
     "output_type": "stream",
     "text": [
      "alpha:  4.99950669949843\n",
      "beta:  5.000178389680225\n"
     ]
    }
   ],
   "source": [
    "print(\"alpha: \", params[0])\n",
    "print(\"beta: \", params[1])"
   ]
  },
  {
   "cell_type": "code",
   "execution_count": 160,
   "metadata": {},
   "outputs": [],
   "source": [
    "Np = 744\n",
    "N = []\n",
    "for i in range(len(edge_right)):\n",
    "    f = lambda a: ((a**(params[0]-1)) * ((1-a)**(params[1]-1)) / stats.beta(params[0], params[1]).pdf(a)) * (1 - ((params[0] + params[1]) / params[0]) * ((2 * edge_right[i] * a) / (Np**2 - Np))) ** (Np - 1)\n",
    "    ff, _ = integrate.quad(f, 0, 1, limit=10000)\n",
    "    N.append(Np * (1 - ff)) "
   ]
  },
  {
   "cell_type": "code",
   "execution_count": 162,
   "metadata": {},
   "outputs": [
    {
     "data": {
      "image/png": "[encoded data removed]",
      "text/plain": [
       "<Figure size 1000x600 with 1 Axes>"
      ]
     },
     "metadata": {},
     "output_type": "display_data"
    }
   ],
   "source": [
    "plt.figure(figsize=(10, 6))\n",
    "# plt.scatter(node_left, edge_left, label=\"left\")\n",
    "plt.scatter(node_right, edge_right, label=\"right\")\n",
    "plt.scatter(node_right, N, label=\"model\", color=\"orange\")\n",
    "plt.xlabel(\"N\")\n",
    "plt.ylabel(\"M\")\n",
    "plt.xscale(\"log\")\n",
    "plt.yscale(\"log\")\n",
    "plt.legend()\n",
    "plt.show()\n"
   ]
  },
  {
   "cell_type": "code",
   "execution_count": null,
   "metadata": {},
   "outputs": [],
   "source": []
  }
 ],
 "metadata": {
  "kernelspec": {
   "display_name": "venv",
   "language": "python",
   "name": "python3"
  },
  "language_info": {
   "codemirror_mode": {
    "name": "ipython",
    "version": 3
   },
   "file_extension": ".py",
   "mimetype": "text/x-python",
   "name": "python",
   "nbconvert_exporter": "python",
   "pygments_lexer": "ipython3",
   "version": "3.9.6"
  }
 },
 "nbformat": 4,
 "nbformat_minor": 2
}
